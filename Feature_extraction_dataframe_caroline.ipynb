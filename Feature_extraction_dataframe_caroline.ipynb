{
 "cells": [
  {
   "cell_type": "code",
   "execution_count": 32,
   "metadata": {},
   "outputs": [],
   "source": [
    "import napari\n",
    "import imageio as io\n",
    "from pathlib import Path\n",
    "import numpy as np\n",
    "import h5py"
   ]
  },
  {
   "cell_type": "markdown",
   "metadata": {},
   "source": [
    "Create dataframe with regionprops features for each timnepoint"
   ]
  },
  {
   "cell_type": "code",
   "execution_count": 481,
   "metadata": {},
   "outputs": [],
   "source": [
    "from skimage.measure import regionprops_table\n",
    "import pandas as pd\n",
    "\n",
    "#extracts regionprops features from the mask area in one frame\n",
    "\n",
    "def measure_morphology_2D(label_timepoint):\n",
    "    \"\"\"\n",
    "    Measure the morphology features of a 2D label image.\n",
    "    Parameters:\n",
    "        label_image: ndarray\n",
    "            An ndarray in which each object is labelled with a unique value.\n",
    "        file_id: int or str\n",
    "            An ID number or string identifier for the file.\n",
    "        timepoint: int\n",
    "            The timepoint index for the frame.\n",
    "    Returns:\n",
    "        regionprops: pandas.DataFrame\n",
    "            Pandas DataFrame containing the measured morphology features for\n",
    "            every object.\n",
    "    \"\"\"\n",
    "\n",
    "    # measure regionprops for each timepoint\n",
    "    features = ('label', 'area', 'convex_area', 'centroid_local', 'eccentricity', 'equivalent_diameter', 'extent', \n",
    "                'moments_central', 'moments_hu', \n",
    "                'axis_major_length', 'axis_minor_length', 'perimeter', 'solidity')\n",
    "\n",
    "    regionprops = pd.DataFrame(\n",
    "        regionprops_table(label_image=label_timepoint, properties=features))\n",
    "    \n",
    "    \n",
    "\n",
    "    return regionprops\n"
   ]
  },
  {
   "cell_type": "code",
   "execution_count": 482,
   "metadata": {},
   "outputs": [],
   "source": [
    "#loops over all the timepoints within a file and appends timepoint and the features for each timepoint to the dataframe\n",
    "\n",
    "def measure_morphology_2DT(embryo_id, labels):\n",
    "\n",
    "    regionprops = []\n",
    "    \n",
    "\n",
    "    for idx, label_timepoint in enumerate(labels):\n",
    "\n",
    "        current_regionprops = measure_morphology_2D(label_timepoint)\n",
    "        current_regionprops['timepoint'] = idx\n",
    "\n",
    "        regionprops.append(current_regionprops)\n",
    "\n",
    "    dataframe = pd.concat(regionprops)\n",
    "    dataframe['embryo ID'] = embryo_id\n",
    "\n",
    "    return dataframe\n",
    "\n"
   ]
  },
  {
   "cell_type": "code",
   "execution_count": 489,
   "metadata": {},
   "outputs": [],
   "source": [
    "\n",
    "#loops over all the files within a folder and creates one big dataset\n",
    "\n",
    "from skimage.measure import label\n",
    "\n",
    "fld = Path(\"Q:\\carspi\\ETiX-SBR-Cer1_exp2\")\n",
    "fld_out = Path(\"Q:\\carspi\\ETiX_Output\")\n",
    "\n",
    "all_dfs=[]\n",
    "\n",
    "for fn in fld.glob('*.h5'):\n",
    "    with h5py.File(fn) as f:\n",
    "\n",
    "        lbl = f['mask_cleanup_corrected/2'][...]\n",
    "        lbl = label(lbl)\n",
    "        \n",
    "\n",
    "        embryo_id= fn.name.split('.')[0]\n",
    "        embryo_id = embryo_id.split(\"_\")[-1].strip('s')\n",
    "        embryo_id = int(embryo_id)\n",
    "\n",
    "        lbl_df=measure_morphology_2DT(embryo_id, lbl)\n",
    "        all_dfs.append(lbl_df)\n",
    "\n",
    "final_df = pd.concat(all_dfs, ignore_index=True)\n",
    "# Assuming 'embryo ID' and 'timepoint' are the first two columns, and the rest are features\n",
    "column_order = ['embryo ID', 'timepoint'] + [col for col in final_df.columns if col not in ['embryo ID', 'timepoint']]\n",
    "final_df = final_df[column_order]\n",
    "\n",
    "# Delete the rows where there is another 'mask'\n",
    "final_df = final_df[final_df.iloc[:, 2] == 1]\n",
    "\n",
    "final_df.to_csv( fld_out /'feature_extraction_exp2.csv', index=False)#change to desired output folder\n"
   ]
  },
  {
   "cell_type": "code",
   "execution_count": 490,
   "metadata": {},
   "outputs": [
    {
     "data": {
      "text/html": [
       "<div>\n",
       "<style scoped>\n",
       "    .dataframe tbody tr th:only-of-type {\n",
       "        vertical-align: middle;\n",
       "    }\n",
       "\n",
       "    .dataframe tbody tr th {\n",
       "        vertical-align: top;\n",
       "    }\n",
       "\n",
       "    .dataframe thead th {\n",
       "        text-align: right;\n",
       "    }\n",
       "</style>\n",
       "<table border=\"1\" class=\"dataframe\">\n",
       "  <thead>\n",
       "    <tr style=\"text-align: right;\">\n",
       "      <th></th>\n",
       "      <th>embryo ID</th>\n",
       "      <th>timepoint</th>\n",
       "      <th>label</th>\n",
       "      <th>area</th>\n",
       "      <th>convex_area</th>\n",
       "      <th>centroid_local-0</th>\n",
       "      <th>centroid_local-1</th>\n",
       "      <th>eccentricity</th>\n",
       "      <th>equivalent_diameter</th>\n",
       "      <th>extent</th>\n",
       "      <th>...</th>\n",
       "      <th>moments_hu-1</th>\n",
       "      <th>moments_hu-2</th>\n",
       "      <th>moments_hu-3</th>\n",
       "      <th>moments_hu-4</th>\n",
       "      <th>moments_hu-5</th>\n",
       "      <th>moments_hu-6</th>\n",
       "      <th>axis_major_length</th>\n",
       "      <th>axis_minor_length</th>\n",
       "      <th>perimeter</th>\n",
       "      <th>solidity</th>\n",
       "    </tr>\n",
       "  </thead>\n",
       "  <tbody>\n",
       "    <tr>\n",
       "      <th>0</th>\n",
       "      <td>10</td>\n",
       "      <td>0</td>\n",
       "      <td>1</td>\n",
       "      <td>11569.0</td>\n",
       "      <td>12696.0</td>\n",
       "      <td>74.745181</td>\n",
       "      <td>66.247040</td>\n",
       "      <td>0.512448</td>\n",
       "      <td>121.367658</td>\n",
       "      <td>0.649579</td>\n",
       "      <td>...</td>\n",
       "      <td>0.000684</td>\n",
       "      <td>0.000837</td>\n",
       "      <td>0.000006</td>\n",
       "      <td>-7.055023e-11</td>\n",
       "      <td>1.454508e-07</td>\n",
       "      <td>3.725913e-10</td>\n",
       "      <td>135.799485</td>\n",
       "      <td>116.613496</td>\n",
       "      <td>476.546248</td>\n",
       "      <td>0.911232</td>\n",
       "    </tr>\n",
       "    <tr>\n",
       "      <th>1</th>\n",
       "      <td>10</td>\n",
       "      <td>1</td>\n",
       "      <td>1</td>\n",
       "      <td>10623.0</td>\n",
       "      <td>11547.0</td>\n",
       "      <td>64.671844</td>\n",
       "      <td>63.972795</td>\n",
       "      <td>0.757060</td>\n",
       "      <td>116.299715</td>\n",
       "      <td>0.609711</td>\n",
       "      <td>...</td>\n",
       "      <td>0.005383</td>\n",
       "      <td>0.000676</td>\n",
       "      <td>0.000035</td>\n",
       "      <td>5.169741e-09</td>\n",
       "      <td>2.522180e-06</td>\n",
       "      <td>-1.317830e-09</td>\n",
       "      <td>147.503112</td>\n",
       "      <td>96.370393</td>\n",
       "      <td>452.830519</td>\n",
       "      <td>0.919979</td>\n",
       "    </tr>\n",
       "    <tr>\n",
       "      <th>2</th>\n",
       "      <td>10</td>\n",
       "      <td>2</td>\n",
       "      <td>1</td>\n",
       "      <td>11564.0</td>\n",
       "      <td>12974.0</td>\n",
       "      <td>63.072812</td>\n",
       "      <td>68.732618</td>\n",
       "      <td>0.723179</td>\n",
       "      <td>121.341428</td>\n",
       "      <td>0.625250</td>\n",
       "      <td>...</td>\n",
       "      <td>0.004055</td>\n",
       "      <td>0.000666</td>\n",
       "      <td>0.000030</td>\n",
       "      <td>3.812603e-09</td>\n",
       "      <td>1.732913e-06</td>\n",
       "      <td>-1.859184e-09</td>\n",
       "      <td>150.094609</td>\n",
       "      <td>103.664432</td>\n",
       "      <td>484.244733</td>\n",
       "      <td>0.891321</td>\n",
       "    </tr>\n",
       "    <tr>\n",
       "      <th>3</th>\n",
       "      <td>10</td>\n",
       "      <td>3</td>\n",
       "      <td>1</td>\n",
       "      <td>12200.0</td>\n",
       "      <td>13253.0</td>\n",
       "      <td>62.357623</td>\n",
       "      <td>72.462131</td>\n",
       "      <td>0.734807</td>\n",
       "      <td>124.633553</td>\n",
       "      <td>0.641160</td>\n",
       "      <td>...</td>\n",
       "      <td>0.004378</td>\n",
       "      <td>0.000470</td>\n",
       "      <td>0.000025</td>\n",
       "      <td>1.803074e-09</td>\n",
       "      <td>1.226808e-06</td>\n",
       "      <td>-2.052112e-09</td>\n",
       "      <td>154.665125</td>\n",
       "      <td>104.905748</td>\n",
       "      <td>470.244733</td>\n",
       "      <td>0.920546</td>\n",
       "    </tr>\n",
       "    <tr>\n",
       "      <th>4</th>\n",
       "      <td>10</td>\n",
       "      <td>4</td>\n",
       "      <td>1</td>\n",
       "      <td>12758.0</td>\n",
       "      <td>14081.0</td>\n",
       "      <td>65.380859</td>\n",
       "      <td>72.356482</td>\n",
       "      <td>0.729115</td>\n",
       "      <td>127.451913</td>\n",
       "      <td>0.611015</td>\n",
       "      <td>...</td>\n",
       "      <td>0.004245</td>\n",
       "      <td>0.000623</td>\n",
       "      <td>0.000029</td>\n",
       "      <td>2.165818e-09</td>\n",
       "      <td>1.219824e-06</td>\n",
       "      <td>-3.165045e-09</td>\n",
       "      <td>158.170668</td>\n",
       "      <td>108.250585</td>\n",
       "      <td>498.114790</td>\n",
       "      <td>0.906044</td>\n",
       "    </tr>\n",
       "    <tr>\n",
       "      <th>...</th>\n",
       "      <td>...</td>\n",
       "      <td>...</td>\n",
       "      <td>...</td>\n",
       "      <td>...</td>\n",
       "      <td>...</td>\n",
       "      <td>...</td>\n",
       "      <td>...</td>\n",
       "      <td>...</td>\n",
       "      <td>...</td>\n",
       "      <td>...</td>\n",
       "      <td>...</td>\n",
       "      <td>...</td>\n",
       "      <td>...</td>\n",
       "      <td>...</td>\n",
       "      <td>...</td>\n",
       "      <td>...</td>\n",
       "      <td>...</td>\n",
       "      <td>...</td>\n",
       "      <td>...</td>\n",
       "      <td>...</td>\n",
       "      <td>...</td>\n",
       "    </tr>\n",
       "    <tr>\n",
       "      <th>3649</th>\n",
       "      <td>77</td>\n",
       "      <td>17</td>\n",
       "      <td>1</td>\n",
       "      <td>22400.0</td>\n",
       "      <td>25092.0</td>\n",
       "      <td>96.426875</td>\n",
       "      <td>104.985759</td>\n",
       "      <td>0.686058</td>\n",
       "      <td>168.880330</td>\n",
       "      <td>0.651769</td>\n",
       "      <td>...</td>\n",
       "      <td>0.003119</td>\n",
       "      <td>0.001090</td>\n",
       "      <td>0.000022</td>\n",
       "      <td>-2.444976e-09</td>\n",
       "      <td>-1.227985e-06</td>\n",
       "      <td>2.466529e-09</td>\n",
       "      <td>206.226020</td>\n",
       "      <td>150.039016</td>\n",
       "      <td>706.783838</td>\n",
       "      <td>0.892715</td>\n",
       "    </tr>\n",
       "    <tr>\n",
       "      <th>3650</th>\n",
       "      <td>77</td>\n",
       "      <td>18</td>\n",
       "      <td>1</td>\n",
       "      <td>23513.0</td>\n",
       "      <td>26478.0</td>\n",
       "      <td>104.586484</td>\n",
       "      <td>102.265725</td>\n",
       "      <td>0.675556</td>\n",
       "      <td>173.025089</td>\n",
       "      <td>0.640332</td>\n",
       "      <td>...</td>\n",
       "      <td>0.002863</td>\n",
       "      <td>0.001003</td>\n",
       "      <td>0.000018</td>\n",
       "      <td>-2.096388e-09</td>\n",
       "      <td>-9.325544e-07</td>\n",
       "      <td>1.152048e-09</td>\n",
       "      <td>210.023017</td>\n",
       "      <td>154.851769</td>\n",
       "      <td>711.754401</td>\n",
       "      <td>0.888020</td>\n",
       "    </tr>\n",
       "    <tr>\n",
       "      <th>3651</th>\n",
       "      <td>77</td>\n",
       "      <td>19</td>\n",
       "      <td>1</td>\n",
       "      <td>24144.0</td>\n",
       "      <td>27105.0</td>\n",
       "      <td>102.072026</td>\n",
       "      <td>106.922341</td>\n",
       "      <td>0.657628</td>\n",
       "      <td>175.331388</td>\n",
       "      <td>0.624069</td>\n",
       "      <td>...</td>\n",
       "      <td>0.002454</td>\n",
       "      <td>0.000932</td>\n",
       "      <td>0.000011</td>\n",
       "      <td>4.784824e-11</td>\n",
       "      <td>-4.558185e-07</td>\n",
       "      <td>1.075169e-09</td>\n",
       "      <td>210.361516</td>\n",
       "      <td>158.474266</td>\n",
       "      <td>698.340187</td>\n",
       "      <td>0.890758</td>\n",
       "    </tr>\n",
       "    <tr>\n",
       "      <th>3652</th>\n",
       "      <td>77</td>\n",
       "      <td>20</td>\n",
       "      <td>1</td>\n",
       "      <td>24063.0</td>\n",
       "      <td>26984.0</td>\n",
       "      <td>105.072934</td>\n",
       "      <td>99.897436</td>\n",
       "      <td>0.647841</td>\n",
       "      <td>175.037034</td>\n",
       "      <td>0.648511</td>\n",
       "      <td>...</td>\n",
       "      <td>0.002315</td>\n",
       "      <td>0.001117</td>\n",
       "      <td>0.000020</td>\n",
       "      <td>-3.966854e-10</td>\n",
       "      <td>-8.526157e-07</td>\n",
       "      <td>2.966450e-09</td>\n",
       "      <td>210.087151</td>\n",
       "      <td>160.039304</td>\n",
       "      <td>685.411255</td>\n",
       "      <td>0.891751</td>\n",
       "    </tr>\n",
       "    <tr>\n",
       "      <th>3653</th>\n",
       "      <td>95</td>\n",
       "      <td>0</td>\n",
       "      <td>1</td>\n",
       "      <td>324.0</td>\n",
       "      <td>332.0</td>\n",
       "      <td>9.500000</td>\n",
       "      <td>10.000000</td>\n",
       "      <td>0.195955</td>\n",
       "      <td>20.310825</td>\n",
       "      <td>0.771429</td>\n",
       "      <td>...</td>\n",
       "      <td>0.000010</td>\n",
       "      <td>0.000000</td>\n",
       "      <td>0.000000</td>\n",
       "      <td>0.000000e+00</td>\n",
       "      <td>0.000000e+00</td>\n",
       "      <td>0.000000e+00</td>\n",
       "      <td>20.507150</td>\n",
       "      <td>20.109576</td>\n",
       "      <td>63.941125</td>\n",
       "      <td>0.975904</td>\n",
       "    </tr>\n",
       "  </tbody>\n",
       "</table>\n",
       "<p>3281 rows × 37 columns</p>\n",
       "</div>"
      ],
      "text/plain": [
       "      embryo ID  timepoint  label     area  convex_area  centroid_local-0  \\\n",
       "0            10          0      1  11569.0      12696.0         74.745181   \n",
       "1            10          1      1  10623.0      11547.0         64.671844   \n",
       "2            10          2      1  11564.0      12974.0         63.072812   \n",
       "3            10          3      1  12200.0      13253.0         62.357623   \n",
       "4            10          4      1  12758.0      14081.0         65.380859   \n",
       "...         ...        ...    ...      ...          ...               ...   \n",
       "3649         77         17      1  22400.0      25092.0         96.426875   \n",
       "3650         77         18      1  23513.0      26478.0        104.586484   \n",
       "3651         77         19      1  24144.0      27105.0        102.072026   \n",
       "3652         77         20      1  24063.0      26984.0        105.072934   \n",
       "3653         95          0      1    324.0        332.0          9.500000   \n",
       "\n",
       "      centroid_local-1  eccentricity  equivalent_diameter    extent  ...  \\\n",
       "0            66.247040      0.512448           121.367658  0.649579  ...   \n",
       "1            63.972795      0.757060           116.299715  0.609711  ...   \n",
       "2            68.732618      0.723179           121.341428  0.625250  ...   \n",
       "3            72.462131      0.734807           124.633553  0.641160  ...   \n",
       "4            72.356482      0.729115           127.451913  0.611015  ...   \n",
       "...                ...           ...                  ...       ...  ...   \n",
       "3649        104.985759      0.686058           168.880330  0.651769  ...   \n",
       "3650        102.265725      0.675556           173.025089  0.640332  ...   \n",
       "3651        106.922341      0.657628           175.331388  0.624069  ...   \n",
       "3652         99.897436      0.647841           175.037034  0.648511  ...   \n",
       "3653         10.000000      0.195955            20.310825  0.771429  ...   \n",
       "\n",
       "      moments_hu-1  moments_hu-2  moments_hu-3  moments_hu-4  moments_hu-5  \\\n",
       "0         0.000684      0.000837      0.000006 -7.055023e-11  1.454508e-07   \n",
       "1         0.005383      0.000676      0.000035  5.169741e-09  2.522180e-06   \n",
       "2         0.004055      0.000666      0.000030  3.812603e-09  1.732913e-06   \n",
       "3         0.004378      0.000470      0.000025  1.803074e-09  1.226808e-06   \n",
       "4         0.004245      0.000623      0.000029  2.165818e-09  1.219824e-06   \n",
       "...            ...           ...           ...           ...           ...   \n",
       "3649      0.003119      0.001090      0.000022 -2.444976e-09 -1.227985e-06   \n",
       "3650      0.002863      0.001003      0.000018 -2.096388e-09 -9.325544e-07   \n",
       "3651      0.002454      0.000932      0.000011  4.784824e-11 -4.558185e-07   \n",
       "3652      0.002315      0.001117      0.000020 -3.966854e-10 -8.526157e-07   \n",
       "3653      0.000010      0.000000      0.000000  0.000000e+00  0.000000e+00   \n",
       "\n",
       "      moments_hu-6  axis_major_length  axis_minor_length   perimeter  solidity  \n",
       "0     3.725913e-10         135.799485         116.613496  476.546248  0.911232  \n",
       "1    -1.317830e-09         147.503112          96.370393  452.830519  0.919979  \n",
       "2    -1.859184e-09         150.094609         103.664432  484.244733  0.891321  \n",
       "3    -2.052112e-09         154.665125         104.905748  470.244733  0.920546  \n",
       "4    -3.165045e-09         158.170668         108.250585  498.114790  0.906044  \n",
       "...            ...                ...                ...         ...       ...  \n",
       "3649  2.466529e-09         206.226020         150.039016  706.783838  0.892715  \n",
       "3650  1.152048e-09         210.023017         154.851769  711.754401  0.888020  \n",
       "3651  1.075169e-09         210.361516         158.474266  698.340187  0.890758  \n",
       "3652  2.966450e-09         210.087151         160.039304  685.411255  0.891751  \n",
       "3653  0.000000e+00          20.507150          20.109576   63.941125  0.975904  \n",
       "\n",
       "[3281 rows x 37 columns]"
      ]
     },
     "execution_count": 490,
     "metadata": {},
     "output_type": "execute_result"
    }
   ],
   "source": [
    "final_df"
   ]
  },
  {
   "cell_type": "markdown",
   "metadata": {},
   "source": [
    "Normalize dataframe across features"
   ]
  },
  {
   "cell_type": "code",
   "execution_count": 533,
   "metadata": {},
   "outputs": [],
   "source": [
    "\n",
    "path=Path(r\"Q:\\carspi\\ETiX_Output\\final_df_check.csv\")\n",
    "\n",
    "final_df = pd.read_csv(path)\n"
   ]
  },
  {
   "cell_type": "code",
   "execution_count": 535,
   "metadata": {},
   "outputs": [
    {
     "data": {
      "text/html": [
       "<div>\n",
       "<style scoped>\n",
       "    .dataframe tbody tr th:only-of-type {\n",
       "        vertical-align: middle;\n",
       "    }\n",
       "\n",
       "    .dataframe tbody tr th {\n",
       "        vertical-align: top;\n",
       "    }\n",
       "\n",
       "    .dataframe thead th {\n",
       "        text-align: right;\n",
       "    }\n",
       "</style>\n",
       "<table border=\"1\" class=\"dataframe\">\n",
       "  <thead>\n",
       "    <tr style=\"text-align: right;\">\n",
       "      <th></th>\n",
       "      <th>embryo ID</th>\n",
       "      <th>timepoint</th>\n",
       "      <th>label</th>\n",
       "      <th>area</th>\n",
       "      <th>convex_area</th>\n",
       "      <th>centroid_local-0</th>\n",
       "      <th>centroid_local-1</th>\n",
       "      <th>eccentricity</th>\n",
       "      <th>equivalent_diameter</th>\n",
       "      <th>extent</th>\n",
       "      <th>...</th>\n",
       "      <th>moments_normalized-2-2</th>\n",
       "      <th>moments_normalized-2-3</th>\n",
       "      <th>moments_normalized-3-0</th>\n",
       "      <th>moments_normalized-3-1</th>\n",
       "      <th>moments_normalized-3-2</th>\n",
       "      <th>moments_normalized-3-3</th>\n",
       "      <th>axis_major_length</th>\n",
       "      <th>axis_minor_length</th>\n",
       "      <th>perimeter</th>\n",
       "      <th>solidity</th>\n",
       "    </tr>\n",
       "  </thead>\n",
       "  <tbody>\n",
       "    <tr>\n",
       "      <th>0</th>\n",
       "      <td>10</td>\n",
       "      <td>0</td>\n",
       "      <td>1</td>\n",
       "      <td>-0.672278</td>\n",
       "      <td>-0.679803</td>\n",
       "      <td>-0.669688</td>\n",
       "      <td>-0.495495</td>\n",
       "      <td>-1.229578</td>\n",
       "      <td>-0.634822</td>\n",
       "      <td>0.116547</td>\n",
       "      <td>...</td>\n",
       "      <td>-0.594330</td>\n",
       "      <td>0.063954</td>\n",
       "      <td>0.204475</td>\n",
       "      <td>0.240847</td>\n",
       "      <td>0.009545</td>\n",
       "      <td>0.053267</td>\n",
       "      <td>-0.922656</td>\n",
       "      <td>-0.308128</td>\n",
       "      <td>-0.698472</td>\n",
       "      <td>0.306951</td>\n",
       "    </tr>\n",
       "    <tr>\n",
       "      <th>1</th>\n",
       "      <td>10</td>\n",
       "      <td>1</td>\n",
       "      <td>1</td>\n",
       "      <td>-0.342303</td>\n",
       "      <td>-0.405285</td>\n",
       "      <td>-0.139610</td>\n",
       "      <td>-0.392488</td>\n",
       "      <td>-1.461412</td>\n",
       "      <td>-0.256937</td>\n",
       "      <td>0.633346</td>\n",
       "      <td>...</td>\n",
       "      <td>-0.551744</td>\n",
       "      <td>0.035020</td>\n",
       "      <td>0.000797</td>\n",
       "      <td>0.115249</td>\n",
       "      <td>0.072872</td>\n",
       "      <td>0.045683</td>\n",
       "      <td>-0.641878</td>\n",
       "      <td>0.105018</td>\n",
       "      <td>-0.515416</td>\n",
       "      <td>1.014296</td>\n",
       "    </tr>\n",
       "    <tr>\n",
       "      <th>2</th>\n",
       "      <td>10</td>\n",
       "      <td>2</td>\n",
       "      <td>1</td>\n",
       "      <td>-0.118262</td>\n",
       "      <td>-0.178309</td>\n",
       "      <td>-0.447341</td>\n",
       "      <td>-0.060712</td>\n",
       "      <td>-1.452191</td>\n",
       "      <td>-0.017529</td>\n",
       "      <td>0.868036</td>\n",
       "      <td>...</td>\n",
       "      <td>-0.477795</td>\n",
       "      <td>0.076354</td>\n",
       "      <td>0.556122</td>\n",
       "      <td>0.115999</td>\n",
       "      <td>-0.095857</td>\n",
       "      <td>0.037167</td>\n",
       "      <td>-0.435201</td>\n",
       "      <td>0.359591</td>\n",
       "      <td>-0.255245</td>\n",
       "      <td>0.776946</td>\n",
       "    </tr>\n",
       "    <tr>\n",
       "      <th>3</th>\n",
       "      <td>10</td>\n",
       "      <td>3</td>\n",
       "      <td>1</td>\n",
       "      <td>0.030948</td>\n",
       "      <td>-0.012120</td>\n",
       "      <td>0.075088</td>\n",
       "      <td>0.267782</td>\n",
       "      <td>-1.552178</td>\n",
       "      <td>0.135413</td>\n",
       "      <td>-0.270927</td>\n",
       "      <td>...</td>\n",
       "      <td>-0.722782</td>\n",
       "      <td>0.150271</td>\n",
       "      <td>0.081217</td>\n",
       "      <td>0.173651</td>\n",
       "      <td>0.057070</td>\n",
       "      <td>0.034734</td>\n",
       "      <td>-0.323444</td>\n",
       "      <td>0.528168</td>\n",
       "      <td>-0.094102</td>\n",
       "      <td>0.438914</td>\n",
       "    </tr>\n",
       "    <tr>\n",
       "      <th>4</th>\n",
       "      <td>10</td>\n",
       "      <td>4</td>\n",
       "      <td>1</td>\n",
       "      <td>0.051984</td>\n",
       "      <td>-0.023692</td>\n",
       "      <td>-0.076781</td>\n",
       "      <td>0.435442</td>\n",
       "      <td>-0.536029</td>\n",
       "      <td>0.156593</td>\n",
       "      <td>-0.229042</td>\n",
       "      <td>...</td>\n",
       "      <td>-0.640563</td>\n",
       "      <td>0.106715</td>\n",
       "      <td>0.249752</td>\n",
       "      <td>0.447420</td>\n",
       "      <td>0.016068</td>\n",
       "      <td>0.115046</td>\n",
       "      <td>-0.142846</td>\n",
       "      <td>0.352098</td>\n",
       "      <td>-0.130455</td>\n",
       "      <td>0.873331</td>\n",
       "    </tr>\n",
       "    <tr>\n",
       "      <th>...</th>\n",
       "      <td>...</td>\n",
       "      <td>...</td>\n",
       "      <td>...</td>\n",
       "      <td>...</td>\n",
       "      <td>...</td>\n",
       "      <td>...</td>\n",
       "      <td>...</td>\n",
       "      <td>...</td>\n",
       "      <td>...</td>\n",
       "      <td>...</td>\n",
       "      <td>...</td>\n",
       "      <td>...</td>\n",
       "      <td>...</td>\n",
       "      <td>...</td>\n",
       "      <td>...</td>\n",
       "      <td>...</td>\n",
       "      <td>...</td>\n",
       "      <td>...</td>\n",
       "      <td>...</td>\n",
       "      <td>...</td>\n",
       "      <td>...</td>\n",
       "    </tr>\n",
       "    <tr>\n",
       "      <th>6803</th>\n",
       "      <td>99</td>\n",
       "      <td>18</td>\n",
       "      <td>1</td>\n",
       "      <td>-0.196699</td>\n",
       "      <td>-0.241327</td>\n",
       "      <td>-0.399750</td>\n",
       "      <td>0.069828</td>\n",
       "      <td>0.484359</td>\n",
       "      <td>-0.099944</td>\n",
       "      <td>0.292374</td>\n",
       "      <td>...</td>\n",
       "      <td>-0.070481</td>\n",
       "      <td>0.151229</td>\n",
       "      <td>-0.070094</td>\n",
       "      <td>0.927513</td>\n",
       "      <td>0.170161</td>\n",
       "      <td>0.303898</td>\n",
       "      <td>-0.068567</td>\n",
       "      <td>-0.215338</td>\n",
       "      <td>-0.290685</td>\n",
       "      <td>0.602480</td>\n",
       "    </tr>\n",
       "    <tr>\n",
       "      <th>6804</th>\n",
       "      <td>99</td>\n",
       "      <td>19</td>\n",
       "      <td>1</td>\n",
       "      <td>-0.147263</td>\n",
       "      <td>-0.188208</td>\n",
       "      <td>-0.146002</td>\n",
       "      <td>-0.038420</td>\n",
       "      <td>0.177501</td>\n",
       "      <td>-0.047832</td>\n",
       "      <td>0.082036</td>\n",
       "      <td>...</td>\n",
       "      <td>-0.270898</td>\n",
       "      <td>0.098784</td>\n",
       "      <td>-0.076362</td>\n",
       "      <td>0.838382</td>\n",
       "      <td>0.118535</td>\n",
       "      <td>0.228487</td>\n",
       "      <td>-0.128731</td>\n",
       "      <td>-0.051372</td>\n",
       "      <td>-0.254908</td>\n",
       "      <td>0.514533</td>\n",
       "    </tr>\n",
       "    <tr>\n",
       "      <th>6805</th>\n",
       "      <td>99</td>\n",
       "      <td>20</td>\n",
       "      <td>1</td>\n",
       "      <td>-0.093018</td>\n",
       "      <td>-0.159348</td>\n",
       "      <td>-0.385145</td>\n",
       "      <td>0.234831</td>\n",
       "      <td>0.099667</td>\n",
       "      <td>0.008692</td>\n",
       "      <td>0.274560</td>\n",
       "      <td>...</td>\n",
       "      <td>-0.246431</td>\n",
       "      <td>0.139910</td>\n",
       "      <td>-0.113379</td>\n",
       "      <td>0.626199</td>\n",
       "      <td>0.171426</td>\n",
       "      <td>0.194492</td>\n",
       "      <td>-0.106726</td>\n",
       "      <td>0.024466</td>\n",
       "      <td>-0.225270</td>\n",
       "      <td>0.850379</td>\n",
       "    </tr>\n",
       "    <tr>\n",
       "      <th>6806</th>\n",
       "      <td>99</td>\n",
       "      <td>21</td>\n",
       "      <td>1</td>\n",
       "      <td>-0.027654</td>\n",
       "      <td>-0.100931</td>\n",
       "      <td>-0.334828</td>\n",
       "      <td>0.277158</td>\n",
       "      <td>0.072912</td>\n",
       "      <td>0.075923</td>\n",
       "      <td>0.593756</td>\n",
       "      <td>...</td>\n",
       "      <td>-0.220982</td>\n",
       "      <td>0.113604</td>\n",
       "      <td>-0.174710</td>\n",
       "      <td>0.625354</td>\n",
       "      <td>0.143214</td>\n",
       "      <td>0.205403</td>\n",
       "      <td>-0.058058</td>\n",
       "      <td>0.094354</td>\n",
       "      <td>-0.159616</td>\n",
       "      <td>0.900278</td>\n",
       "    </tr>\n",
       "    <tr>\n",
       "      <th>6807</th>\n",
       "      <td>99</td>\n",
       "      <td>22</td>\n",
       "      <td>1</td>\n",
       "      <td>0.055591</td>\n",
       "      <td>0.008096</td>\n",
       "      <td>-0.189824</td>\n",
       "      <td>0.091905</td>\n",
       "      <td>-0.271431</td>\n",
       "      <td>0.160215</td>\n",
       "      <td>0.953324</td>\n",
       "      <td>...</td>\n",
       "      <td>-0.242078</td>\n",
       "      <td>0.065780</td>\n",
       "      <td>-0.160783</td>\n",
       "      <td>0.499156</td>\n",
       "      <td>0.146243</td>\n",
       "      <td>0.153343</td>\n",
       "      <td>-0.078216</td>\n",
       "      <td>0.284385</td>\n",
       "      <td>-0.019628</td>\n",
       "      <td>0.485119</td>\n",
       "    </tr>\n",
       "  </tbody>\n",
       "</table>\n",
       "<p>6808 rows × 50 columns</p>\n",
       "</div>"
      ],
      "text/plain": [
       "      embryo ID  timepoint  label      area  convex_area  centroid_local-0  \\\n",
       "0            10          0      1 -0.672278    -0.679803         -0.669688   \n",
       "1            10          1      1 -0.342303    -0.405285         -0.139610   \n",
       "2            10          2      1 -0.118262    -0.178309         -0.447341   \n",
       "3            10          3      1  0.030948    -0.012120          0.075088   \n",
       "4            10          4      1  0.051984    -0.023692         -0.076781   \n",
       "...         ...        ...    ...       ...          ...               ...   \n",
       "6803         99         18      1 -0.196699    -0.241327         -0.399750   \n",
       "6804         99         19      1 -0.147263    -0.188208         -0.146002   \n",
       "6805         99         20      1 -0.093018    -0.159348         -0.385145   \n",
       "6806         99         21      1 -0.027654    -0.100931         -0.334828   \n",
       "6807         99         22      1  0.055591     0.008096         -0.189824   \n",
       "\n",
       "      centroid_local-1  eccentricity  equivalent_diameter    extent  ...  \\\n",
       "0            -0.495495     -1.229578            -0.634822  0.116547  ...   \n",
       "1            -0.392488     -1.461412            -0.256937  0.633346  ...   \n",
       "2            -0.060712     -1.452191            -0.017529  0.868036  ...   \n",
       "3             0.267782     -1.552178             0.135413 -0.270927  ...   \n",
       "4             0.435442     -0.536029             0.156593 -0.229042  ...   \n",
       "...                ...           ...                  ...       ...  ...   \n",
       "6803          0.069828      0.484359            -0.099944  0.292374  ...   \n",
       "6804         -0.038420      0.177501            -0.047832  0.082036  ...   \n",
       "6805          0.234831      0.099667             0.008692  0.274560  ...   \n",
       "6806          0.277158      0.072912             0.075923  0.593756  ...   \n",
       "6807          0.091905     -0.271431             0.160215  0.953324  ...   \n",
       "\n",
       "      moments_normalized-2-2  moments_normalized-2-3  moments_normalized-3-0  \\\n",
       "0                  -0.594330                0.063954                0.204475   \n",
       "1                  -0.551744                0.035020                0.000797   \n",
       "2                  -0.477795                0.076354                0.556122   \n",
       "3                  -0.722782                0.150271                0.081217   \n",
       "4                  -0.640563                0.106715                0.249752   \n",
       "...                      ...                     ...                     ...   \n",
       "6803               -0.070481                0.151229               -0.070094   \n",
       "6804               -0.270898                0.098784               -0.076362   \n",
       "6805               -0.246431                0.139910               -0.113379   \n",
       "6806               -0.220982                0.113604               -0.174710   \n",
       "6807               -0.242078                0.065780               -0.160783   \n",
       "\n",
       "      moments_normalized-3-1  moments_normalized-3-2  moments_normalized-3-3  \\\n",
       "0                   0.240847                0.009545                0.053267   \n",
       "1                   0.115249                0.072872                0.045683   \n",
       "2                   0.115999               -0.095857                0.037167   \n",
       "3                   0.173651                0.057070                0.034734   \n",
       "4                   0.447420                0.016068                0.115046   \n",
       "...                      ...                     ...                     ...   \n",
       "6803                0.927513                0.170161                0.303898   \n",
       "6804                0.838382                0.118535                0.228487   \n",
       "6805                0.626199                0.171426                0.194492   \n",
       "6806                0.625354                0.143214                0.205403   \n",
       "6807                0.499156                0.146243                0.153343   \n",
       "\n",
       "      axis_major_length  axis_minor_length  perimeter  solidity  \n",
       "0             -0.922656          -0.308128  -0.698472  0.306951  \n",
       "1             -0.641878           0.105018  -0.515416  1.014296  \n",
       "2             -0.435201           0.359591  -0.255245  0.776946  \n",
       "3             -0.323444           0.528168  -0.094102  0.438914  \n",
       "4             -0.142846           0.352098  -0.130455  0.873331  \n",
       "...                 ...                ...        ...       ...  \n",
       "6803          -0.068567          -0.215338  -0.290685  0.602480  \n",
       "6804          -0.128731          -0.051372  -0.254908  0.514533  \n",
       "6805          -0.106726           0.024466  -0.225270  0.850379  \n",
       "6806          -0.058058           0.094354  -0.159616  0.900278  \n",
       "6807          -0.078216           0.284385  -0.019628  0.485119  \n",
       "\n",
       "[6808 rows x 50 columns]"
      ]
     },
     "execution_count": 535,
     "metadata": {},
     "output_type": "execute_result"
    }
   ],
   "source": [
    "from scipy.stats import zscore\n",
    "import pandas as pd\n",
    "\n",
    "# Copy the first two columns unchanged\n",
    "zscored_df = final_df.iloc[:, :3].copy()\n",
    "\n",
    "# Z-score columns 3 to 71\n",
    "zscored_df[final_df.columns[3:]] = final_df.iloc[:, 3:].apply(zscore)\n",
    "\n",
    "\n",
    "zscored_df\n",
    "\n",
    "#zscored_df.to_csv( fld_out /'zscore.csv', index=False)#change to desired output folder\n"
   ]
  },
  {
   "cell_type": "markdown",
   "metadata": {},
   "source": [
    "Create subset of df if needed"
   ]
  },
  {
   "cell_type": "code",
   "execution_count": 542,
   "metadata": {},
   "outputs": [
    {
     "data": {
      "text/html": [
       "<div>\n",
       "<style scoped>\n",
       "    .dataframe tbody tr th:only-of-type {\n",
       "        vertical-align: middle;\n",
       "    }\n",
       "\n",
       "    .dataframe tbody tr th {\n",
       "        vertical-align: top;\n",
       "    }\n",
       "\n",
       "    .dataframe thead th {\n",
       "        text-align: right;\n",
       "    }\n",
       "</style>\n",
       "<table border=\"1\" class=\"dataframe\">\n",
       "  <thead>\n",
       "    <tr style=\"text-align: right;\">\n",
       "      <th></th>\n",
       "      <th>timepoint</th>\n",
       "      <th>area</th>\n",
       "      <th>convex_area</th>\n",
       "      <th>centroid_local-0</th>\n",
       "      <th>centroid_local-1</th>\n",
       "      <th>eccentricity</th>\n",
       "      <th>equivalent_diameter</th>\n",
       "      <th>extent</th>\n",
       "      <th>moments_central-0-0</th>\n",
       "      <th>moments_central-0-1</th>\n",
       "      <th>...</th>\n",
       "      <th>moments_normalized-2-2</th>\n",
       "      <th>moments_normalized-2-3</th>\n",
       "      <th>moments_normalized-3-0</th>\n",
       "      <th>moments_normalized-3-1</th>\n",
       "      <th>moments_normalized-3-2</th>\n",
       "      <th>moments_normalized-3-3</th>\n",
       "      <th>axis_major_length</th>\n",
       "      <th>axis_minor_length</th>\n",
       "      <th>perimeter</th>\n",
       "      <th>solidity</th>\n",
       "    </tr>\n",
       "  </thead>\n",
       "  <tbody>\n",
       "    <tr>\n",
       "      <th>0</th>\n",
       "      <td>0</td>\n",
       "      <td>-0.672278</td>\n",
       "      <td>-0.679803</td>\n",
       "      <td>-0.669688</td>\n",
       "      <td>-0.495495</td>\n",
       "      <td>-1.229578</td>\n",
       "      <td>-0.634822</td>\n",
       "      <td>0.116547</td>\n",
       "      <td>-0.672278</td>\n",
       "      <td>0.467751</td>\n",
       "      <td>...</td>\n",
       "      <td>-0.594330</td>\n",
       "      <td>0.063954</td>\n",
       "      <td>0.204475</td>\n",
       "      <td>0.240847</td>\n",
       "      <td>0.009545</td>\n",
       "      <td>0.053267</td>\n",
       "      <td>-0.922656</td>\n",
       "      <td>-0.308128</td>\n",
       "      <td>-0.698472</td>\n",
       "      <td>0.306951</td>\n",
       "    </tr>\n",
       "    <tr>\n",
       "      <th>1</th>\n",
       "      <td>1</td>\n",
       "      <td>-0.342303</td>\n",
       "      <td>-0.405285</td>\n",
       "      <td>-0.139610</td>\n",
       "      <td>-0.392488</td>\n",
       "      <td>-1.461412</td>\n",
       "      <td>-0.256937</td>\n",
       "      <td>0.633346</td>\n",
       "      <td>-0.342303</td>\n",
       "      <td>-0.377790</td>\n",
       "      <td>...</td>\n",
       "      <td>-0.551744</td>\n",
       "      <td>0.035020</td>\n",
       "      <td>0.000797</td>\n",
       "      <td>0.115249</td>\n",
       "      <td>0.072872</td>\n",
       "      <td>0.045683</td>\n",
       "      <td>-0.641878</td>\n",
       "      <td>0.105018</td>\n",
       "      <td>-0.515416</td>\n",
       "      <td>1.014296</td>\n",
       "    </tr>\n",
       "    <tr>\n",
       "      <th>2</th>\n",
       "      <td>2</td>\n",
       "      <td>-0.118262</td>\n",
       "      <td>-0.178309</td>\n",
       "      <td>-0.447341</td>\n",
       "      <td>-0.060712</td>\n",
       "      <td>-1.452191</td>\n",
       "      <td>-0.017529</td>\n",
       "      <td>0.868036</td>\n",
       "      <td>-0.118262</td>\n",
       "      <td>-0.767458</td>\n",
       "      <td>...</td>\n",
       "      <td>-0.477795</td>\n",
       "      <td>0.076354</td>\n",
       "      <td>0.556122</td>\n",
       "      <td>0.115999</td>\n",
       "      <td>-0.095857</td>\n",
       "      <td>0.037167</td>\n",
       "      <td>-0.435201</td>\n",
       "      <td>0.359591</td>\n",
       "      <td>-0.255245</td>\n",
       "      <td>0.776946</td>\n",
       "    </tr>\n",
       "    <tr>\n",
       "      <th>3</th>\n",
       "      <td>3</td>\n",
       "      <td>0.030948</td>\n",
       "      <td>-0.012120</td>\n",
       "      <td>0.075088</td>\n",
       "      <td>0.267782</td>\n",
       "      <td>-1.552178</td>\n",
       "      <td>0.135413</td>\n",
       "      <td>-0.270927</td>\n",
       "      <td>0.030948</td>\n",
       "      <td>0.139398</td>\n",
       "      <td>...</td>\n",
       "      <td>-0.722782</td>\n",
       "      <td>0.150271</td>\n",
       "      <td>0.081217</td>\n",
       "      <td>0.173651</td>\n",
       "      <td>0.057070</td>\n",
       "      <td>0.034734</td>\n",
       "      <td>-0.323444</td>\n",
       "      <td>0.528168</td>\n",
       "      <td>-0.094102</td>\n",
       "      <td>0.438914</td>\n",
       "    </tr>\n",
       "    <tr>\n",
       "      <th>4</th>\n",
       "      <td>4</td>\n",
       "      <td>0.051984</td>\n",
       "      <td>-0.023692</td>\n",
       "      <td>-0.076781</td>\n",
       "      <td>0.435442</td>\n",
       "      <td>-0.536029</td>\n",
       "      <td>0.156593</td>\n",
       "      <td>-0.229042</td>\n",
       "      <td>0.051984</td>\n",
       "      <td>-0.377790</td>\n",
       "      <td>...</td>\n",
       "      <td>-0.640563</td>\n",
       "      <td>0.106715</td>\n",
       "      <td>0.249752</td>\n",
       "      <td>0.447420</td>\n",
       "      <td>0.016068</td>\n",
       "      <td>0.115046</td>\n",
       "      <td>-0.142846</td>\n",
       "      <td>0.352098</td>\n",
       "      <td>-0.130455</td>\n",
       "      <td>0.873331</td>\n",
       "    </tr>\n",
       "    <tr>\n",
       "      <th>...</th>\n",
       "      <td>...</td>\n",
       "      <td>...</td>\n",
       "      <td>...</td>\n",
       "      <td>...</td>\n",
       "      <td>...</td>\n",
       "      <td>...</td>\n",
       "      <td>...</td>\n",
       "      <td>...</td>\n",
       "      <td>...</td>\n",
       "      <td>...</td>\n",
       "      <td>...</td>\n",
       "      <td>...</td>\n",
       "      <td>...</td>\n",
       "      <td>...</td>\n",
       "      <td>...</td>\n",
       "      <td>...</td>\n",
       "      <td>...</td>\n",
       "      <td>...</td>\n",
       "      <td>...</td>\n",
       "      <td>...</td>\n",
       "      <td>...</td>\n",
       "    </tr>\n",
       "    <tr>\n",
       "      <th>6803</th>\n",
       "      <td>18</td>\n",
       "      <td>-0.196699</td>\n",
       "      <td>-0.241327</td>\n",
       "      <td>-0.399750</td>\n",
       "      <td>0.069828</td>\n",
       "      <td>0.484359</td>\n",
       "      <td>-0.099944</td>\n",
       "      <td>0.292374</td>\n",
       "      <td>-0.196699</td>\n",
       "      <td>-0.248493</td>\n",
       "      <td>...</td>\n",
       "      <td>-0.070481</td>\n",
       "      <td>0.151229</td>\n",
       "      <td>-0.070094</td>\n",
       "      <td>0.927513</td>\n",
       "      <td>0.170161</td>\n",
       "      <td>0.303898</td>\n",
       "      <td>-0.068567</td>\n",
       "      <td>-0.215338</td>\n",
       "      <td>-0.290685</td>\n",
       "      <td>0.602480</td>\n",
       "    </tr>\n",
       "    <tr>\n",
       "      <th>6804</th>\n",
       "      <td>19</td>\n",
       "      <td>-0.147263</td>\n",
       "      <td>-0.188208</td>\n",
       "      <td>-0.146002</td>\n",
       "      <td>-0.038420</td>\n",
       "      <td>0.177501</td>\n",
       "      <td>-0.047832</td>\n",
       "      <td>0.082036</td>\n",
       "      <td>-0.147263</td>\n",
       "      <td>0.010101</td>\n",
       "      <td>...</td>\n",
       "      <td>-0.270898</td>\n",
       "      <td>0.098784</td>\n",
       "      <td>-0.076362</td>\n",
       "      <td>0.838382</td>\n",
       "      <td>0.118535</td>\n",
       "      <td>0.228487</td>\n",
       "      <td>-0.128731</td>\n",
       "      <td>-0.051372</td>\n",
       "      <td>-0.254908</td>\n",
       "      <td>0.514533</td>\n",
       "    </tr>\n",
       "    <tr>\n",
       "      <th>6805</th>\n",
       "      <td>20</td>\n",
       "      <td>-0.093018</td>\n",
       "      <td>-0.159348</td>\n",
       "      <td>-0.385145</td>\n",
       "      <td>0.234831</td>\n",
       "      <td>0.099667</td>\n",
       "      <td>0.008692</td>\n",
       "      <td>0.274560</td>\n",
       "      <td>-0.093018</td>\n",
       "      <td>0.010101</td>\n",
       "      <td>...</td>\n",
       "      <td>-0.246431</td>\n",
       "      <td>0.139910</td>\n",
       "      <td>-0.113379</td>\n",
       "      <td>0.626199</td>\n",
       "      <td>0.171426</td>\n",
       "      <td>0.194492</td>\n",
       "      <td>-0.106726</td>\n",
       "      <td>0.024466</td>\n",
       "      <td>-0.225270</td>\n",
       "      <td>0.850379</td>\n",
       "    </tr>\n",
       "    <tr>\n",
       "      <th>6806</th>\n",
       "      <td>21</td>\n",
       "      <td>-0.027654</td>\n",
       "      <td>-0.100931</td>\n",
       "      <td>-0.334828</td>\n",
       "      <td>0.277158</td>\n",
       "      <td>0.072912</td>\n",
       "      <td>0.075923</td>\n",
       "      <td>0.593756</td>\n",
       "      <td>-0.027654</td>\n",
       "      <td>0.010101</td>\n",
       "      <td>...</td>\n",
       "      <td>-0.220982</td>\n",
       "      <td>0.113604</td>\n",
       "      <td>-0.174710</td>\n",
       "      <td>0.625354</td>\n",
       "      <td>0.143214</td>\n",
       "      <td>0.205403</td>\n",
       "      <td>-0.058058</td>\n",
       "      <td>0.094354</td>\n",
       "      <td>-0.159616</td>\n",
       "      <td>0.900278</td>\n",
       "    </tr>\n",
       "    <tr>\n",
       "      <th>6807</th>\n",
       "      <td>22</td>\n",
       "      <td>0.055591</td>\n",
       "      <td>0.008096</td>\n",
       "      <td>-0.189824</td>\n",
       "      <td>0.091905</td>\n",
       "      <td>-0.271431</td>\n",
       "      <td>0.160215</td>\n",
       "      <td>0.953324</td>\n",
       "      <td>0.055591</td>\n",
       "      <td>0.268695</td>\n",
       "      <td>...</td>\n",
       "      <td>-0.242078</td>\n",
       "      <td>0.065780</td>\n",
       "      <td>-0.160783</td>\n",
       "      <td>0.499156</td>\n",
       "      <td>0.146243</td>\n",
       "      <td>0.153343</td>\n",
       "      <td>-0.078216</td>\n",
       "      <td>0.284385</td>\n",
       "      <td>-0.019628</td>\n",
       "      <td>0.485119</td>\n",
       "    </tr>\n",
       "  </tbody>\n",
       "</table>\n",
       "<p>6808 rows × 48 columns</p>\n",
       "</div>"
      ],
      "text/plain": [
       "      timepoint      area  convex_area  centroid_local-0  centroid_local-1  \\\n",
       "0             0 -0.672278    -0.679803         -0.669688         -0.495495   \n",
       "1             1 -0.342303    -0.405285         -0.139610         -0.392488   \n",
       "2             2 -0.118262    -0.178309         -0.447341         -0.060712   \n",
       "3             3  0.030948    -0.012120          0.075088          0.267782   \n",
       "4             4  0.051984    -0.023692         -0.076781          0.435442   \n",
       "...         ...       ...          ...               ...               ...   \n",
       "6803         18 -0.196699    -0.241327         -0.399750          0.069828   \n",
       "6804         19 -0.147263    -0.188208         -0.146002         -0.038420   \n",
       "6805         20 -0.093018    -0.159348         -0.385145          0.234831   \n",
       "6806         21 -0.027654    -0.100931         -0.334828          0.277158   \n",
       "6807         22  0.055591     0.008096         -0.189824          0.091905   \n",
       "\n",
       "      eccentricity  equivalent_diameter    extent  moments_central-0-0  \\\n",
       "0        -1.229578            -0.634822  0.116547            -0.672278   \n",
       "1        -1.461412            -0.256937  0.633346            -0.342303   \n",
       "2        -1.452191            -0.017529  0.868036            -0.118262   \n",
       "3        -1.552178             0.135413 -0.270927             0.030948   \n",
       "4        -0.536029             0.156593 -0.229042             0.051984   \n",
       "...            ...                  ...       ...                  ...   \n",
       "6803      0.484359            -0.099944  0.292374            -0.196699   \n",
       "6804      0.177501            -0.047832  0.082036            -0.147263   \n",
       "6805      0.099667             0.008692  0.274560            -0.093018   \n",
       "6806      0.072912             0.075923  0.593756            -0.027654   \n",
       "6807     -0.271431             0.160215  0.953324             0.055591   \n",
       "\n",
       "      moments_central-0-1  ...  moments_normalized-2-2  \\\n",
       "0                0.467751  ...               -0.594330   \n",
       "1               -0.377790  ...               -0.551744   \n",
       "2               -0.767458  ...               -0.477795   \n",
       "3                0.139398  ...               -0.722782   \n",
       "4               -0.377790  ...               -0.640563   \n",
       "...                   ...  ...                     ...   \n",
       "6803            -0.248493  ...               -0.070481   \n",
       "6804             0.010101  ...               -0.270898   \n",
       "6805             0.010101  ...               -0.246431   \n",
       "6806             0.010101  ...               -0.220982   \n",
       "6807             0.268695  ...               -0.242078   \n",
       "\n",
       "      moments_normalized-2-3  moments_normalized-3-0  moments_normalized-3-1  \\\n",
       "0                   0.063954                0.204475                0.240847   \n",
       "1                   0.035020                0.000797                0.115249   \n",
       "2                   0.076354                0.556122                0.115999   \n",
       "3                   0.150271                0.081217                0.173651   \n",
       "4                   0.106715                0.249752                0.447420   \n",
       "...                      ...                     ...                     ...   \n",
       "6803                0.151229               -0.070094                0.927513   \n",
       "6804                0.098784               -0.076362                0.838382   \n",
       "6805                0.139910               -0.113379                0.626199   \n",
       "6806                0.113604               -0.174710                0.625354   \n",
       "6807                0.065780               -0.160783                0.499156   \n",
       "\n",
       "      moments_normalized-3-2  moments_normalized-3-3  axis_major_length  \\\n",
       "0                   0.009545                0.053267          -0.922656   \n",
       "1                   0.072872                0.045683          -0.641878   \n",
       "2                  -0.095857                0.037167          -0.435201   \n",
       "3                   0.057070                0.034734          -0.323444   \n",
       "4                   0.016068                0.115046          -0.142846   \n",
       "...                      ...                     ...                ...   \n",
       "6803                0.170161                0.303898          -0.068567   \n",
       "6804                0.118535                0.228487          -0.128731   \n",
       "6805                0.171426                0.194492          -0.106726   \n",
       "6806                0.143214                0.205403          -0.058058   \n",
       "6807                0.146243                0.153343          -0.078216   \n",
       "\n",
       "      axis_minor_length  perimeter  solidity  \n",
       "0             -0.308128  -0.698472  0.306951  \n",
       "1              0.105018  -0.515416  1.014296  \n",
       "2              0.359591  -0.255245  0.776946  \n",
       "3              0.528168  -0.094102  0.438914  \n",
       "4              0.352098  -0.130455  0.873331  \n",
       "...                 ...        ...       ...  \n",
       "6803          -0.215338  -0.290685  0.602480  \n",
       "6804          -0.051372  -0.254908  0.514533  \n",
       "6805           0.024466  -0.225270  0.850379  \n",
       "6806           0.094354  -0.159616  0.900278  \n",
       "6807           0.284385  -0.019628  0.485119  \n",
       "\n",
       "[6808 rows x 48 columns]"
      ]
     },
     "execution_count": 542,
     "metadata": {},
     "output_type": "execute_result"
    }
   ],
   "source": [
    "\n",
    "timepoint_zscored_df = zscored_df.drop(['embryo ID', 'label'], axis=1)\n",
    "\n",
    "timepoint_zscored_df"
   ]
  },
  {
   "cell_type": "code",
   "execution_count": 537,
   "metadata": {},
   "outputs": [
    {
     "name": "stdout",
     "output_type": "stream",
     "text": [
      "          area  convex_area  centroid_local-0  centroid_local-1  eccentricity  \\\n",
      "0    -0.672278    -0.679803         -0.669688         -0.495495     -1.229578   \n",
      "1    -0.342303    -0.405285         -0.139610         -0.392488     -1.461412   \n",
      "2    -0.118262    -0.178309         -0.447341         -0.060712     -1.452191   \n",
      "3     0.030948    -0.012120          0.075088          0.267782     -1.552178   \n",
      "4     0.051984    -0.023692         -0.076781          0.435442     -0.536029   \n",
      "...        ...          ...               ...               ...           ...   \n",
      "6803 -0.196699    -0.241327         -0.399750          0.069828      0.484359   \n",
      "6804 -0.147263    -0.188208         -0.146002         -0.038420      0.177501   \n",
      "6805 -0.093018    -0.159348         -0.385145          0.234831      0.099667   \n",
      "6806 -0.027654    -0.100931         -0.334828          0.277158      0.072912   \n",
      "6807  0.055591     0.008096         -0.189824          0.091905     -0.271431   \n",
      "\n",
      "      equivalent_diameter    extent  moments_central-0-0  moments_central-0-1  \\\n",
      "0               -0.634822  0.116547            -0.672278             0.467751   \n",
      "1               -0.256937  0.633346            -0.342303            -0.377790   \n",
      "2               -0.017529  0.868036            -0.118262            -0.767458   \n",
      "3                0.135413 -0.270927             0.030948             0.139398   \n",
      "4                0.156593 -0.229042             0.051984            -0.377790   \n",
      "...                   ...       ...                  ...                  ...   \n",
      "6803            -0.099944  0.292374            -0.196699            -0.248493   \n",
      "6804            -0.047832  0.082036            -0.147263             0.010101   \n",
      "6805             0.008692  0.274560            -0.093018             0.010101   \n",
      "6806             0.075923  0.593756            -0.027654             0.010101   \n",
      "6807             0.160215  0.953324             0.055591             0.268695   \n",
      "\n",
      "      moments_central-0-2  ...  moments_normalized-2-2  \\\n",
      "0               -0.668613  ...               -0.594330   \n",
      "1               -0.468838  ...               -0.551744   \n",
      "2               -0.280380  ...               -0.477795   \n",
      "3               -0.197974  ...               -0.722782   \n",
      "4               -0.120475  ...               -0.640563   \n",
      "...                   ...  ...                     ...   \n",
      "6803            -0.247781  ...               -0.070481   \n",
      "6804            -0.275563  ...               -0.270898   \n",
      "6805            -0.164021  ...               -0.246431   \n",
      "6806            -0.122944  ...               -0.220982   \n",
      "6807            -0.084306  ...               -0.242078   \n",
      "\n",
      "      moments_normalized-2-3  moments_normalized-3-0  moments_normalized-3-1  \\\n",
      "0                   0.063954                0.204475                0.240847   \n",
      "1                   0.035020                0.000797                0.115249   \n",
      "2                   0.076354                0.556122                0.115999   \n",
      "3                   0.150271                0.081217                0.173651   \n",
      "4                   0.106715                0.249752                0.447420   \n",
      "...                      ...                     ...                     ...   \n",
      "6803                0.151229               -0.070094                0.927513   \n",
      "6804                0.098784               -0.076362                0.838382   \n",
      "6805                0.139910               -0.113379                0.626199   \n",
      "6806                0.113604               -0.174710                0.625354   \n",
      "6807                0.065780               -0.160783                0.499156   \n",
      "\n",
      "      moments_normalized-3-2  moments_normalized-3-3  axis_major_length  \\\n",
      "0                   0.009545                0.053267          -0.922656   \n",
      "1                   0.072872                0.045683          -0.641878   \n",
      "2                  -0.095857                0.037167          -0.435201   \n",
      "3                   0.057070                0.034734          -0.323444   \n",
      "4                   0.016068                0.115046          -0.142846   \n",
      "...                      ...                     ...                ...   \n",
      "6803                0.170161                0.303898          -0.068567   \n",
      "6804                0.118535                0.228487          -0.128731   \n",
      "6805                0.171426                0.194492          -0.106726   \n",
      "6806                0.143214                0.205403          -0.058058   \n",
      "6807                0.146243                0.153343          -0.078216   \n",
      "\n",
      "      axis_minor_length  perimeter  solidity  \n",
      "0             -0.308128  -0.698472  0.306951  \n",
      "1              0.105018  -0.515416  1.014296  \n",
      "2              0.359591  -0.255245  0.776946  \n",
      "3              0.528168  -0.094102  0.438914  \n",
      "4              0.352098  -0.130455  0.873331  \n",
      "...                 ...        ...       ...  \n",
      "6803          -0.215338  -0.290685  0.602480  \n",
      "6804          -0.051372  -0.254908  0.514533  \n",
      "6805           0.024466  -0.225270  0.850379  \n",
      "6806           0.094354  -0.159616  0.900278  \n",
      "6807           0.284385  -0.019628  0.485119  \n",
      "\n",
      "[6808 rows x 47 columns]\n"
     ]
    }
   ],
   "source": [
    "\n",
    "no_timepoint_zscored_df = timepoint_zscored_df.drop('timepoint', axis=1)\n",
    "\n",
    "print(no_timepoint_zscored_df)"
   ]
  },
  {
   "cell_type": "markdown",
   "metadata": {},
   "source": [
    "Create UMAP on subset of 'raw' features dataframe"
   ]
  },
  {
   "cell_type": "code",
   "execution_count": 541,
   "metadata": {},
   "outputs": [
    {
     "name": "stderr",
     "output_type": "stream",
     "text": [
      "c:\\Users\\carspi\\AppData\\Local\\miniconda3\\envs\\abbott\\lib\\site-packages\\sklearn\\cluster\\_kmeans.py:870: FutureWarning:\n",
      "\n",
      "The default value of `n_init` will change from 10 to 'auto' in 1.4. Set the value of `n_init` explicitly to suppress the warning\n",
      "\n"
     ]
    },
    {
     "data": {
      "image/png": "[encoded data removed]",
      "text/plain": [
       "<Figure size 1920x1440 with 1 Axes>"
      ]
     },
     "metadata": {},
     "output_type": "display_data"
    }
   ],
   "source": [
    "from sklearn.preprocessing import StandardScaler\n",
    "from sklearn.cluster import KMeans\n",
    "import umap\n",
    "\n",
    "subset_df = timepoint_zscored_df[timepoint_zscored_df['timepoint'] ==22] #select timepoint you want to plot, or alternatively skip this line to plot all timepoints, and visualize the timepoints\n",
    "subset_df = subset_df.drop('timepoint', axis=1)\n",
    "\n",
    "# UMAP transformation\n",
    "umap_model = umap.UMAP(n_components=2)\n",
    "umap_result = umap_model.fit_transform(subset_df)\n",
    "\n",
    "# K-means clustering\n",
    "kmeans = KMeans(n_clusters=10)  # You can adjust the number of clusters as needed\n",
    "kmeans_labels = kmeans.fit_predict(subset_df)\n",
    "\n",
    "# Add UMAP and K-means labels to the DataFrame\n",
    "UMAP_df = pd.DataFrame()\n",
    "\n",
    "UMAP_df['UMAP_1'] = umap_result[:, 0]\n",
    "UMAP_df['UMAP_2'] = umap_result[:, 1]\n",
    "UMAP_df['KMeans_Labels'] = kmeans_labels\n",
    "\n",
    "UMAP_df['area'] = timepoint_zscored_df['area'] #add zscore feature you want to visualize from timepoint_zscored_df\n",
    "\n",
    "# Visualize UMAP and K-means clusters if needed\n",
    "import seaborn as sns\n",
    "import matplotlib.pyplot as plt\n",
    "\n",
    "fig,ax=plt.subplots(dpi=300)\n",
    "\n",
    "sns.scatterplot(x='UMAP_1', y='UMAP_2', hue='area', data=UMAP_df, palette='viridis', size=5)\n",
    "plt.title('UMAP with K-means Clustering')\n",
    "plt.show()\n"
   ]
  },
  {
   "cell_type": "markdown",
   "metadata": {},
   "source": [
    "Choose amount of clusters: elbow plot, gap statistics"
   ]
  },
  {
   "cell_type": "code",
   "execution_count": 411,
   "metadata": {},
   "outputs": [
    {
     "name": "stderr",
     "output_type": "stream",
     "text": [
      "c:\\Users\\carspi\\AppData\\Local\\miniconda3\\envs\\abbott\\lib\\site-packages\\sklearn\\cluster\\_kmeans.py:870: FutureWarning:\n",
      "\n",
      "The default value of `n_init` will change from 10 to 'auto' in 1.4. Set the value of `n_init` explicitly to suppress the warning\n",
      "\n",
      "c:\\Users\\carspi\\AppData\\Local\\miniconda3\\envs\\abbott\\lib\\site-packages\\sklearn\\cluster\\_kmeans.py:870: FutureWarning:\n",
      "\n",
      "The default value of `n_init` will change from 10 to 'auto' in 1.4. Set the value of `n_init` explicitly to suppress the warning\n",
      "\n",
      "c:\\Users\\carspi\\AppData\\Local\\miniconda3\\envs\\abbott\\lib\\site-packages\\sklearn\\cluster\\_kmeans.py:870: FutureWarning:\n",
      "\n",
      "The default value of `n_init` will change from 10 to 'auto' in 1.4. Set the value of `n_init` explicitly to suppress the warning\n",
      "\n",
      "c:\\Users\\carspi\\AppData\\Local\\miniconda3\\envs\\abbott\\lib\\site-packages\\sklearn\\cluster\\_kmeans.py:870: FutureWarning:\n",
      "\n",
      "The default value of `n_init` will change from 10 to 'auto' in 1.4. Set the value of `n_init` explicitly to suppress the warning\n",
      "\n",
      "c:\\Users\\carspi\\AppData\\Local\\miniconda3\\envs\\abbott\\lib\\site-packages\\sklearn\\cluster\\_kmeans.py:870: FutureWarning:\n",
      "\n",
      "The default value of `n_init` will change from 10 to 'auto' in 1.4. Set the value of `n_init` explicitly to suppress the warning\n",
      "\n",
      "c:\\Users\\carspi\\AppData\\Local\\miniconda3\\envs\\abbott\\lib\\site-packages\\sklearn\\cluster\\_kmeans.py:870: FutureWarning:\n",
      "\n",
      "The default value of `n_init` will change from 10 to 'auto' in 1.4. Set the value of `n_init` explicitly to suppress the warning\n",
      "\n",
      "c:\\Users\\carspi\\AppData\\Local\\miniconda3\\envs\\abbott\\lib\\site-packages\\sklearn\\cluster\\_kmeans.py:870: FutureWarning:\n",
      "\n",
      "The default value of `n_init` will change from 10 to 'auto' in 1.4. Set the value of `n_init` explicitly to suppress the warning\n",
      "\n",
      "c:\\Users\\carspi\\AppData\\Local\\miniconda3\\envs\\abbott\\lib\\site-packages\\sklearn\\cluster\\_kmeans.py:870: FutureWarning:\n",
      "\n",
      "The default value of `n_init` will change from 10 to 'auto' in 1.4. Set the value of `n_init` explicitly to suppress the warning\n",
      "\n",
      "c:\\Users\\carspi\\AppData\\Local\\miniconda3\\envs\\abbott\\lib\\site-packages\\sklearn\\cluster\\_kmeans.py:870: FutureWarning:\n",
      "\n",
      "The default value of `n_init` will change from 10 to 'auto' in 1.4. Set the value of `n_init` explicitly to suppress the warning\n",
      "\n",
      "c:\\Users\\carspi\\AppData\\Local\\miniconda3\\envs\\abbott\\lib\\site-packages\\sklearn\\cluster\\_kmeans.py:870: FutureWarning:\n",
      "\n",
      "The default value of `n_init` will change from 10 to 'auto' in 1.4. Set the value of `n_init` explicitly to suppress the warning\n",
      "\n"
     ]
    },
    {
     "data": {
      "image/png": "[encoded data removed]",
      "text/plain": [
       "<Figure size 640x480 with 1 Axes>"
      ]
     },
     "metadata": {},
     "output_type": "display_data"
    }
   ],
   "source": [
    "from sklearn.cluster import KMeans\n",
    "import matplotlib.pyplot as plt\n",
    "\n",
    "# Assuming umap_result is the UMAP-transformed data\n",
    "distortions = []\n",
    "for i in range(1, 11):\n",
    "    kmeans = KMeans(n_clusters=i, random_state=42)\n",
    "    kmeans.fit(subset_df)\n",
    "    distortions.append(kmeans.inertia_)\n",
    "\n",
    "# Plot the Elbow graph\n",
    "plt.plot(range(1, 11), distortions, marker='o')\n",
    "plt.title('Elbow Method for Optimal k')\n",
    "plt.xlabel('Number of clusters')\n",
    "plt.ylabel('Distortion')\n",
    "plt.show()\n"
   ]
  },
  {
   "cell_type": "code",
   "execution_count": 540,
   "metadata": {},
   "outputs": [
    {
     "data": {
      "text/plain": [
       "10"
      ]
     },
     "execution_count": 540,
     "metadata": {},
     "output_type": "execute_result"
    }
   ],
   "source": [
    "from gap_statistic import OptimalK\n",
    "\n",
    "optimal_k = OptimalK(parallel_backend='joblib')\n",
    "k_clusters = optimal_k(subset_df, cluster_array=np.arange(1, 11))\n",
    "\n",
    "k_clusters"
   ]
  },
  {
   "cell_type": "markdown",
   "metadata": {},
   "source": [
    "Compute PCA on zscored df\n"
   ]
  },
  {
   "cell_type": "code",
   "execution_count": 543,
   "metadata": {},
   "outputs": [
    {
     "data": {
      "text/html": [
       "<div>\n",
       "<style scoped>\n",
       "    .dataframe tbody tr th:only-of-type {\n",
       "        vertical-align: middle;\n",
       "    }\n",
       "\n",
       "    .dataframe tbody tr th {\n",
       "        vertical-align: top;\n",
       "    }\n",
       "\n",
       "    .dataframe thead th {\n",
       "        text-align: right;\n",
       "    }\n",
       "</style>\n",
       "<table border=\"1\" class=\"dataframe\">\n",
       "  <thead>\n",
       "    <tr style=\"text-align: right;\">\n",
       "      <th></th>\n",
       "      <th>timepoint</th>\n",
       "      <th>area</th>\n",
       "      <th>convex_area</th>\n",
       "      <th>centroid_local-0</th>\n",
       "      <th>centroid_local-1</th>\n",
       "      <th>eccentricity</th>\n",
       "      <th>equivalent_diameter</th>\n",
       "      <th>extent</th>\n",
       "      <th>moments_central-0-0</th>\n",
       "      <th>moments_central-0-1</th>\n",
       "      <th>...</th>\n",
       "      <th>moments_normalized-2-2</th>\n",
       "      <th>moments_normalized-2-3</th>\n",
       "      <th>moments_normalized-3-0</th>\n",
       "      <th>moments_normalized-3-1</th>\n",
       "      <th>moments_normalized-3-2</th>\n",
       "      <th>moments_normalized-3-3</th>\n",
       "      <th>axis_major_length</th>\n",
       "      <th>axis_minor_length</th>\n",
       "      <th>perimeter</th>\n",
       "      <th>solidity</th>\n",
       "    </tr>\n",
       "  </thead>\n",
       "  <tbody>\n",
       "    <tr>\n",
       "      <th>0</th>\n",
       "      <td>0</td>\n",
       "      <td>-0.672278</td>\n",
       "      <td>-0.679803</td>\n",
       "      <td>-0.669688</td>\n",
       "      <td>-0.495495</td>\n",
       "      <td>-1.229578</td>\n",
       "      <td>-0.634822</td>\n",
       "      <td>0.116547</td>\n",
       "      <td>-0.672278</td>\n",
       "      <td>0.467751</td>\n",
       "      <td>...</td>\n",
       "      <td>-0.594330</td>\n",
       "      <td>0.063954</td>\n",
       "      <td>0.204475</td>\n",
       "      <td>0.240847</td>\n",
       "      <td>0.009545</td>\n",
       "      <td>0.053267</td>\n",
       "      <td>-0.922656</td>\n",
       "      <td>-0.308128</td>\n",
       "      <td>-0.698472</td>\n",
       "      <td>0.306951</td>\n",
       "    </tr>\n",
       "    <tr>\n",
       "      <th>1</th>\n",
       "      <td>1</td>\n",
       "      <td>-0.342303</td>\n",
       "      <td>-0.405285</td>\n",
       "      <td>-0.139610</td>\n",
       "      <td>-0.392488</td>\n",
       "      <td>-1.461412</td>\n",
       "      <td>-0.256937</td>\n",
       "      <td>0.633346</td>\n",
       "      <td>-0.342303</td>\n",
       "      <td>-0.377790</td>\n",
       "      <td>...</td>\n",
       "      <td>-0.551744</td>\n",
       "      <td>0.035020</td>\n",
       "      <td>0.000797</td>\n",
       "      <td>0.115249</td>\n",
       "      <td>0.072872</td>\n",
       "      <td>0.045683</td>\n",
       "      <td>-0.641878</td>\n",
       "      <td>0.105018</td>\n",
       "      <td>-0.515416</td>\n",
       "      <td>1.014296</td>\n",
       "    </tr>\n",
       "    <tr>\n",
       "      <th>2</th>\n",
       "      <td>2</td>\n",
       "      <td>-0.118262</td>\n",
       "      <td>-0.178309</td>\n",
       "      <td>-0.447341</td>\n",
       "      <td>-0.060712</td>\n",
       "      <td>-1.452191</td>\n",
       "      <td>-0.017529</td>\n",
       "      <td>0.868036</td>\n",
       "      <td>-0.118262</td>\n",
       "      <td>-0.767458</td>\n",
       "      <td>...</td>\n",
       "      <td>-0.477795</td>\n",
       "      <td>0.076354</td>\n",
       "      <td>0.556122</td>\n",
       "      <td>0.115999</td>\n",
       "      <td>-0.095857</td>\n",
       "      <td>0.037167</td>\n",
       "      <td>-0.435201</td>\n",
       "      <td>0.359591</td>\n",
       "      <td>-0.255245</td>\n",
       "      <td>0.776946</td>\n",
       "    </tr>\n",
       "    <tr>\n",
       "      <th>3</th>\n",
       "      <td>3</td>\n",
       "      <td>0.030948</td>\n",
       "      <td>-0.012120</td>\n",
       "      <td>0.075088</td>\n",
       "      <td>0.267782</td>\n",
       "      <td>-1.552178</td>\n",
       "      <td>0.135413</td>\n",
       "      <td>-0.270927</td>\n",
       "      <td>0.030948</td>\n",
       "      <td>0.139398</td>\n",
       "      <td>...</td>\n",
       "      <td>-0.722782</td>\n",
       "      <td>0.150271</td>\n",
       "      <td>0.081217</td>\n",
       "      <td>0.173651</td>\n",
       "      <td>0.057070</td>\n",
       "      <td>0.034734</td>\n",
       "      <td>-0.323444</td>\n",
       "      <td>0.528168</td>\n",
       "      <td>-0.094102</td>\n",
       "      <td>0.438914</td>\n",
       "    </tr>\n",
       "    <tr>\n",
       "      <th>4</th>\n",
       "      <td>4</td>\n",
       "      <td>0.051984</td>\n",
       "      <td>-0.023692</td>\n",
       "      <td>-0.076781</td>\n",
       "      <td>0.435442</td>\n",
       "      <td>-0.536029</td>\n",
       "      <td>0.156593</td>\n",
       "      <td>-0.229042</td>\n",
       "      <td>0.051984</td>\n",
       "      <td>-0.377790</td>\n",
       "      <td>...</td>\n",
       "      <td>-0.640563</td>\n",
       "      <td>0.106715</td>\n",
       "      <td>0.249752</td>\n",
       "      <td>0.447420</td>\n",
       "      <td>0.016068</td>\n",
       "      <td>0.115046</td>\n",
       "      <td>-0.142846</td>\n",
       "      <td>0.352098</td>\n",
       "      <td>-0.130455</td>\n",
       "      <td>0.873331</td>\n",
       "    </tr>\n",
       "    <tr>\n",
       "      <th>...</th>\n",
       "      <td>...</td>\n",
       "      <td>...</td>\n",
       "      <td>...</td>\n",
       "      <td>...</td>\n",
       "      <td>...</td>\n",
       "      <td>...</td>\n",
       "      <td>...</td>\n",
       "      <td>...</td>\n",
       "      <td>...</td>\n",
       "      <td>...</td>\n",
       "      <td>...</td>\n",
       "      <td>...</td>\n",
       "      <td>...</td>\n",
       "      <td>...</td>\n",
       "      <td>...</td>\n",
       "      <td>...</td>\n",
       "      <td>...</td>\n",
       "      <td>...</td>\n",
       "      <td>...</td>\n",
       "      <td>...</td>\n",
       "      <td>...</td>\n",
       "    </tr>\n",
       "    <tr>\n",
       "      <th>6803</th>\n",
       "      <td>18</td>\n",
       "      <td>-0.196699</td>\n",
       "      <td>-0.241327</td>\n",
       "      <td>-0.399750</td>\n",
       "      <td>0.069828</td>\n",
       "      <td>0.484359</td>\n",
       "      <td>-0.099944</td>\n",
       "      <td>0.292374</td>\n",
       "      <td>-0.196699</td>\n",
       "      <td>-0.248493</td>\n",
       "      <td>...</td>\n",
       "      <td>-0.070481</td>\n",
       "      <td>0.151229</td>\n",
       "      <td>-0.070094</td>\n",
       "      <td>0.927513</td>\n",
       "      <td>0.170161</td>\n",
       "      <td>0.303898</td>\n",
       "      <td>-0.068567</td>\n",
       "      <td>-0.215338</td>\n",
       "      <td>-0.290685</td>\n",
       "      <td>0.602480</td>\n",
       "    </tr>\n",
       "    <tr>\n",
       "      <th>6804</th>\n",
       "      <td>19</td>\n",
       "      <td>-0.147263</td>\n",
       "      <td>-0.188208</td>\n",
       "      <td>-0.146002</td>\n",
       "      <td>-0.038420</td>\n",
       "      <td>0.177501</td>\n",
       "      <td>-0.047832</td>\n",
       "      <td>0.082036</td>\n",
       "      <td>-0.147263</td>\n",
       "      <td>0.010101</td>\n",
       "      <td>...</td>\n",
       "      <td>-0.270898</td>\n",
       "      <td>0.098784</td>\n",
       "      <td>-0.076362</td>\n",
       "      <td>0.838382</td>\n",
       "      <td>0.118535</td>\n",
       "      <td>0.228487</td>\n",
       "      <td>-0.128731</td>\n",
       "      <td>-0.051372</td>\n",
       "      <td>-0.254908</td>\n",
       "      <td>0.514533</td>\n",
       "    </tr>\n",
       "    <tr>\n",
       "      <th>6805</th>\n",
       "      <td>20</td>\n",
       "      <td>-0.093018</td>\n",
       "      <td>-0.159348</td>\n",
       "      <td>-0.385145</td>\n",
       "      <td>0.234831</td>\n",
       "      <td>0.099667</td>\n",
       "      <td>0.008692</td>\n",
       "      <td>0.274560</td>\n",
       "      <td>-0.093018</td>\n",
       "      <td>0.010101</td>\n",
       "      <td>...</td>\n",
       "      <td>-0.246431</td>\n",
       "      <td>0.139910</td>\n",
       "      <td>-0.113379</td>\n",
       "      <td>0.626199</td>\n",
       "      <td>0.171426</td>\n",
       "      <td>0.194492</td>\n",
       "      <td>-0.106726</td>\n",
       "      <td>0.024466</td>\n",
       "      <td>-0.225270</td>\n",
       "      <td>0.850379</td>\n",
       "    </tr>\n",
       "    <tr>\n",
       "      <th>6806</th>\n",
       "      <td>21</td>\n",
       "      <td>-0.027654</td>\n",
       "      <td>-0.100931</td>\n",
       "      <td>-0.334828</td>\n",
       "      <td>0.277158</td>\n",
       "      <td>0.072912</td>\n",
       "      <td>0.075923</td>\n",
       "      <td>0.593756</td>\n",
       "      <td>-0.027654</td>\n",
       "      <td>0.010101</td>\n",
       "      <td>...</td>\n",
       "      <td>-0.220982</td>\n",
       "      <td>0.113604</td>\n",
       "      <td>-0.174710</td>\n",
       "      <td>0.625354</td>\n",
       "      <td>0.143214</td>\n",
       "      <td>0.205403</td>\n",
       "      <td>-0.058058</td>\n",
       "      <td>0.094354</td>\n",
       "      <td>-0.159616</td>\n",
       "      <td>0.900278</td>\n",
       "    </tr>\n",
       "    <tr>\n",
       "      <th>6807</th>\n",
       "      <td>22</td>\n",
       "      <td>0.055591</td>\n",
       "      <td>0.008096</td>\n",
       "      <td>-0.189824</td>\n",
       "      <td>0.091905</td>\n",
       "      <td>-0.271431</td>\n",
       "      <td>0.160215</td>\n",
       "      <td>0.953324</td>\n",
       "      <td>0.055591</td>\n",
       "      <td>0.268695</td>\n",
       "      <td>...</td>\n",
       "      <td>-0.242078</td>\n",
       "      <td>0.065780</td>\n",
       "      <td>-0.160783</td>\n",
       "      <td>0.499156</td>\n",
       "      <td>0.146243</td>\n",
       "      <td>0.153343</td>\n",
       "      <td>-0.078216</td>\n",
       "      <td>0.284385</td>\n",
       "      <td>-0.019628</td>\n",
       "      <td>0.485119</td>\n",
       "    </tr>\n",
       "  </tbody>\n",
       "</table>\n",
       "<p>6808 rows × 48 columns</p>\n",
       "</div>"
      ],
      "text/plain": [
       "      timepoint      area  convex_area  centroid_local-0  centroid_local-1  \\\n",
       "0             0 -0.672278    -0.679803         -0.669688         -0.495495   \n",
       "1             1 -0.342303    -0.405285         -0.139610         -0.392488   \n",
       "2             2 -0.118262    -0.178309         -0.447341         -0.060712   \n",
       "3             3  0.030948    -0.012120          0.075088          0.267782   \n",
       "4             4  0.051984    -0.023692         -0.076781          0.435442   \n",
       "...         ...       ...          ...               ...               ...   \n",
       "6803         18 -0.196699    -0.241327         -0.399750          0.069828   \n",
       "6804         19 -0.147263    -0.188208         -0.146002         -0.038420   \n",
       "6805         20 -0.093018    -0.159348         -0.385145          0.234831   \n",
       "6806         21 -0.027654    -0.100931         -0.334828          0.277158   \n",
       "6807         22  0.055591     0.008096         -0.189824          0.091905   \n",
       "\n",
       "      eccentricity  equivalent_diameter    extent  moments_central-0-0  \\\n",
       "0        -1.229578            -0.634822  0.116547            -0.672278   \n",
       "1        -1.461412            -0.256937  0.633346            -0.342303   \n",
       "2        -1.452191            -0.017529  0.868036            -0.118262   \n",
       "3        -1.552178             0.135413 -0.270927             0.030948   \n",
       "4        -0.536029             0.156593 -0.229042             0.051984   \n",
       "...            ...                  ...       ...                  ...   \n",
       "6803      0.484359            -0.099944  0.292374            -0.196699   \n",
       "6804      0.177501            -0.047832  0.082036            -0.147263   \n",
       "6805      0.099667             0.008692  0.274560            -0.093018   \n",
       "6806      0.072912             0.075923  0.593756            -0.027654   \n",
       "6807     -0.271431             0.160215  0.953324             0.055591   \n",
       "\n",
       "      moments_central-0-1  ...  moments_normalized-2-2  \\\n",
       "0                0.467751  ...               -0.594330   \n",
       "1               -0.377790  ...               -0.551744   \n",
       "2               -0.767458  ...               -0.477795   \n",
       "3                0.139398  ...               -0.722782   \n",
       "4               -0.377790  ...               -0.640563   \n",
       "...                   ...  ...                     ...   \n",
       "6803            -0.248493  ...               -0.070481   \n",
       "6804             0.010101  ...               -0.270898   \n",
       "6805             0.010101  ...               -0.246431   \n",
       "6806             0.010101  ...               -0.220982   \n",
       "6807             0.268695  ...               -0.242078   \n",
       "\n",
       "      moments_normalized-2-3  moments_normalized-3-0  moments_normalized-3-1  \\\n",
       "0                   0.063954                0.204475                0.240847   \n",
       "1                   0.035020                0.000797                0.115249   \n",
       "2                   0.076354                0.556122                0.115999   \n",
       "3                   0.150271                0.081217                0.173651   \n",
       "4                   0.106715                0.249752                0.447420   \n",
       "...                      ...                     ...                     ...   \n",
       "6803                0.151229               -0.070094                0.927513   \n",
       "6804                0.098784               -0.076362                0.838382   \n",
       "6805                0.139910               -0.113379                0.626199   \n",
       "6806                0.113604               -0.174710                0.625354   \n",
       "6807                0.065780               -0.160783                0.499156   \n",
       "\n",
       "      moments_normalized-3-2  moments_normalized-3-3  axis_major_length  \\\n",
       "0                   0.009545                0.053267          -0.922656   \n",
       "1                   0.072872                0.045683          -0.641878   \n",
       "2                  -0.095857                0.037167          -0.435201   \n",
       "3                   0.057070                0.034734          -0.323444   \n",
       "4                   0.016068                0.115046          -0.142846   \n",
       "...                      ...                     ...                ...   \n",
       "6803                0.170161                0.303898          -0.068567   \n",
       "6804                0.118535                0.228487          -0.128731   \n",
       "6805                0.171426                0.194492          -0.106726   \n",
       "6806                0.143214                0.205403          -0.058058   \n",
       "6807                0.146243                0.153343          -0.078216   \n",
       "\n",
       "      axis_minor_length  perimeter  solidity  \n",
       "0             -0.308128  -0.698472  0.306951  \n",
       "1              0.105018  -0.515416  1.014296  \n",
       "2              0.359591  -0.255245  0.776946  \n",
       "3              0.528168  -0.094102  0.438914  \n",
       "4              0.352098  -0.130455  0.873331  \n",
       "...                 ...        ...       ...  \n",
       "6803          -0.215338  -0.290685  0.602480  \n",
       "6804          -0.051372  -0.254908  0.514533  \n",
       "6805           0.024466  -0.225270  0.850379  \n",
       "6806           0.094354  -0.159616  0.900278  \n",
       "6807           0.284385  -0.019628  0.485119  \n",
       "\n",
       "[6808 rows x 48 columns]"
      ]
     },
     "execution_count": 543,
     "metadata": {},
     "output_type": "execute_result"
    }
   ],
   "source": [
    "timepoint_zscored_df"
   ]
  },
  {
   "cell_type": "code",
   "execution_count": 315,
   "metadata": {},
   "outputs": [
    {
     "name": "stdout",
     "output_type": "stream",
     "text": [
      "Loadings (Coefficients):\n",
      "                          PC1       PC2       PC3       PC4       PC5  \\\n",
      "centroid_local-0    -0.021285 -0.053361  0.103687  0.165499  0.044404   \n",
      "centroid_local-1    -0.018233 -0.066446  0.113858  0.106253  0.113671   \n",
      "eccentricity        -0.006474 -0.001894  0.024083  0.078346 -0.034385   \n",
      "equivalent_diameter -0.021936 -0.069943  0.127803  0.157330  0.112896   \n",
      "extent               0.002717 -0.007203 -0.016811 -0.037746  0.040686   \n",
      "moments_central-0-0 -0.028883 -0.072755  0.143857  0.185991  0.142374   \n",
      "moments_central-0-1  0.003330 -0.004503 -0.027235  0.106064 -0.112805   \n",
      "moments_central-0-2 -0.039287 -0.066554  0.171704  0.236372  0.167887   \n",
      "moments_central-0-3 -0.003944  0.043494 -0.005556  0.331463 -0.405970   \n",
      "moments_central-1-0  0.000153 -0.053585 -0.064612 -0.169968 -0.025938   \n",
      "moments_central-1-1 -0.000304  0.091006  0.388334 -0.147736 -0.178406   \n",
      "moments_central-1-2 -0.002595  0.002046 -0.072080  0.126357 -0.311389   \n",
      "moments_central-1-3  0.005437  0.111270  0.419527 -0.146798 -0.174323   \n",
      "moments_central-2-0 -0.039522 -0.058150  0.161908  0.256022  0.220860   \n",
      "moments_central-2-1 -0.000787 -0.035607  0.034510 -0.395434  0.346650   \n",
      "moments_central-2-2 -0.045795 -0.045256  0.178245  0.333907  0.254726   \n",
      "moments_central-2-3 -0.001129 -0.015659 -0.003346 -0.309679  0.150698   \n",
      "moments_central-3-0 -0.000228 -0.011154  0.055541 -0.111698  0.396877   \n",
      "moments_central-3-1  0.003347  0.120990  0.451069 -0.152969 -0.150851   \n",
      "moments_central-3-2 -0.002122 -0.026853 -0.121097  0.049705 -0.229323   \n",
      "moments_central-3-3  0.008509  0.134728  0.463752 -0.145581 -0.131644   \n",
      "moments_hu-0        -0.007551  0.024813  0.033588  0.092721 -0.004262   \n",
      "moments_hu-1        -0.007564  0.020488  0.027700  0.072258 -0.013503   \n",
      "moments_hu-2        -0.001360  0.011348  0.010619  0.027921  0.002923   \n",
      "moments_hu-3        -0.000349  0.002996  0.002053  0.005284 -0.001523   \n",
      "moments_hu-4        -0.000005  0.000029  0.000024  0.000031 -0.000018   \n",
      "moments_hu-5        -0.000146  0.001403  0.001744  0.001453 -0.000593   \n",
      "moments_hu-6         0.000023  0.000118  0.000036  0.000153  0.000088   \n",
      "axis_major_length   -0.023386 -0.054142  0.126446  0.184393  0.092186   \n",
      "axis_minor_length   -0.017951 -0.070157  0.117545  0.123529  0.121362   \n",
      "perimeter           -0.023271 -0.057443  0.127808  0.178094  0.107895   \n",
      "solidity             0.010208 -0.016439 -0.043463 -0.109425 -0.017302   \n",
      "KMeans_Labels       -0.001863  0.209283 -0.120178 -0.054703  0.007058   \n",
      "UMAP_1              -0.487925 -0.797275  0.074378 -0.171314 -0.194959   \n",
      "UMAP_2               0.867634 -0.469035  0.080486 -0.020507 -0.059268   \n",
      "\n",
      "                          PC6       PC7       PC8       PC9      PC10  ...  \\\n",
      "centroid_local-0     0.091333 -0.013001 -0.035199 -0.011479  0.089536  ...   \n",
      "centroid_local-1     0.077007 -0.019769 -0.015102  0.018566  0.003880  ...   \n",
      "eccentricity         0.051020  0.206549 -0.060532 -0.175224  0.369914  ...   \n",
      "equivalent_diameter  0.048998 -0.037649 -0.028380  0.026847 -0.039017  ...   \n",
      "extent              -0.037272 -0.130573  0.092395  0.201061 -0.238141  ...   \n",
      "moments_central-0-0  0.059194 -0.053296 -0.025938  0.046403 -0.057512  ...   \n",
      "moments_central-0-1  0.121710  0.805668  0.241611  0.319400 -0.368858  ...   \n",
      "moments_central-0-2  0.105355 -0.071545 -0.032239  0.060755 -0.138806  ...   \n",
      "moments_central-0-3 -0.138943  0.004987 -0.314525 -0.422549 -0.423781  ...   \n",
      "moments_central-1-0  0.010187  0.029785 -0.821961  0.493604 -0.029057  ...   \n",
      "moments_central-1-1  0.020765  0.029308 -0.016073  0.045827  0.018718  ...   \n",
      "moments_central-1-2  0.474541 -0.120216  0.030474  0.152039  0.132202  ...   \n",
      "moments_central-1-3  0.022587 -0.003231  0.009786 -0.018725  0.001804  ...   \n",
      "moments_central-2-0  0.074645 -0.029764 -0.032258  0.058535  0.014038  ...   \n",
      "moments_central-2-1  0.396260  0.030223  0.073535 -0.037535 -0.003123  ...   \n",
      "moments_central-2-2  0.152311 -0.046946 -0.016058  0.101733 -0.053416  ...   \n",
      "moments_central-2-3  0.455072  0.056336 -0.209513 -0.464396 -0.401602  ...   \n",
      "moments_central-3-0 -0.399583  0.345652 -0.189550 -0.113376  0.109159  ...   \n",
      "moments_central-3-1 -0.024280  0.029967 -0.006146  0.089817  0.027571  ...   \n",
      "moments_central-3-2  0.335563  0.079489 -0.079913  0.090171  0.275276  ...   \n",
      "moments_central-3-3 -0.064934 -0.004701  0.028168  0.001373  0.010414  ...   \n",
      "moments_hu-0         0.073064  0.210734 -0.120393 -0.193251  0.234244  ...   \n",
      "moments_hu-1         0.090744  0.225029 -0.089952 -0.191573  0.272472  ...   \n",
      "moments_hu-2        -0.002398  0.033316 -0.052775 -0.052576  0.014171  ...   \n",
      "moments_hu-3         0.004328  0.013789 -0.013543 -0.015155  0.004169  ...   \n",
      "moments_hu-4         0.000090  0.000203 -0.000163 -0.000203 -0.000005  ...   \n",
      "moments_hu-5         0.005020  0.009288 -0.006952 -0.008568  0.001081  ...   \n",
      "moments_hu-6         0.000167 -0.000020  0.000086  0.000196  0.000125  ...   \n",
      "axis_major_length    0.076900  0.072528 -0.065486 -0.067422  0.110756  ...   \n",
      "axis_minor_length    0.021150 -0.122679 -0.011790  0.096109 -0.179967  ...   \n",
      "perimeter            0.057133  0.000144 -0.063224 -0.000657  0.005579  ...   \n",
      "solidity            -0.049677 -0.116019  0.135131  0.127164 -0.111572  ...   \n",
      "KMeans_Labels       -0.008808 -0.015433  0.015134  0.047649 -0.011812  ...   \n",
      "UMAP_1              -0.090967  0.025180  0.056079 -0.047485  0.019547  ...   \n",
      "UMAP_2              -0.018765  0.007097  0.014182 -0.023657  0.010400  ...   \n",
      "\n",
      "                         PC26      PC27      PC28      PC29      PC30  \\\n",
      "centroid_local-0    -0.065871  0.029785  0.067567 -0.017721 -0.005583   \n",
      "centroid_local-1    -0.070100  0.038189  0.088422 -0.050688 -0.007181   \n",
      "eccentricity        -0.114001 -0.043799  0.226910 -0.042813  0.013810   \n",
      "equivalent_diameter -0.093081 -0.234697 -0.170304  0.120151  0.093197   \n",
      "extent              -0.021687  0.027439  0.028439 -0.014358  0.009899   \n",
      "moments_central-0-0 -0.080426 -0.170080 -0.005570  0.100491  0.119268   \n",
      "moments_central-0-1  0.001005  0.000146  0.000355 -0.002220  0.002418   \n",
      "moments_central-0-2  0.078343  0.101682 -0.005505 -0.022871 -0.047973   \n",
      "moments_central-0-3 -0.015143  0.010502  0.020536 -0.022436  0.006618   \n",
      "moments_central-1-0 -0.000684 -0.003823 -0.004744 -0.001433  0.000880   \n",
      "moments_central-1-1  0.428344 -0.330212  0.137686 -0.072820  0.028575   \n",
      "moments_central-1-2  0.033723  0.000352 -0.014702  0.007898  0.009065   \n",
      "moments_central-1-3 -0.396952  0.300527 -0.119656  0.057195 -0.026085   \n",
      "moments_central-2-0  0.066843  0.112142  0.045623 -0.046512 -0.060904   \n",
      "moments_central-2-1 -0.003856  0.004183  0.015165 -0.023239  0.005161   \n",
      "moments_central-2-2 -0.075139 -0.103842  0.006281  0.007814  0.038590   \n",
      "moments_central-2-3  0.015369  0.001309 -0.009727  0.008251 -0.001380   \n",
      "moments_central-3-0  0.001154  0.007730  0.001684 -0.002439  0.009573   \n",
      "moments_central-3-1 -0.339218  0.274151 -0.106646  0.084452 -0.029323   \n",
      "moments_central-3-2 -0.001017 -0.011632  0.013906 -0.016597  0.000146   \n",
      "moments_central-3-3  0.328707 -0.267416  0.088841 -0.073674  0.027871   \n",
      "moments_hu-0        -0.051057 -0.042821  0.004553 -0.470417 -0.481658   \n",
      "moments_hu-1        -0.083605 -0.016840  0.244354  0.274433  0.417896   \n",
      "moments_hu-2         0.143359  0.062259 -0.028657  0.255271  0.388057   \n",
      "moments_hu-3         0.032036 -0.105716  0.164572  0.585954 -0.521296   \n",
      "moments_hu-4         0.000680 -0.001712  0.003793  0.011437 -0.009309   \n",
      "moments_hu-5         0.002474 -0.053119  0.157691  0.441509 -0.339172   \n",
      "moments_hu-6        -0.011534 -0.000240 -0.000976 -0.019596 -0.000166   \n",
      "axis_major_length    0.170718 -0.095684 -0.717696  0.108285 -0.105371   \n",
      "axis_minor_length   -0.335624 -0.289409  0.387546 -0.164444 -0.014412   \n",
      "perimeter            0.435842  0.630570  0.242819 -0.003695 -0.034089   \n",
      "solidity             0.126292  0.135089  0.088654 -0.059062 -0.095591   \n",
      "KMeans_Labels       -0.031915 -0.045680 -0.074248  0.047727 -0.010917   \n",
      "UMAP_1              -0.008254 -0.005830 -0.014366  0.008095 -0.002605   \n",
      "UMAP_2              -0.003295 -0.003743 -0.008666  0.005534 -0.001355   \n",
      "\n",
      "                         PC31      PC32      PC33      PC34          PC35  \n",
      "centroid_local-0     0.009205  0.008139 -0.003740 -0.002207 -1.595931e-04  \n",
      "centroid_local-1     0.020549 -0.001496 -0.000756 -0.009091 -2.358816e-04  \n",
      "eccentricity        -0.046128 -0.003203  0.002238  0.012297 -1.530672e-05  \n",
      "equivalent_diameter -0.040049 -0.198135 -0.214321 -0.757975  2.785841e-03  \n",
      "extent               0.004445  0.004210 -0.001518 -0.002540 -8.064857e-05  \n",
      "moments_central-0-0  0.829379  0.110261  0.053963  0.223214 -4.722146e-04  \n",
      "moments_central-0-1  0.000851 -0.000977 -0.000138 -0.000130  8.032985e-06  \n",
      "moments_central-0-2 -0.157810 -0.012991 -0.010036 -0.034847  1.997673e-04  \n",
      "moments_central-0-3  0.007001 -0.002497  0.000135 -0.001632 -6.270391e-05  \n",
      "moments_central-1-0 -0.000195  0.000070 -0.000102 -0.000228 -8.278914e-06  \n",
      "moments_central-1-1 -0.009864  0.008920  0.001840 -0.002582  8.307807e-05  \n",
      "moments_central-1-2  0.006549  0.000004  0.000495  0.000838  3.198834e-05  \n",
      "moments_central-1-3  0.011235 -0.010465 -0.003221  0.003208 -2.875517e-05  \n",
      "moments_central-2-0 -0.150101 -0.020519 -0.007477 -0.041792  1.310583e-04  \n",
      "moments_central-2-1  0.003017 -0.003611  0.000264  0.001181 -4.295141e-05  \n",
      "moments_central-2-2  0.025770 -0.000532  0.001090  0.002239 -1.230081e-04  \n",
      "moments_central-2-3  0.001429  0.000811 -0.000127 -0.001533  2.095123e-05  \n",
      "moments_central-3-0  0.008003 -0.000905 -0.000473 -0.000804 -4.127642e-07  \n",
      "moments_central-3-1  0.009974 -0.004145 -0.001539  0.000970 -1.045955e-04  \n",
      "moments_central-3-2 -0.001995 -0.002252 -0.000518 -0.001777 -9.696211e-06  \n",
      "moments_central-3-3 -0.010389  0.005257  0.003618 -0.001873  2.704569e-05  \n",
      "moments_hu-0         0.174359  0.014756 -0.046621 -0.120833  7.944244e-04  \n",
      "moments_hu-1        -0.115031 -0.030319  0.026547  0.068273 -5.453757e-04  \n",
      "moments_hu-2        -0.026987  0.018823  0.009327  0.002452 -3.883263e-04  \n",
      "moments_hu-3         0.036523 -0.560125  0.060695  0.129922  5.783337e-03  \n",
      "moments_hu-4        -0.000856  0.008939 -0.037802  0.004915 -9.991145e-01  \n",
      "moments_hu-5        -0.061569  0.787641 -0.057005 -0.180498  1.732072e-02  \n",
      "moments_hu-6         0.010473  0.018581  0.959389 -0.277629 -3.774245e-02  \n",
      "axis_major_length   -0.254433  0.097380  0.106987  0.355550 -1.433531e-03  \n",
      "axis_minor_length   -0.378427  0.041127  0.087346  0.316187 -1.010137e-03  \n",
      "perimeter            0.037359 -0.019047  0.002174 -0.010801  3.667605e-05  \n",
      "solidity             0.015279 -0.007385  0.001035 -0.003136  1.169959e-04  \n",
      "KMeans_Labels        0.000063  0.003112  0.010163  0.007587 -1.403868e-04  \n",
      "UMAP_1              -0.001661  0.000502  0.002089  0.001292 -2.586028e-05  \n",
      "UMAP_2              -0.000010  0.000400  0.001310  0.000934 -1.772959e-05  \n",
      "\n",
      "[35 rows x 35 columns]\n",
      "Explained Variance Ratio:\n",
      "[6.73267062e-01 1.58284187e-01 4.61565799e-02 2.98326850e-02\n",
      " 2.15472835e-02 1.74361628e-02 1.21005794e-02 1.08558194e-02\n",
      " 8.77192736e-03 6.11860084e-03 4.27868553e-03 2.82551902e-03\n",
      " 2.53224847e-03 1.24454634e-03 1.13837525e-03 9.03429830e-04\n",
      " 7.04662646e-04 4.73175165e-04 4.46649184e-04 3.08285041e-04\n",
      " 2.38965395e-04 1.91934957e-04 1.26804484e-04 7.08659787e-05\n",
      " 5.49195818e-05 3.07986437e-05 2.77180758e-05 1.84504173e-05\n",
      " 7.34789945e-06 4.12335211e-06 9.93732438e-07 4.86258702e-07\n",
      " 6.77129323e-08 5.97932300e-08 1.13896215e-10]\n"
     ]
    },
    {
     "data": {
      "image/png": "[encoded data removed]",
      "text/plain": [
       "<Figure size 640x480 with 1 Axes>"
      ]
     },
     "metadata": {},
     "output_type": "display_data"
    }
   ],
   "source": [
    "from sklearn.decomposition import PCA\n",
    "\n",
    "# timepoint selection\n",
    "subset_df = timepoint_zscored_df[timepoint_zscored_df['timepoint'] ==22]\n",
    "\n",
    "# Select relevant columns for PCA (excluding embryo ID, timepoint and constant columns)\n",
    "columns_for_pca = timepoint_zscored_df.columns[0:]\n",
    "\n",
    "# Create a PCA instance\n",
    "pca = PCA()\n",
    "\n",
    "# Fit and transform the data\n",
    "pca_result = pca.fit_transform(timepoint_zscored_df[columns_for_pca])\n",
    "\n",
    "# Create a DataFrame to store the results\n",
    "pca_df = pd.DataFrame(data=pca_result, columns=[f'PC{i+1}' for i in range(len(columns_for_pca))])\n",
    "\n",
    "# Get the loadings (coefficients) for each variable in each principal component\n",
    "loadings_df = pd.DataFrame(pca.components_.T, columns=[f'PC{i+1}' for i in range(len(columns_for_pca))], index=columns_for_pca)\n",
    "\n",
    "# Display the loadings\n",
    "print(\"Loadings (Coefficients):\")\n",
    "print(loadings_df)\n",
    "\n",
    "# Print the explained variance ratio for each principal component\n",
    "print(\"Explained Variance Ratio:\")\n",
    "print(pca.explained_variance_ratio_)\n",
    "\n",
    "# Plotting the explained variance\n",
    "import matplotlib.pyplot as plt\n",
    "\n",
    "plt.plot(range(1, len(columns_for_pca) + 1), pca.explained_variance_ratio_.cumsum(), marker='o', linestyle='--')\n",
    "plt.xlabel('Number of Principal Components')\n",
    "plt.ylabel('Cumulative Explained Variance')\n",
    "plt.show()"
   ]
  },
  {
   "cell_type": "code",
   "execution_count": 170,
   "metadata": {},
   "outputs": [
    {
     "data": {
      "text/plain": [
       "<Axes: >"
      ]
     },
     "execution_count": 170,
     "metadata": {},
     "output_type": "execute_result"
    },
    {
     "data": {
      "image/png": "[encoded data removed]",
      "text/plain": [
       "<Figure size 640x480 with 1 Axes>"
      ]
     },
     "metadata": {},
     "output_type": "display_data"
    }
   ],
   "source": [
    "loadings_df.iloc[:, :5].plot.bar()"
   ]
  },
  {
   "cell_type": "markdown",
   "metadata": {},
   "source": [
    "UMAP on PCs"
   ]
  },
  {
   "cell_type": "code",
   "execution_count": 544,
   "metadata": {},
   "outputs": [],
   "source": [
    "# Add zscored feature you want to visualize to the PCA dataframe\n",
    "pca_feature_hue_df = pca_df.merge(timepoint_zscored_df[['area']], left_index=True, right_index=True, how='left')\n"
   ]
  },
  {
   "cell_type": "code",
   "execution_count": 545,
   "metadata": {},
   "outputs": [
    {
     "data": {
      "text/html": [
       "<div>\n",
       "<style scoped>\n",
       "    .dataframe tbody tr th:only-of-type {\n",
       "        vertical-align: middle;\n",
       "    }\n",
       "\n",
       "    .dataframe tbody tr th {\n",
       "        vertical-align: top;\n",
       "    }\n",
       "\n",
       "    .dataframe thead th {\n",
       "        text-align: right;\n",
       "    }\n",
       "</style>\n",
       "<table border=\"1\" class=\"dataframe\">\n",
       "  <thead>\n",
       "    <tr style=\"text-align: right;\">\n",
       "      <th></th>\n",
       "      <th>PC1</th>\n",
       "      <th>PC2</th>\n",
       "      <th>PC3</th>\n",
       "      <th>PC4</th>\n",
       "      <th>PC5</th>\n",
       "      <th>PC6</th>\n",
       "      <th>PC7</th>\n",
       "      <th>PC8</th>\n",
       "      <th>PC9</th>\n",
       "      <th>PC10</th>\n",
       "      <th>...</th>\n",
       "      <th>PC30</th>\n",
       "      <th>PC31</th>\n",
       "      <th>PC32</th>\n",
       "      <th>PC33</th>\n",
       "      <th>PC34</th>\n",
       "      <th>PC35</th>\n",
       "      <th>UMAP_1</th>\n",
       "      <th>UMAP_2</th>\n",
       "      <th>KMeans_Labels</th>\n",
       "      <th>area</th>\n",
       "    </tr>\n",
       "  </thead>\n",
       "  <tbody>\n",
       "    <tr>\n",
       "      <th>0</th>\n",
       "      <td>-10.487149</td>\n",
       "      <td>-5.226509</td>\n",
       "      <td>-1.112185</td>\n",
       "      <td>0.876952</td>\n",
       "      <td>2.485867</td>\n",
       "      <td>-0.757917</td>\n",
       "      <td>1.285647</td>\n",
       "      <td>-2.573745</td>\n",
       "      <td>1.511445</td>\n",
       "      <td>-2.214658</td>\n",
       "      <td>...</td>\n",
       "      <td>-0.032051</td>\n",
       "      <td>0.015132</td>\n",
       "      <td>0.008258</td>\n",
       "      <td>0.000914</td>\n",
       "      <td>-0.001279</td>\n",
       "      <td>-0.000053</td>\n",
       "      <td>8.124929</td>\n",
       "      <td>-15.484546</td>\n",
       "      <td>1</td>\n",
       "      <td>-0.672278</td>\n",
       "    </tr>\n",
       "    <tr>\n",
       "      <th>1</th>\n",
       "      <td>-9.920029</td>\n",
       "      <td>-9.291936</td>\n",
       "      <td>-12.024563</td>\n",
       "      <td>9.238345</td>\n",
       "      <td>4.568296</td>\n",
       "      <td>3.953337</td>\n",
       "      <td>5.295908</td>\n",
       "      <td>0.622985</td>\n",
       "      <td>0.121394</td>\n",
       "      <td>-0.382933</td>\n",
       "      <td>...</td>\n",
       "      <td>0.002299</td>\n",
       "      <td>0.014968</td>\n",
       "      <td>0.015477</td>\n",
       "      <td>-0.001136</td>\n",
       "      <td>0.004874</td>\n",
       "      <td>-0.000437</td>\n",
       "      <td>8.184938</td>\n",
       "      <td>-16.646624</td>\n",
       "      <td>1</td>\n",
       "      <td>-0.342303</td>\n",
       "    </tr>\n",
       "    <tr>\n",
       "      <th>2</th>\n",
       "      <td>-10.566898</td>\n",
       "      <td>-5.556084</td>\n",
       "      <td>-1.393698</td>\n",
       "      <td>3.274582</td>\n",
       "      <td>1.186084</td>\n",
       "      <td>0.186536</td>\n",
       "      <td>2.752655</td>\n",
       "      <td>3.363597</td>\n",
       "      <td>0.380628</td>\n",
       "      <td>-1.778898</td>\n",
       "      <td>...</td>\n",
       "      <td>0.012984</td>\n",
       "      <td>0.001539</td>\n",
       "      <td>-0.003462</td>\n",
       "      <td>0.000789</td>\n",
       "      <td>0.001565</td>\n",
       "      <td>0.000068</td>\n",
       "      <td>7.608419</td>\n",
       "      <td>-16.297266</td>\n",
       "      <td>1</td>\n",
       "      <td>-0.118262</td>\n",
       "    </tr>\n",
       "    <tr>\n",
       "      <th>3</th>\n",
       "      <td>16.701020</td>\n",
       "      <td>-0.426016</td>\n",
       "      <td>-0.167382</td>\n",
       "      <td>-0.389940</td>\n",
       "      <td>-0.787229</td>\n",
       "      <td>-0.066161</td>\n",
       "      <td>-0.638054</td>\n",
       "      <td>0.768305</td>\n",
       "      <td>-0.197913</td>\n",
       "      <td>-0.176899</td>\n",
       "      <td>...</td>\n",
       "      <td>0.003681</td>\n",
       "      <td>-0.009530</td>\n",
       "      <td>0.006283</td>\n",
       "      <td>-0.001504</td>\n",
       "      <td>0.001283</td>\n",
       "      <td>-0.000061</td>\n",
       "      <td>4.507752</td>\n",
       "      <td>8.077987</td>\n",
       "      <td>0</td>\n",
       "      <td>0.030948</td>\n",
       "    </tr>\n",
       "    <tr>\n",
       "      <th>4</th>\n",
       "      <td>-9.929279</td>\n",
       "      <td>-6.124176</td>\n",
       "      <td>-4.045230</td>\n",
       "      <td>3.997189</td>\n",
       "      <td>-1.584759</td>\n",
       "      <td>0.429390</td>\n",
       "      <td>1.124535</td>\n",
       "      <td>0.865227</td>\n",
       "      <td>4.231343</td>\n",
       "      <td>1.605343</td>\n",
       "      <td>...</td>\n",
       "      <td>-0.044442</td>\n",
       "      <td>0.014264</td>\n",
       "      <td>0.000519</td>\n",
       "      <td>0.001931</td>\n",
       "      <td>0.003725</td>\n",
       "      <td>0.000200</td>\n",
       "      <td>7.579141</td>\n",
       "      <td>-16.673964</td>\n",
       "      <td>1</td>\n",
       "      <td>0.051984</td>\n",
       "    </tr>\n",
       "    <tr>\n",
       "      <th>...</th>\n",
       "      <td>...</td>\n",
       "      <td>...</td>\n",
       "      <td>...</td>\n",
       "      <td>...</td>\n",
       "      <td>...</td>\n",
       "      <td>...</td>\n",
       "      <td>...</td>\n",
       "      <td>...</td>\n",
       "      <td>...</td>\n",
       "      <td>...</td>\n",
       "      <td>...</td>\n",
       "      <td>...</td>\n",
       "      <td>...</td>\n",
       "      <td>...</td>\n",
       "      <td>...</td>\n",
       "      <td>...</td>\n",
       "      <td>...</td>\n",
       "      <td>...</td>\n",
       "      <td>...</td>\n",
       "      <td>...</td>\n",
       "      <td>...</td>\n",
       "    </tr>\n",
       "    <tr>\n",
       "      <th>291</th>\n",
       "      <td>-14.130453</td>\n",
       "      <td>14.326103</td>\n",
       "      <td>-4.526524</td>\n",
       "      <td>-2.275126</td>\n",
       "      <td>0.202371</td>\n",
       "      <td>-0.455257</td>\n",
       "      <td>-1.598394</td>\n",
       "      <td>0.297886</td>\n",
       "      <td>1.353156</td>\n",
       "      <td>-1.418700</td>\n",
       "      <td>...</td>\n",
       "      <td>-0.013105</td>\n",
       "      <td>0.002095</td>\n",
       "      <td>-0.002956</td>\n",
       "      <td>-0.000821</td>\n",
       "      <td>-0.009069</td>\n",
       "      <td>0.000018</td>\n",
       "      <td>-1.371250</td>\n",
       "      <td>12.449165</td>\n",
       "      <td>5</td>\n",
       "      <td>0.506977</td>\n",
       "    </tr>\n",
       "    <tr>\n",
       "      <th>292</th>\n",
       "      <td>3.340960</td>\n",
       "      <td>17.764259</td>\n",
       "      <td>11.378744</td>\n",
       "      <td>-1.952457</td>\n",
       "      <td>12.993886</td>\n",
       "      <td>1.432731</td>\n",
       "      <td>5.041397</td>\n",
       "      <td>-6.874277</td>\n",
       "      <td>0.467899</td>\n",
       "      <td>3.369718</td>\n",
       "      <td>...</td>\n",
       "      <td>0.013803</td>\n",
       "      <td>0.005474</td>\n",
       "      <td>-0.001191</td>\n",
       "      <td>-0.005083</td>\n",
       "      <td>-0.007419</td>\n",
       "      <td>0.000799</td>\n",
       "      <td>0.849821</td>\n",
       "      <td>12.658986</td>\n",
       "      <td>8</td>\n",
       "      <td>0.546646</td>\n",
       "    </tr>\n",
       "    <tr>\n",
       "      <th>293</th>\n",
       "      <td>17.179954</td>\n",
       "      <td>-0.517847</td>\n",
       "      <td>-1.496983</td>\n",
       "      <td>-2.043018</td>\n",
       "      <td>-1.226269</td>\n",
       "      <td>-0.685132</td>\n",
       "      <td>-0.154756</td>\n",
       "      <td>1.085211</td>\n",
       "      <td>0.248591</td>\n",
       "      <td>-0.918156</td>\n",
       "      <td>...</td>\n",
       "      <td>0.003248</td>\n",
       "      <td>-0.022374</td>\n",
       "      <td>-0.006212</td>\n",
       "      <td>0.000274</td>\n",
       "      <td>-0.003178</td>\n",
       "      <td>0.000011</td>\n",
       "      <td>-5.143841</td>\n",
       "      <td>-16.417316</td>\n",
       "      <td>4</td>\n",
       "      <td>0.677975</td>\n",
       "    </tr>\n",
       "    <tr>\n",
       "      <th>294</th>\n",
       "      <td>-12.296639</td>\n",
       "      <td>-2.944464</td>\n",
       "      <td>4.266253</td>\n",
       "      <td>-1.555090</td>\n",
       "      <td>-2.697579</td>\n",
       "      <td>-2.648678</td>\n",
       "      <td>1.028024</td>\n",
       "      <td>-3.316114</td>\n",
       "      <td>0.944491</td>\n",
       "      <td>2.488916</td>\n",
       "      <td>...</td>\n",
       "      <td>-0.026347</td>\n",
       "      <td>-0.009593</td>\n",
       "      <td>0.001666</td>\n",
       "      <td>0.002963</td>\n",
       "      <td>0.004436</td>\n",
       "      <td>-0.000241</td>\n",
       "      <td>-6.748497</td>\n",
       "      <td>-1.389077</td>\n",
       "      <td>3</td>\n",
       "      <td>0.912233</td>\n",
       "    </tr>\n",
       "    <tr>\n",
       "      <th>295</th>\n",
       "      <td>17.191031</td>\n",
       "      <td>-0.447472</td>\n",
       "      <td>-0.552734</td>\n",
       "      <td>-1.509984</td>\n",
       "      <td>-1.159392</td>\n",
       "      <td>-0.107581</td>\n",
       "      <td>-0.050508</td>\n",
       "      <td>0.600850</td>\n",
       "      <td>0.258879</td>\n",
       "      <td>-0.319465</td>\n",
       "      <td>...</td>\n",
       "      <td>0.024987</td>\n",
       "      <td>-0.021708</td>\n",
       "      <td>-0.001439</td>\n",
       "      <td>0.000073</td>\n",
       "      <td>-0.000910</td>\n",
       "      <td>-0.000033</td>\n",
       "      <td>19.690773</td>\n",
       "      <td>1.955878</td>\n",
       "      <td>6</td>\n",
       "      <td>1.102314</td>\n",
       "    </tr>\n",
       "  </tbody>\n",
       "</table>\n",
       "<p>296 rows × 39 columns</p>\n",
       "</div>"
      ],
      "text/plain": [
       "           PC1        PC2        PC3       PC4        PC5       PC6       PC7  \\\n",
       "0   -10.487149  -5.226509  -1.112185  0.876952   2.485867 -0.757917  1.285647   \n",
       "1    -9.920029  -9.291936 -12.024563  9.238345   4.568296  3.953337  5.295908   \n",
       "2   -10.566898  -5.556084  -1.393698  3.274582   1.186084  0.186536  2.752655   \n",
       "3    16.701020  -0.426016  -0.167382 -0.389940  -0.787229 -0.066161 -0.638054   \n",
       "4    -9.929279  -6.124176  -4.045230  3.997189  -1.584759  0.429390  1.124535   \n",
       "..         ...        ...        ...       ...        ...       ...       ...   \n",
       "291 -14.130453  14.326103  -4.526524 -2.275126   0.202371 -0.455257 -1.598394   \n",
       "292   3.340960  17.764259  11.378744 -1.952457  12.993886  1.432731  5.041397   \n",
       "293  17.179954  -0.517847  -1.496983 -2.043018  -1.226269 -0.685132 -0.154756   \n",
       "294 -12.296639  -2.944464   4.266253 -1.555090  -2.697579 -2.648678  1.028024   \n",
       "295  17.191031  -0.447472  -0.552734 -1.509984  -1.159392 -0.107581 -0.050508   \n",
       "\n",
       "          PC8       PC9      PC10  ...      PC30      PC31      PC32  \\\n",
       "0   -2.573745  1.511445 -2.214658  ... -0.032051  0.015132  0.008258   \n",
       "1    0.622985  0.121394 -0.382933  ...  0.002299  0.014968  0.015477   \n",
       "2    3.363597  0.380628 -1.778898  ...  0.012984  0.001539 -0.003462   \n",
       "3    0.768305 -0.197913 -0.176899  ...  0.003681 -0.009530  0.006283   \n",
       "4    0.865227  4.231343  1.605343  ... -0.044442  0.014264  0.000519   \n",
       "..        ...       ...       ...  ...       ...       ...       ...   \n",
       "291  0.297886  1.353156 -1.418700  ... -0.013105  0.002095 -0.002956   \n",
       "292 -6.874277  0.467899  3.369718  ...  0.013803  0.005474 -0.001191   \n",
       "293  1.085211  0.248591 -0.918156  ...  0.003248 -0.022374 -0.006212   \n",
       "294 -3.316114  0.944491  2.488916  ... -0.026347 -0.009593  0.001666   \n",
       "295  0.600850  0.258879 -0.319465  ...  0.024987 -0.021708 -0.001439   \n",
       "\n",
       "         PC33      PC34      PC35     UMAP_1     UMAP_2  KMeans_Labels  \\\n",
       "0    0.000914 -0.001279 -0.000053   8.124929 -15.484546              1   \n",
       "1   -0.001136  0.004874 -0.000437   8.184938 -16.646624              1   \n",
       "2    0.000789  0.001565  0.000068   7.608419 -16.297266              1   \n",
       "3   -0.001504  0.001283 -0.000061   4.507752   8.077987              0   \n",
       "4    0.001931  0.003725  0.000200   7.579141 -16.673964              1   \n",
       "..        ...       ...       ...        ...        ...            ...   \n",
       "291 -0.000821 -0.009069  0.000018  -1.371250  12.449165              5   \n",
       "292 -0.005083 -0.007419  0.000799   0.849821  12.658986              8   \n",
       "293  0.000274 -0.003178  0.000011  -5.143841 -16.417316              4   \n",
       "294  0.002963  0.004436 -0.000241  -6.748497  -1.389077              3   \n",
       "295  0.000073 -0.000910 -0.000033  19.690773   1.955878              6   \n",
       "\n",
       "         area  \n",
       "0   -0.672278  \n",
       "1   -0.342303  \n",
       "2   -0.118262  \n",
       "3    0.030948  \n",
       "4    0.051984  \n",
       "..        ...  \n",
       "291  0.506977  \n",
       "292  0.546646  \n",
       "293  0.677975  \n",
       "294  0.912233  \n",
       "295  1.102314  \n",
       "\n",
       "[296 rows x 39 columns]"
      ]
     },
     "execution_count": 545,
     "metadata": {},
     "output_type": "execute_result"
    }
   ],
   "source": [
    "pca_feature_hue_df"
   ]
  },
  {
   "cell_type": "code",
   "execution_count": 343,
   "metadata": {},
   "outputs": [
    {
     "name": "stderr",
     "output_type": "stream",
     "text": [
      "c:\\Users\\carspi\\AppData\\Local\\miniconda3\\envs\\abbott\\lib\\site-packages\\sklearn\\manifold\\_spectral_embedding.py:274: UserWarning:\n",
      "\n",
      "Graph is not fully connected, spectral embedding may not work as expected.\n",
      "\n",
      "c:\\Users\\carspi\\AppData\\Local\\miniconda3\\envs\\abbott\\lib\\site-packages\\sklearn\\cluster\\_kmeans.py:870: FutureWarning:\n",
      "\n",
      "The default value of `n_init` will change from 10 to 'auto' in 1.4. Set the value of `n_init` explicitly to suppress the warning\n",
      "\n"
     ]
    },
    {
     "data": {
      "image/png": "[encoded data removed]",
      "text/plain": [
       "<Figure size 640x480 with 1 Axes>"
      ]
     },
     "metadata": {},
     "output_type": "display_data"
    }
   ],
   "source": [
    "from sklearn.preprocessing import StandardScaler\n",
    "from sklearn.cluster import KMeans\n",
    "import umap\n",
    "\n",
    "\n",
    "# pca_df run on zscored data, no need for additional Z-score standardization\n",
    "#scaler = StandardScaler()\n",
    "#scaled_data = scaler.fit_transform(pca_df)\n",
    "\n",
    "# UMAP transformation\n",
    "umap_model = umap.UMAP(n_components=2)\n",
    "umap_result = umap_model.fit_transform(pca_df)\n",
    "\n",
    "# K-means clustering\n",
    "kmeans = KMeans(n_clusters=9)  # You can adjust the number of clusters as needed\n",
    "kmeans_labels = kmeans.fit_predict(umap_result)\n",
    "\n",
    "# Add UMAP and K-means labels to the DataFrame\n",
    "pca_UMAP_df = pd.DataFrame()\n",
    "\n",
    "\n",
    "pca_UMAP_df['UMAP_1'] = umap_result[:, 0]\n",
    "pca_UMAP_df['UMAP_2'] = umap_result[:, 1]\n",
    "pca_UMAP_df['KMeans_Labels'] = kmeans_labels\n",
    "\n",
    "pca_UMAP_df['area'] = timepoint_zscored_df['area'] #pick feature you want to visualize across PCs\n",
    "pca_df.merge(timepoint_zscored_df[['area']], left_index=True, right_index=True, how='left')\n",
    "\n",
    "# Visualize UMAP and K-means clusters if needed\n",
    "import seaborn as sns\n",
    "import matplotlib.pyplot as plt\n",
    "\n",
    "sns.scatterplot(x='UMAP_1', y='UMAP_2', hue='area', data=pca_feature_hue_df, palette='viridis', marker='o', s=10, edgecolor='w')\n",
    "plt.title('UMAP t=22, area feature')\n",
    "plt.show()\n"
   ]
  },
  {
   "cell_type": "code",
   "execution_count": 344,
   "metadata": {},
   "outputs": [
    {
     "data": {
      "text/plain": [
       "9"
      ]
     },
     "execution_count": 344,
     "metadata": {},
     "output_type": "execute_result"
    }
   ],
   "source": [
    "from gap_statistic import OptimalK\n",
    "\n",
    "optimal_k = OptimalK(parallel_backend='joblib')\n",
    "k_clusters = optimal_k(umap_result, cluster_array=np.arange(1, 11))\n",
    "\n",
    "k_clusters\n"
   ]
  },
  {
   "cell_type": "code",
   "execution_count": 178,
   "metadata": {},
   "outputs": [
    {
     "name": "stderr",
     "output_type": "stream",
     "text": [
      "c:\\Users\\carspi\\AppData\\Local\\miniconda3\\envs\\abbott\\lib\\site-packages\\sklearn\\cluster\\_kmeans.py:870: FutureWarning:\n",
      "\n",
      "The default value of `n_init` will change from 10 to 'auto' in 1.4. Set the value of `n_init` explicitly to suppress the warning\n",
      "\n",
      "c:\\Users\\carspi\\AppData\\Local\\miniconda3\\envs\\abbott\\lib\\site-packages\\sklearn\\cluster\\_kmeans.py:870: FutureWarning:\n",
      "\n",
      "The default value of `n_init` will change from 10 to 'auto' in 1.4. Set the value of `n_init` explicitly to suppress the warning\n",
      "\n",
      "c:\\Users\\carspi\\AppData\\Local\\miniconda3\\envs\\abbott\\lib\\site-packages\\sklearn\\cluster\\_kmeans.py:870: FutureWarning:\n",
      "\n",
      "The default value of `n_init` will change from 10 to 'auto' in 1.4. Set the value of `n_init` explicitly to suppress the warning\n",
      "\n",
      "c:\\Users\\carspi\\AppData\\Local\\miniconda3\\envs\\abbott\\lib\\site-packages\\sklearn\\cluster\\_kmeans.py:870: FutureWarning:\n",
      "\n",
      "The default value of `n_init` will change from 10 to 'auto' in 1.4. Set the value of `n_init` explicitly to suppress the warning\n",
      "\n",
      "c:\\Users\\carspi\\AppData\\Local\\miniconda3\\envs\\abbott\\lib\\site-packages\\sklearn\\cluster\\_kmeans.py:870: FutureWarning:\n",
      "\n",
      "The default value of `n_init` will change from 10 to 'auto' in 1.4. Set the value of `n_init` explicitly to suppress the warning\n",
      "\n",
      "c:\\Users\\carspi\\AppData\\Local\\miniconda3\\envs\\abbott\\lib\\site-packages\\sklearn\\cluster\\_kmeans.py:870: FutureWarning:\n",
      "\n",
      "The default value of `n_init` will change from 10 to 'auto' in 1.4. Set the value of `n_init` explicitly to suppress the warning\n",
      "\n",
      "c:\\Users\\carspi\\AppData\\Local\\miniconda3\\envs\\abbott\\lib\\site-packages\\sklearn\\cluster\\_kmeans.py:870: FutureWarning:\n",
      "\n",
      "The default value of `n_init` will change from 10 to 'auto' in 1.4. Set the value of `n_init` explicitly to suppress the warning\n",
      "\n",
      "c:\\Users\\carspi\\AppData\\Local\\miniconda3\\envs\\abbott\\lib\\site-packages\\sklearn\\cluster\\_kmeans.py:870: FutureWarning:\n",
      "\n",
      "The default value of `n_init` will change from 10 to 'auto' in 1.4. Set the value of `n_init` explicitly to suppress the warning\n",
      "\n",
      "c:\\Users\\carspi\\AppData\\Local\\miniconda3\\envs\\abbott\\lib\\site-packages\\sklearn\\cluster\\_kmeans.py:870: FutureWarning:\n",
      "\n",
      "The default value of `n_init` will change from 10 to 'auto' in 1.4. Set the value of `n_init` explicitly to suppress the warning\n",
      "\n",
      "c:\\Users\\carspi\\AppData\\Local\\miniconda3\\envs\\abbott\\lib\\site-packages\\sklearn\\cluster\\_kmeans.py:870: FutureWarning:\n",
      "\n",
      "The default value of `n_init` will change from 10 to 'auto' in 1.4. Set the value of `n_init` explicitly to suppress the warning\n",
      "\n"
     ]
    },
    {
     "data": {
      "image/png": "[encoded data removed]",
      "text/plain": [
       "<Figure size 640x480 with 1 Axes>"
      ]
     },
     "metadata": {},
     "output_type": "display_data"
    }
   ],
   "source": [
    "from sklearn.cluster import KMeans\n",
    "import matplotlib.pyplot as plt\n",
    "\n",
    "# Assuming umap_result is the UMAP-transformed data\n",
    "distortions = []\n",
    "for i in range(1, 11):\n",
    "    kmeans = KMeans(n_clusters=i, random_state=42)\n",
    "    kmeans.fit(umap_result)\n",
    "    distortions.append(kmeans.inertia_)\n",
    "\n",
    "# Plot the Elbow graph\n",
    "plt.plot(range(1, 11), distortions, marker='o')\n",
    "plt.title('Elbow Method for Optimal k')\n",
    "plt.xlabel('Number of clusters')\n",
    "plt.ylabel('Distortion')\n",
    "plt.show()\n"
   ]
  },
  {
   "cell_type": "code",
   "execution_count": 199,
   "metadata": {},
   "outputs": [],
   "source": [
    "#identify the plotted embryos \n",
    "\n",
    "import pandas as pd\n",
    "\n",
    "# Assuming pca_df and final_df are your DataFrames\n",
    "# Create a subset DataFrame where timepoint is 22\n",
    "subset_final_df = final_df[final_df['timepoint'] == 0]\n",
    "\n",
    "# Ensure the indices match\n",
    "pca_df = pca_df.set_index(subset_final_df.index)\n",
    "\n",
    "# Concatenate along the columns\n",
    "combined_df = pd.concat([subset_final_df, pca_df], axis=1)\n"
   ]
  },
  {
   "cell_type": "code",
   "execution_count": 200,
   "metadata": {},
   "outputs": [
    {
     "data": {
      "text/html": [
       "<div>\n",
       "<style scoped>\n",
       "    .dataframe tbody tr th:only-of-type {\n",
       "        vertical-align: middle;\n",
       "    }\n",
       "\n",
       "    .dataframe tbody tr th {\n",
       "        vertical-align: top;\n",
       "    }\n",
       "\n",
       "    .dataframe thead th {\n",
       "        text-align: right;\n",
       "    }\n",
       "</style>\n",
       "<table border=\"1\" class=\"dataframe\">\n",
       "  <thead>\n",
       "    <tr style=\"text-align: right;\">\n",
       "      <th></th>\n",
       "      <th>embryo ID</th>\n",
       "      <th>timepoint</th>\n",
       "      <th>label</th>\n",
       "      <th>area</th>\n",
       "      <th>convex_area</th>\n",
       "      <th>centroid_local-0</th>\n",
       "      <th>centroid_local-1</th>\n",
       "      <th>eccentricity</th>\n",
       "      <th>equivalent_diameter</th>\n",
       "      <th>extent</th>\n",
       "      <th>...</th>\n",
       "      <th>PC28</th>\n",
       "      <th>PC29</th>\n",
       "      <th>PC30</th>\n",
       "      <th>PC31</th>\n",
       "      <th>PC32</th>\n",
       "      <th>PC33</th>\n",
       "      <th>PC34</th>\n",
       "      <th>UMAP_1</th>\n",
       "      <th>UMAP_2</th>\n",
       "      <th>KMeans_Labels</th>\n",
       "    </tr>\n",
       "  </thead>\n",
       "  <tbody>\n",
       "    <tr>\n",
       "      <th>0</th>\n",
       "      <td>10</td>\n",
       "      <td>0</td>\n",
       "      <td>1</td>\n",
       "      <td>11437.0</td>\n",
       "      <td>11874.0</td>\n",
       "      <td>60.387514</td>\n",
       "      <td>63.937221</td>\n",
       "      <td>0.364768</td>\n",
       "      <td>120.673281</td>\n",
       "      <td>0.732015</td>\n",
       "      <td>...</td>\n",
       "      <td>-0.012330</td>\n",
       "      <td>-0.003222</td>\n",
       "      <td>-0.000876</td>\n",
       "      <td>0.002618</td>\n",
       "      <td>-0.002590</td>\n",
       "      <td>0.000162</td>\n",
       "      <td>3.692830e-14</td>\n",
       "      <td>3.527115</td>\n",
       "      <td>7.058797</td>\n",
       "      <td>2</td>\n",
       "    </tr>\n",
       "    <tr>\n",
       "      <th>26</th>\n",
       "      <td>101</td>\n",
       "      <td>0</td>\n",
       "      <td>1</td>\n",
       "      <td>9840.0</td>\n",
       "      <td>10549.0</td>\n",
       "      <td>52.639634</td>\n",
       "      <td>54.105793</td>\n",
       "      <td>0.710792</td>\n",
       "      <td>111.931573</td>\n",
       "      <td>0.683523</td>\n",
       "      <td>...</td>\n",
       "      <td>-0.017905</td>\n",
       "      <td>-0.009834</td>\n",
       "      <td>-0.004645</td>\n",
       "      <td>-0.002681</td>\n",
       "      <td>0.001912</td>\n",
       "      <td>0.000785</td>\n",
       "      <td>4.620195e-17</td>\n",
       "      <td>6.623588</td>\n",
       "      <td>11.604994</td>\n",
       "      <td>0</td>\n",
       "    </tr>\n",
       "    <tr>\n",
       "      <th>50</th>\n",
       "      <td>105</td>\n",
       "      <td>0</td>\n",
       "      <td>1</td>\n",
       "      <td>10803.0</td>\n",
       "      <td>11290.0</td>\n",
       "      <td>58.063408</td>\n",
       "      <td>75.069425</td>\n",
       "      <td>0.549961</td>\n",
       "      <td>117.280888</td>\n",
       "      <td>0.662679</td>\n",
       "      <td>...</td>\n",
       "      <td>-0.027911</td>\n",
       "      <td>0.004234</td>\n",
       "      <td>0.001530</td>\n",
       "      <td>0.003586</td>\n",
       "      <td>0.002903</td>\n",
       "      <td>0.000662</td>\n",
       "      <td>-1.125624e-15</td>\n",
       "      <td>4.681713</td>\n",
       "      <td>8.267855</td>\n",
       "      <td>2</td>\n",
       "    </tr>\n",
       "    <tr>\n",
       "      <th>73</th>\n",
       "      <td>106</td>\n",
       "      <td>0</td>\n",
       "      <td>1</td>\n",
       "      <td>8066.0</td>\n",
       "      <td>8284.0</td>\n",
       "      <td>60.674188</td>\n",
       "      <td>46.050459</td>\n",
       "      <td>0.667755</td>\n",
       "      <td>101.340763</td>\n",
       "      <td>0.742999</td>\n",
       "      <td>...</td>\n",
       "      <td>-0.007309</td>\n",
       "      <td>0.000860</td>\n",
       "      <td>0.003685</td>\n",
       "      <td>-0.000725</td>\n",
       "      <td>-0.001579</td>\n",
       "      <td>-0.000815</td>\n",
       "      <td>1.560168e-16</td>\n",
       "      <td>5.911744</td>\n",
       "      <td>11.556799</td>\n",
       "      <td>0</td>\n",
       "    </tr>\n",
       "    <tr>\n",
       "      <th>96</th>\n",
       "      <td>107</td>\n",
       "      <td>0</td>\n",
       "      <td>1</td>\n",
       "      <td>10484.0</td>\n",
       "      <td>10688.0</td>\n",
       "      <td>57.923407</td>\n",
       "      <td>54.145269</td>\n",
       "      <td>0.423984</td>\n",
       "      <td>115.536329</td>\n",
       "      <td>0.772814</td>\n",
       "      <td>...</td>\n",
       "      <td>-0.004909</td>\n",
       "      <td>-0.004462</td>\n",
       "      <td>-0.000630</td>\n",
       "      <td>-0.000915</td>\n",
       "      <td>0.001238</td>\n",
       "      <td>0.001859</td>\n",
       "      <td>4.610539e-17</td>\n",
       "      <td>4.254638</td>\n",
       "      <td>10.974458</td>\n",
       "      <td>1</td>\n",
       "    </tr>\n",
       "    <tr>\n",
       "      <th>...</th>\n",
       "      <td>...</td>\n",
       "      <td>...</td>\n",
       "      <td>...</td>\n",
       "      <td>...</td>\n",
       "      <td>...</td>\n",
       "      <td>...</td>\n",
       "      <td>...</td>\n",
       "      <td>...</td>\n",
       "      <td>...</td>\n",
       "      <td>...</td>\n",
       "      <td>...</td>\n",
       "      <td>...</td>\n",
       "      <td>...</td>\n",
       "      <td>...</td>\n",
       "      <td>...</td>\n",
       "      <td>...</td>\n",
       "      <td>...</td>\n",
       "      <td>...</td>\n",
       "      <td>...</td>\n",
       "      <td>...</td>\n",
       "      <td>...</td>\n",
       "    </tr>\n",
       "    <tr>\n",
       "      <th>6877</th>\n",
       "      <td>95</td>\n",
       "      <td>0</td>\n",
       "      <td>1</td>\n",
       "      <td>6628.0</td>\n",
       "      <td>7363.0</td>\n",
       "      <td>64.671998</td>\n",
       "      <td>43.058992</td>\n",
       "      <td>0.694201</td>\n",
       "      <td>91.864203</td>\n",
       "      <td>0.624458</td>\n",
       "      <td>...</td>\n",
       "      <td>-0.019556</td>\n",
       "      <td>-0.002194</td>\n",
       "      <td>-0.003149</td>\n",
       "      <td>-0.011758</td>\n",
       "      <td>0.016336</td>\n",
       "      <td>-0.000681</td>\n",
       "      <td>-2.641792e-16</td>\n",
       "      <td>3.088222</td>\n",
       "      <td>7.962780</td>\n",
       "      <td>2</td>\n",
       "    </tr>\n",
       "    <tr>\n",
       "      <th>6900</th>\n",
       "      <td>96</td>\n",
       "      <td>0</td>\n",
       "      <td>1</td>\n",
       "      <td>9857.0</td>\n",
       "      <td>10760.0</td>\n",
       "      <td>51.526631</td>\n",
       "      <td>59.178756</td>\n",
       "      <td>0.751740</td>\n",
       "      <td>112.028221</td>\n",
       "      <td>0.668634</td>\n",
       "      <td>...</td>\n",
       "      <td>-0.010806</td>\n",
       "      <td>-0.010666</td>\n",
       "      <td>0.002474</td>\n",
       "      <td>0.002873</td>\n",
       "      <td>-0.000725</td>\n",
       "      <td>0.001516</td>\n",
       "      <td>1.384207e-16</td>\n",
       "      <td>6.734544</td>\n",
       "      <td>11.498428</td>\n",
       "      <td>0</td>\n",
       "    </tr>\n",
       "    <tr>\n",
       "      <th>6926</th>\n",
       "      <td>97</td>\n",
       "      <td>0</td>\n",
       "      <td>1</td>\n",
       "      <td>6601.0</td>\n",
       "      <td>6763.0</td>\n",
       "      <td>44.884866</td>\n",
       "      <td>46.320557</td>\n",
       "      <td>0.273136</td>\n",
       "      <td>91.676901</td>\n",
       "      <td>0.788462</td>\n",
       "      <td>...</td>\n",
       "      <td>0.002621</td>\n",
       "      <td>-0.003321</td>\n",
       "      <td>0.001514</td>\n",
       "      <td>-0.001120</td>\n",
       "      <td>0.000609</td>\n",
       "      <td>-0.002085</td>\n",
       "      <td>-5.303549e-16</td>\n",
       "      <td>0.931782</td>\n",
       "      <td>12.123125</td>\n",
       "      <td>1</td>\n",
       "    </tr>\n",
       "    <tr>\n",
       "      <th>6949</th>\n",
       "      <td>98</td>\n",
       "      <td>0</td>\n",
       "      <td>1</td>\n",
       "      <td>9684.0</td>\n",
       "      <td>10514.0</td>\n",
       "      <td>60.667493</td>\n",
       "      <td>65.103986</td>\n",
       "      <td>0.812825</td>\n",
       "      <td>111.040766</td>\n",
       "      <td>0.611866</td>\n",
       "      <td>...</td>\n",
       "      <td>-0.000839</td>\n",
       "      <td>-0.021505</td>\n",
       "      <td>0.001534</td>\n",
       "      <td>0.005514</td>\n",
       "      <td>0.000312</td>\n",
       "      <td>0.002727</td>\n",
       "      <td>-1.257490e-15</td>\n",
       "      <td>6.960994</td>\n",
       "      <td>8.088610</td>\n",
       "      <td>0</td>\n",
       "    </tr>\n",
       "    <tr>\n",
       "      <th>6972</th>\n",
       "      <td>99</td>\n",
       "      <td>0</td>\n",
       "      <td>1</td>\n",
       "      <td>7667.0</td>\n",
       "      <td>8026.0</td>\n",
       "      <td>52.452589</td>\n",
       "      <td>48.543629</td>\n",
       "      <td>0.663827</td>\n",
       "      <td>98.802468</td>\n",
       "      <td>0.749462</td>\n",
       "      <td>...</td>\n",
       "      <td>-0.002640</td>\n",
       "      <td>-0.005709</td>\n",
       "      <td>0.001559</td>\n",
       "      <td>-0.006034</td>\n",
       "      <td>0.001903</td>\n",
       "      <td>0.000264</td>\n",
       "      <td>8.119949e-16</td>\n",
       "      <td>3.884040</td>\n",
       "      <td>8.287341</td>\n",
       "      <td>2</td>\n",
       "    </tr>\n",
       "  </tbody>\n",
       "</table>\n",
       "<p>296 rows × 74 columns</p>\n",
       "</div>"
      ],
      "text/plain": [
       "      embryo ID  timepoint  label     area  convex_area  centroid_local-0  \\\n",
       "0            10          0      1  11437.0      11874.0         60.387514   \n",
       "26          101          0      1   9840.0      10549.0         52.639634   \n",
       "50          105          0      1  10803.0      11290.0         58.063408   \n",
       "73          106          0      1   8066.0       8284.0         60.674188   \n",
       "96          107          0      1  10484.0      10688.0         57.923407   \n",
       "...         ...        ...    ...      ...          ...               ...   \n",
       "6877         95          0      1   6628.0       7363.0         64.671998   \n",
       "6900         96          0      1   9857.0      10760.0         51.526631   \n",
       "6926         97          0      1   6601.0       6763.0         44.884866   \n",
       "6949         98          0      1   9684.0      10514.0         60.667493   \n",
       "6972         99          0      1   7667.0       8026.0         52.452589   \n",
       "\n",
       "      centroid_local-1  eccentricity  equivalent_diameter    extent  ...  \\\n",
       "0            63.937221      0.364768           120.673281  0.732015  ...   \n",
       "26           54.105793      0.710792           111.931573  0.683523  ...   \n",
       "50           75.069425      0.549961           117.280888  0.662679  ...   \n",
       "73           46.050459      0.667755           101.340763  0.742999  ...   \n",
       "96           54.145269      0.423984           115.536329  0.772814  ...   \n",
       "...                ...           ...                  ...       ...  ...   \n",
       "6877         43.058992      0.694201            91.864203  0.624458  ...   \n",
       "6900         59.178756      0.751740           112.028221  0.668634  ...   \n",
       "6926         46.320557      0.273136            91.676901  0.788462  ...   \n",
       "6949         65.103986      0.812825           111.040766  0.611866  ...   \n",
       "6972         48.543629      0.663827            98.802468  0.749462  ...   \n",
       "\n",
       "          PC28      PC29      PC30      PC31      PC32      PC33  \\\n",
       "0    -0.012330 -0.003222 -0.000876  0.002618 -0.002590  0.000162   \n",
       "26   -0.017905 -0.009834 -0.004645 -0.002681  0.001912  0.000785   \n",
       "50   -0.027911  0.004234  0.001530  0.003586  0.002903  0.000662   \n",
       "73   -0.007309  0.000860  0.003685 -0.000725 -0.001579 -0.000815   \n",
       "96   -0.004909 -0.004462 -0.000630 -0.000915  0.001238  0.001859   \n",
       "...        ...       ...       ...       ...       ...       ...   \n",
       "6877 -0.019556 -0.002194 -0.003149 -0.011758  0.016336 -0.000681   \n",
       "6900 -0.010806 -0.010666  0.002474  0.002873 -0.000725  0.001516   \n",
       "6926  0.002621 -0.003321  0.001514 -0.001120  0.000609 -0.002085   \n",
       "6949 -0.000839 -0.021505  0.001534  0.005514  0.000312  0.002727   \n",
       "6972 -0.002640 -0.005709  0.001559 -0.006034  0.001903  0.000264   \n",
       "\n",
       "              PC34    UMAP_1     UMAP_2  KMeans_Labels  \n",
       "0     3.692830e-14  3.527115   7.058797              2  \n",
       "26    4.620195e-17  6.623588  11.604994              0  \n",
       "50   -1.125624e-15  4.681713   8.267855              2  \n",
       "73    1.560168e-16  5.911744  11.556799              0  \n",
       "96    4.610539e-17  4.254638  10.974458              1  \n",
       "...            ...       ...        ...            ...  \n",
       "6877 -2.641792e-16  3.088222   7.962780              2  \n",
       "6900  1.384207e-16  6.734544  11.498428              0  \n",
       "6926 -5.303549e-16  0.931782  12.123125              1  \n",
       "6949 -1.257490e-15  6.960994   8.088610              0  \n",
       "6972  8.119949e-16  3.884040   8.287341              2  \n",
       "\n",
       "[296 rows x 74 columns]"
      ]
     },
     "execution_count": 200,
     "metadata": {},
     "output_type": "execute_result"
    }
   ],
   "source": [
    "combined_df"
   ]
  },
  {
   "cell_type": "markdown",
   "metadata": {},
   "source": [
    "dynamic UMAP with embryo ID"
   ]
  },
  {
   "cell_type": "code",
   "execution_count": 189,
   "metadata": {},
   "outputs": [
    {
     "name": "stderr",
     "output_type": "stream",
     "text": [
      "c:\\Users\\carspi\\AppData\\Local\\miniconda3\\envs\\abbott\\lib\\site-packages\\sklearn\\cluster\\_kmeans.py:870: FutureWarning:\n",
      "\n",
      "The default value of `n_init` will change from 10 to 'auto' in 1.4. Set the value of `n_init` explicitly to suppress the warning\n",
      "\n"
     ]
    },
    {
     "data": {
      "application/vnd.plotly.v1+json": {
       "config": {
        "plotlyServerURL": "https://plot.ly"
       },
       "data": [
        {
         "customdata": [
          [
           10
          ],
          [
           101
          ],
          [
           105
          ],
          [
           106
          ],
          [
           107
          ],
          [
           11
          ],
          [
           111
          ],
          [
           112
          ],
          [
           113
          ],
          [
           114
          ],
          [
           115
          ],
          [
           116
          ],
          [
           117
          ],
          [
           118
          ],
          [
           119
          ],
          [
           12
          ],
          [
           120
          ],
          [
           121
          ],
          [
           122
          ],
          [
           123
          ],
          [
           124
          ],
          [
           125
          ],
          [
           126
          ],
          [
           127
          ],
          [
           128
          ],
          [
           129
          ],
          [
           131
          ],
          [
           134
          ],
          [
           135
          ],
          [
           136
          ],
          [
           137
          ],
          [
           139
          ],
          [
           14
          ],
          [
           140
          ],
          [
           141
          ],
          [
           142
          ],
          [
           143
          ],
          [
           144
          ],
          [
           145
          ],
          [
           146
          ],
          [
           147
          ],
          [
           148
          ],
          [
           149
          ],
          [
           150
          ],
          [
           151
          ],
          [
           152
          ],
          [
           154
          ],
          [
           155
          ],
          [
           156
          ],
          [
           157
          ],
          [
           158
          ],
          [
           159
          ],
          [
           16
          ],
          [
           160
          ],
          [
           161
          ],
          [
           165
          ],
          [
           166
          ],
          [
           167
          ],
          [
           170
          ],
          [
           171
          ],
          [
           173
          ],
          [
           174
          ],
          [
           176
          ],
          [
           179
          ],
          [
           180
          ],
          [
           181
          ],
          [
           182
          ],
          [
           183
          ],
          [
           184
          ],
          [
           185
          ],
          [
           186
          ],
          [
           189
          ],
          [
           19
          ],
          [
           190
          ],
          [
           191
          ],
          [
           194
          ],
          [
           195
          ],
          [
           196
          ],
          [
           197
          ],
          [
           198
          ],
          [
           20
          ],
          [
           200
          ],
          [
           201
          ],
          [
           202
          ],
          [
           203
          ],
          [
           204
          ],
          [
           206
          ],
          [
           207
          ],
          [
           209
          ],
          [
           21
          ],
          [
           210
          ],
          [
           213
          ],
          [
           214
          ],
          [
           215
          ],
          [
           216
          ],
          [
           217
          ],
          [
           218
          ],
          [
           219
          ],
          [
           220
          ],
          [
           221
          ],
          [
           222
          ],
          [
           223
          ],
          [
           224
          ],
          [
           226
          ],
          [
           227
          ],
          [
           228
          ],
          [
           229
          ],
          [
           23
          ],
          [
           231
          ],
          [
           232
          ],
          [
           233
          ],
          [
           234
          ],
          [
           235
          ],
          [
           236
          ],
          [
           237
          ],
          [
           238
          ],
          [
           241
          ],
          [
           242
          ],
          [
           243
          ],
          [
           244
          ],
          [
           245
          ],
          [
           246
          ],
          [
           247
          ],
          [
           248
          ],
          [
           249
          ],
          [
           25
          ],
          [
           250
          ],
          [
           251
          ],
          [
           252
          ],
          [
           253
          ],
          [
           255
          ],
          [
           256
          ],
          [
           257
          ],
          [
           258
          ],
          [
           26
          ],
          [
           261
          ],
          [
           262
          ],
          [
           263
          ],
          [
           264
          ],
          [
           265
          ],
          [
           266
          ],
          [
           267
          ],
          [
           268
          ],
          [
           269
          ],
          [
           27
          ],
          [
           270
          ],
          [
           273
          ],
          [
           274
          ],
          [
           275
          ],
          [
           276
          ],
          [
           277
          ],
          [
           278
          ],
          [
           279
          ],
          [
           28
          ],
          [
           281
          ],
          [
           282
          ],
          [
           283
          ],
          [
           284
          ],
          [
           285
          ],
          [
           286
          ],
          [
           287
          ],
          [
           289
          ],
          [
           290
          ],
          [
           291
          ],
          [
           292
          ],
          [
           293
          ],
          [
           294
          ],
          [
           295
          ],
          [
           296
          ],
          [
           297
          ],
          [
           298
          ],
          [
           299
          ],
          [
           300
          ],
          [
           301
          ],
          [
           302
          ],
          [
           303
          ],
          [
           304
          ],
          [
           305
          ],
          [
           306
          ],
          [
           307
          ],
          [
           308
          ],
          [
           309
          ],
          [
           31
          ],
          [
           310
          ],
          [
           311
          ],
          [
           312
          ],
          [
           315
          ],
          [
           316
          ],
          [
           317
          ],
          [
           318
          ],
          [
           319
          ],
          [
           32
          ],
          [
           320
          ],
          [
           321
          ],
          [
           322
          ],
          [
           323
          ],
          [
           325
          ],
          [
           329
          ],
          [
           330
          ],
          [
           331
          ],
          [
           332
          ],
          [
           333
          ],
          [
           334
          ],
          [
           335
          ],
          [
           336
          ],
          [
           338
          ],
          [
           339
          ],
          [
           34
          ],
          [
           340
          ],
          [
           341
          ],
          [
           342
          ],
          [
           343
          ],
          [
           344
          ],
          [
           345
          ],
          [
           346
          ],
          [
           347
          ],
          [
           348
          ],
          [
           349
          ],
          [
           35
          ],
          [
           350
          ],
          [
           351
          ],
          [
           352
          ],
          [
           353
          ],
          [
           354
          ],
          [
           357
          ],
          [
           358
          ],
          [
           36
          ],
          [
           361
          ],
          [
           362
          ],
          [
           363
          ],
          [
           364
          ],
          [
           365
          ],
          [
           366
          ],
          [
           367
          ],
          [
           368
          ],
          [
           369
          ],
          [
           370
          ],
          [
           371
          ],
          [
           372
          ],
          [
           373
          ],
          [
           374
          ],
          [
           375
          ],
          [
           377
          ],
          [
           378
          ],
          [
           379
          ],
          [
           381
          ],
          [
           382
          ],
          [
           383
          ],
          [
           39
          ],
          [
           4
          ],
          [
           40
          ],
          [
           41
          ],
          [
           43
          ],
          [
           44
          ],
          [
           5
          ],
          [
           50
          ],
          [
           51
          ],
          [
           52
          ],
          [
           53
          ],
          [
           54
          ],
          [
           55
          ],
          [
           57
          ],
          [
           59
          ],
          [
           6
          ],
          [
           60
          ],
          [
           62
          ],
          [
           63
          ],
          [
           65
          ],
          [
           66
          ],
          [
           67
          ],
          [
           69
          ],
          [
           7
          ],
          [
           71
          ],
          [
           73
          ],
          [
           74
          ],
          [
           75
          ],
          [
           77
          ],
          [
           78
          ],
          [
           79
          ],
          [
           8
          ],
          [
           80
          ],
          [
           83
          ],
          [
           84
          ],
          [
           86
          ],
          [
           88
          ],
          [
           89
          ],
          [
           9
          ],
          [
           90
          ],
          [
           91
          ],
          [
           93
          ],
          [
           94
          ],
          [
           95
          ],
          [
           96
          ],
          [
           97
          ],
          [
           98
          ],
          [
           99
          ]
         ],
         "hovertemplate": "UMAP_1=%{x}<br>UMAP_2=%{y}<br>embryo ID=%{customdata[0]}<br>Cluster_Labels=%{marker.color}<extra></extra>",
         "legendgroup": "",
         "marker": {
          "color": [
           5,
           7,
           3,
           6,
           8,
           0,
           7,
           1,
           1,
           0,
           2,
           6,
           7,
           8,
           3,
           4,
           0,
           4,
           3,
           5,
           9,
           8,
           4,
           1,
           5,
           2,
           7,
           2,
           1,
           0,
           4,
           4,
           8,
           6,
           8,
           5,
           4,
           6,
           4,
           0,
           7,
           8,
           7,
           7,
           0,
           0,
           8,
           7,
           1,
           3,
           0,
           8,
           7,
           2,
           3,
           4,
           5,
           4,
           8,
           5,
           9,
           4,
           7,
           4,
           7,
           7,
           0,
           1,
           1,
           1,
           8,
           9,
           0,
           5,
           3,
           7,
           7,
           8,
           2,
           1,
           5,
           8,
           7,
           8,
           7,
           7,
           0,
           1,
           2,
           8,
           1,
           2,
           1,
           9,
           0,
           5,
           9,
           4,
           2,
           5,
           3,
           9,
           5,
           2,
           5,
           8,
           3,
           4,
           4,
           0,
           5,
           4,
           8,
           8,
           4,
           3,
           0,
           2,
           6,
           9,
           8,
           1,
           7,
           6,
           4,
           0,
           8,
           9,
           7,
           3,
           3,
           0,
           2,
           1,
           0,
           9,
           0,
           6,
           4,
           5,
           8,
           9,
           2,
           4,
           5,
           2,
           7,
           1,
           5,
           7,
           7,
           7,
           7,
           2,
           0,
           4,
           0,
           5,
           0,
           6,
           7,
           5,
           7,
           2,
           0,
           0,
           3,
           2,
           7,
           4,
           0,
           2,
           5,
           6,
           6,
           2,
           4,
           4,
           5,
           4,
           7,
           0,
           3,
           1,
           2,
           6,
           1,
           9,
           5,
           1,
           4,
           1,
           1,
           9,
           0,
           3,
           4,
           7,
           7,
           4,
           2,
           8,
           2,
           7,
           5,
           6,
           7,
           7,
           1,
           3,
           5,
           6,
           5,
           3,
           9,
           0,
           6,
           3,
           8,
           0,
           0,
           2,
           0,
           3,
           3,
           9,
           5,
           5,
           1,
           8,
           0,
           7,
           6,
           1,
           3,
           8,
           8,
           9,
           1,
           6,
           7,
           4,
           5,
           0,
           7,
           4,
           4,
           7,
           0,
           5,
           8,
           4,
           7,
           8,
           2,
           6,
           5,
           5,
           0,
           0,
           0,
           3,
           9,
           3,
           0,
           2,
           6,
           3,
           1,
           0,
           7,
           6,
           3,
           5,
           7,
           5,
           1,
           8,
           3,
           3,
           2,
           9,
           6,
           6,
           1,
           5,
           7,
           1,
           6,
           8,
           7,
           4,
           7,
           4,
           7,
           5
          ],
          "coloraxis": "coloraxis",
          "symbol": "circle"
         },
         "mode": "markers",
         "name": "",
         "orientation": "v",
         "showlegend": false,
         "type": "scatter",
         "x": [
          6.294488906860352,
          2.157400369644165,
          4.334760665893555,
          5.375524997711182,
          4.9906325340271,
          7.858797550201416,
          1.7459180355072021,
          2.5921998023986816,
          3.268728017807007,
          7.642942428588867,
          4.011173248291016,
          5.117350101470947,
          1.791929006576538,
          4.938759803771973,
          5.314537048339844,
          3.7330546379089355,
          7.815401077270508,
          1.9391037225723267,
          5.272329330444336,
          6.2304534912109375,
          4.335971355438232,
          4.700228691101074,
          2.6567797660827637,
          2.7256579399108887,
          6.8846049308776855,
          3.424570083618164,
          1.745287299156189,
          2.7833144664764404,
          2.652580976486206,
          8.128314971923828,
          2.2122416496276855,
          2.831819772720337,
          4.768435955047607,
          5.418396949768066,
          3.916142463684082,
          6.5363030433654785,
          1.83632493019104,
          5.156818866729736,
          3.709233045578003,
          7.671997547149658,
          3.015467882156372,
          3.632490634918213,
          2.6987497806549072,
          1.5583255290985107,
          8.00582504272461,
          7.290704727172852,
          4.651878356933594,
          2.1946160793304443,
          3.3574507236480713,
          4.935790061950684,
          7.907835006713867,
          4.855128288269043,
          1.6296018362045288,
          3.2184391021728516,
          4.391995429992676,
          3.7092509269714355,
          7.526205539703369,
          2.4697768688201904,
          4.2275590896606445,
          6.8921308517456055,
          4.221840858459473,
          3.383578300476074,
          2.7886788845062256,
          2.139282464981079,
          2.3034231662750244,
          2.3527004718780518,
          6.630032062530518,
          2.3596887588500977,
          3.8472015857696533,
          2.2886977195739746,
          4.568332672119141,
          4.099863529205322,
          6.745603561401367,
          6.85670280456543,
          5.376974582672119,
          1.6628987789154053,
          2.221644163131714,
          4.0623016357421875,
          3.069321393966675,
          2.3323636054992676,
          6.458442211151123,
          4.9134907722473145,
          2.015101194381714,
          4.7395710945129395,
          2.1682703495025635,
          2.0919318199157715,
          8.078255653381348,
          2.368088960647583,
          3.6727988719940186,
          4.285369873046875,
          3.1224639415740967,
          2.926002264022827,
          2.3458523750305176,
          4.458580493927002,
          7.945871829986572,
          6.764737129211426,
          4.065158843994141,
          2.012657880783081,
          3.5368871688842773,
          6.413635730743408,
          5.689169406890869,
          4.411363124847412,
          6.595560073852539,
          3.434612512588501,
          7.138850688934326,
          4.654982566833496,
          5.0860748291015625,
          3.1159021854400635,
          2.0117645263671875,
          7.998634338378906,
          6.334468364715576,
          2.454571008682251,
          4.761868476867676,
          4.560720443725586,
          1.9359843730926514,
          5.143816947937012,
          7.929699420928955,
          3.827620267868042,
          5.967397689819336,
          4.472695827484131,
          4.720035076141357,
          2.988400459289551,
          1.9654591083526611,
          5.622586250305176,
          2.6226632595062256,
          8.220057487487793,
          4.349573135375977,
          4.498187065124512,
          2.058088779449463,
          5.167253017425537,
          5.906613349914551,
          6.893556594848633,
          3.7021238803863525,
          2.803711175918579,
          7.515651702880859,
          4.286998748779297,
          7.802894592285156,
          5.966639041900635,
          3.015500783920288,
          6.566166400909424,
          4.7897233963012695,
          4.256938934326172,
          3.3640055656433105,
          2.924295425415039,
          7.15354061126709,
          3.3270034790039062,
          1.6639389991760254,
          2.429417610168457,
          6.316535949707031,
          1.9117885828018188,
          1.5961651802062988,
          1.700865626335144,
          1.9769262075424194,
          3.1477906703948975,
          7.694701194763184,
          2.4791061878204346,
          6.670110702514648,
          6.312404155731201,
          7.737186908721924,
          5.707790851593018,
          1.6357067823410034,
          6.474314212799072,
          2.1764144897460938,
          3.1375811100006104,
          7.680442810058594,
          7.108736515045166,
          4.069850921630859,
          3.4645464420318604,
          3.018157720565796,
          3.1398279666900635,
          7.560051918029785,
          3.2677013874053955,
          6.528868675231934,
          4.964229583740234,
          4.9026875495910645,
          3.4770193099975586,
          3.680690288543701,
          3.4372334480285645,
          7.163989543914795,
          3.1315724849700928,
          2.175697088241577,
          8.012866973876953,
          5.074291706085205,
          3.2691333293914795,
          3.9068002700805664,
          5.345957279205322,
          2.6824822425842285,
          4.502971649169922,
          7.105622291564941,
          2.2826719284057617,
          1.8779726028442383,
          2.8785603046417236,
          2.802147388458252,
          4.415014743804932,
          7.021444320678711,
          4.323976039886475,
          3.0312390327453613,
          1.7201697826385498,
          2.449632406234741,
          3.0762948989868164,
          2.935253143310547,
          4.3866400718688965,
          3.3994367122650146,
          1.8935667276382446,
          7.0308918952941895,
          5.025363445281982,
          2.031581401824951,
          1.816684603691101,
          2.4711618423461914,
          4.928802490234375,
          6.777892589569092,
          4.700353145599365,
          6.588560104370117,
          5.191683292388916,
          4.172924518585205,
          7.913807392120361,
          5.8125081062316895,
          4.523453712463379,
          4.361225605010986,
          6.687553882598877,
          6.687926769256592,
          3.562323808670044,
          8.141599655151367,
          5.543359279632568,
          4.454492092132568,
          4.069109916687012,
          7.450595855712891,
          6.779357433319092,
          3.2606801986694336,
          4.773327350616455,
          7.549714088439941,
          2.7486655712127686,
          5.203246593475342,
          2.587951183319092,
          5.588645935058594,
          4.5936808586120605,
          4.685545444488525,
          4.555246353149414,
          3.029003858566284,
          4.885769844055176,
          1.7219842672348022,
          2.9730260372161865,
          6.267096519470215,
          8.163321495056152,
          1.5265138149261475,
          2.300288438796997,
          2.0730092525482178,
          2.6499831676483154,
          7.406611919403076,
          6.863422393798828,
          4.670965671539307,
          2.2468721866607666,
          1.9947407245635986,
          4.3958353996276855,
          3.668651819229126,
          4.900862693786621,
          6.423554420471191,
          6.5297722816467285,
          7.45463228225708,
          8.14073657989502,
          7.240787982940674,
          5.838412284851074,
          4.186761856079102,
          4.993398666381836,
          7.383320331573486,
          3.423288106918335,
          5.882792949676514,
          4.232999324798584,
          2.8009064197540283,
          7.391509056091309,
          2.938753128051758,
          5.926170825958252,
          4.270911693572998,
          7.056541442871094,
          1.8427796363830566,
          6.565325736999512,
          3.25610089302063,
          4.81116247177124,
          5.224965572357178,
          5.356039524078369,
          4.050936222076416,
          4.0634918212890625,
          5.489253520965576,
          5.163931369781494,
          3.2014777660369873,
          7.272536277770996,
          2.037545680999756,
          3.117724895477295,
          5.206701278686523,
          3.743835210800171,
          2.1628763675689697,
          2.8402493000030518,
          1.5769723653793335,
          2.704474687576294,
          2.145609140396118,
          6.478481292724609
         ],
         "xaxis": "x",
         "y": [
          5.215264320373535,
          11.954238891601562,
          8.23281192779541,
          6.764672756195068,
          10.059678077697754,
          6.909909248352051,
          11.221700668334961,
          7.9456706047058105,
          8.3350191116333,
          6.880999565124512,
          9.312270164489746,
          7.675660610198975,
          11.168818473815918,
          10.721729278564453,
          9.98837947845459,
          7.507676601409912,
          7.2782416343688965,
          6.884725570678711,
          8.845648765563965,
          5.69942569732666,
          6.189276695251465,
          10.636162757873535,
          7.595162391662598,
          7.91373872756958,
          5.560258388519287,
          9.592814445495605,
          11.342809677124023,
          10.043354034423828,
          8.533772468566895,
          6.682634353637695,
          6.801527976989746,
          7.438960552215576,
          9.990043640136719,
          7.321197032928467,
          11.379966735839844,
          6.146781921386719,
          6.788497447967529,
          8.062151908874512,
          7.114927291870117,
          6.964136123657227,
          11.752625465393066,
          11.356351852416992,
          10.82906436920166,
          12.024847030639648,
          6.938745498657227,
          7.428513050079346,
          10.453325271606445,
          11.63289737701416,
          8.065001487731934,
          9.376043319702148,
          7.397320747375488,
          11.326554298400879,
          11.514129638671875,
          9.401971817016602,
          8.660890579223633,
          7.0513916015625,
          6.045751094818115,
          7.233745098114014,
          10.220071792602539,
          6.115634918212891,
          5.869920253753662,
          7.097164154052734,
          11.510108947753906,
          7.217245578765869,
          12.256206512451172,
          11.629692077636719,
          7.116123676300049,
          8.280235290527344,
          7.866734981536865,
          8.790843963623047,
          10.410468101501465,
          5.994935035705566,
          7.532186508178711,
          5.356048107147217,
          9.168177604675293,
          12.3525972366333,
          11.921570777893066,
          10.33255386352539,
          9.864249229431152,
          8.719385147094727,
          5.92758321762085,
          10.769070625305176,
          11.21389102935791,
          10.883143424987793,
          11.155526161193848,
          11.466530799865723,
          7.368897914886475,
          9.09646224975586,
          10.117855072021484,
          9.983587265014648,
          8.131874084472656,
          9.281795501708984,
          8.505986213684082,
          5.650211334228516,
          7.078942775726318,
          5.370543003082275,
          5.856684684753418,
          6.791994571685791,
          10.272395133972168,
          5.872381687164307,
          8.866223335266113,
          5.749178886413574,
          5.612978458404541,
          9.756558418273926,
          5.596879005432129,
          10.963594436645508,
          8.937248229980469,
          6.866955757141113,
          6.962427616119385,
          6.8073201179504395,
          5.368330955505371,
          6.962917804718018,
          11.29928207397461,
          11.074945449829102,
          6.853014945983887,
          8.990396499633789,
          7.2071123123168945,
          9.720151901245117,
          7.849681854248047,
          5.619279384613037,
          10.451253890991211,
          7.843019008636475,
          11.649824142456055,
          7.554322242736816,
          7.059417724609375,
          7.451996326446533,
          10.304001808166504,
          6.653433322906494,
          11.597259521484375,
          8.955901145935059,
          8.778826713562012,
          7.1331467628479,
          9.648150444030762,
          8.28268051147461,
          6.261028289794922,
          6.278203964233398,
          6.480362415313721,
          6.9108076095581055,
          6.827171802520752,
          6.088958740234375,
          11.070765495300293,
          5.670018672943115,
          9.669836044311523,
          6.897824287414551,
          5.9467082023620605,
          9.672861099243164,
          12.292282104492188,
          8.30105972290039,
          5.91272497177124,
          11.305523872375488,
          11.861722946166992,
          11.949291229248047,
          12.014371871948242,
          9.476693153381348,
          6.583469390869141,
          6.777102947235107,
          6.85748815536499,
          6.111771106719971,
          6.545383453369141,
          7.070995807647705,
          11.77530288696289,
          5.169571399688721,
          12.197449684143066,
          9.808900833129883,
          6.608835697174072,
          6.688310623168945,
          8.460760116577148,
          9.575361251831055,
          11.37228775024414,
          6.912724494934082,
          7.0043439865112305,
          9.11579704284668,
          5.5551676750183105,
          7.286579132080078,
          8.070737838745117,
          10.270280838012695,
          7.368993282318115,
          7.034005641937256,
          6.144985675811768,
          7.619946002960205,
          11.988595008850098,
          7.29950475692749,
          9.383089065551758,
          8.477940559387207,
          10.147671699523926,
          7.2353363037109375,
          8.251113891601562,
          5.9933180809021,
          5.862031936645508,
          9.096138954162598,
          6.809951305389404,
          8.317399024963379,
          8.140420913696289,
          6.42878532409668,
          7.059203147888184,
          8.725658416748047,
          6.833473205566406,
          11.732748031616211,
          11.559325218200684,
          7.327730655670166,
          9.924407005310059,
          11.198777198791504,
          9.489761352539062,
          12.21826171875,
          5.708539009094238,
          7.326310157775879,
          12.117433547973633,
          11.069257736206055,
          8.619220733642578,
          9.794499397277832,
          5.70590877532959,
          7.711325645446777,
          6.4216790199279785,
          9.82611083984375,
          6.0690507888793945,
          6.7717084884643555,
          6.826309680938721,
          8.440364837646484,
          9.945244789123535,
          7.401668071746826,
          7.0348944664001465,
          9.435080528259277,
          7.003505229949951,
          9.531299591064453,
          9.042537689208984,
          6.143887519836426,
          5.931556701660156,
          5.524893283843994,
          7.914988994598389,
          10.859472274780273,
          7.264615058898926,
          10.880279541015625,
          6.9950785636901855,
          8.582566261291504,
          9.241557121276855,
          10.490619659423828,
          10.417746543884277,
          5.684731960296631,
          7.918766975402832,
          7.200355052947998,
          12.235840797424316,
          7.612923622131348,
          5.71133279800415,
          7.536570072174072,
          12.316296577453613,
          7.050355911254883,
          6.685023307800293,
          11.316454887390137,
          7.2650532722473145,
          5.9567999839782715,
          11.118605613708496,
          6.9631781578063965,
          11.566926956176758,
          10.738605499267578,
          9.927332878112793,
          7.187856674194336,
          6.295126914978027,
          6.379583358764648,
          6.896224021911621,
          6.565646171569824,
          7.230292320251465,
          8.863382339477539,
          6.323616027832031,
          9.25768756866455,
          6.819930076599121,
          9.030991554260254,
          7.902504920959473,
          8.802940368652344,
          8.471087455749512,
          6.977296352386475,
          11.909631729125977,
          6.9590229988098145,
          8.666674613952637,
          6.049490451812744,
          12.272321701049805,
          5.497643947601318,
          8.6209716796875,
          11.259622573852539,
          9.130905151367188,
          9.090683937072754,
          9.623289108276367,
          5.873007297515869,
          6.765592575073242,
          7.248152732849121,
          7.906223773956299,
          5.969837665557861,
          10.876421928405762,
          7.955684185028076,
          6.821956634521484,
          11.505165100097656,
          11.243115425109863,
          6.821524143218994,
          11.60206127166748,
          7.511620044708252,
          11.647520065307617,
          5.508803844451904
         ],
         "yaxis": "y"
        }
       ],
       "layout": {
        "coloraxis": {
         "colorbar": {
          "title": {
           "text": "Cluster_Labels"
          }
         },
         "colorscale": [
          [
           0,
           "#0d0887"
          ],
          [
           0.1111111111111111,
           "#46039f"
          ],
          [
           0.2222222222222222,
           "#7201a8"
          ],
          [
           0.3333333333333333,
           "#9c179e"
          ],
          [
           0.4444444444444444,
           "#bd3786"
          ],
          [
           0.5555555555555556,
           "#d8576b"
          ],
          [
           0.6666666666666666,
           "#ed7953"
          ],
          [
           0.7777777777777778,
           "#fb9f3a"
          ],
          [
           0.8888888888888888,
           "#fdca26"
          ],
          [
           1,
           "#f0f921"
          ]
         ]
        },
        "legend": {
         "tracegroupgap": 0
        },
        "margin": {
         "t": 60
        },
        "template": {
         "data": {
          "bar": [
           {
            "error_x": {
             "color": "#2a3f5f"
            },
            "error_y": {
             "color": "#2a3f5f"
            },
            "marker": {
             "line": {
              "color": "#E5ECF6",
              "width": 0.5
             },
             "pattern": {
              "fillmode": "overlay",
              "size": 10,
              "solidity": 0.2
             }
            },
            "type": "bar"
           }
          ],
          "barpolar": [
           {
            "marker": {
             "line": {
              "color": "#E5ECF6",
              "width": 0.5
             },
             "pattern": {
              "fillmode": "overlay",
              "size": 10,
              "solidity": 0.2
             }
            },
            "type": "barpolar"
           }
          ],
          "carpet": [
           {
            "aaxis": {
             "endlinecolor": "#2a3f5f",
             "gridcolor": "white",
             "linecolor": "white",
             "minorgridcolor": "white",
             "startlinecolor": "#2a3f5f"
            },
            "baxis": {
             "endlinecolor": "#2a3f5f",
             "gridcolor": "white",
             "linecolor": "white",
             "minorgridcolor": "white",
             "startlinecolor": "#2a3f5f"
            },
            "type": "carpet"
           }
          ],
          "choropleth": [
           {
            "colorbar": {
             "outlinewidth": 0,
             "ticks": ""
            },
            "type": "choropleth"
           }
          ],
          "contour": [
           {
            "colorbar": {
             "outlinewidth": 0,
             "ticks": ""
            },
            "colorscale": [
             [
              0,
              "#0d0887"
             ],
             [
              0.1111111111111111,
              "#46039f"
             ],
             [
              0.2222222222222222,
              "#7201a8"
             ],
             [
              0.3333333333333333,
              "#9c179e"
             ],
             [
              0.4444444444444444,
              "#bd3786"
             ],
             [
              0.5555555555555556,
              "#d8576b"
             ],
             [
              0.6666666666666666,
              "#ed7953"
             ],
             [
              0.7777777777777778,
              "#fb9f3a"
             ],
             [
              0.8888888888888888,
              "#fdca26"
             ],
             [
              1,
              "#f0f921"
             ]
            ],
            "type": "contour"
           }
          ],
          "contourcarpet": [
           {
            "colorbar": {
             "outlinewidth": 0,
             "ticks": ""
            },
            "type": "contourcarpet"
           }
          ],
          "heatmap": [
           {
            "colorbar": {
             "outlinewidth": 0,
             "ticks": ""
            },
            "colorscale": [
             [
              0,
              "#0d0887"
             ],
             [
              0.1111111111111111,
              "#46039f"
             ],
             [
              0.2222222222222222,
              "#7201a8"
             ],
             [
              0.3333333333333333,
              "#9c179e"
             ],
             [
              0.4444444444444444,
              "#bd3786"
             ],
             [
              0.5555555555555556,
              "#d8576b"
             ],
             [
              0.6666666666666666,
              "#ed7953"
             ],
             [
              0.7777777777777778,
              "#fb9f3a"
             ],
             [
              0.8888888888888888,
              "#fdca26"
             ],
             [
              1,
              "#f0f921"
             ]
            ],
            "type": "heatmap"
           }
          ],
          "heatmapgl": [
           {
            "colorbar": {
             "outlinewidth": 0,
             "ticks": ""
            },
            "colorscale": [
             [
              0,
              "#0d0887"
             ],
             [
              0.1111111111111111,
              "#46039f"
             ],
             [
              0.2222222222222222,
              "#7201a8"
             ],
             [
              0.3333333333333333,
              "#9c179e"
             ],
             [
              0.4444444444444444,
              "#bd3786"
             ],
             [
              0.5555555555555556,
              "#d8576b"
             ],
             [
              0.6666666666666666,
              "#ed7953"
             ],
             [
              0.7777777777777778,
              "#fb9f3a"
             ],
             [
              0.8888888888888888,
              "#fdca26"
             ],
             [
              1,
              "#f0f921"
             ]
            ],
            "type": "heatmapgl"
           }
          ],
          "histogram": [
           {
            "marker": {
             "pattern": {
              "fillmode": "overlay",
              "size": 10,
              "solidity": 0.2
             }
            },
            "type": "histogram"
           }
          ],
          "histogram2d": [
           {
            "colorbar": {
             "outlinewidth": 0,
             "ticks": ""
            },
            "colorscale": [
             [
              0,
              "#0d0887"
             ],
             [
              0.1111111111111111,
              "#46039f"
             ],
             [
              0.2222222222222222,
              "#7201a8"
             ],
             [
              0.3333333333333333,
              "#9c179e"
             ],
             [
              0.4444444444444444,
              "#bd3786"
             ],
             [
              0.5555555555555556,
              "#d8576b"
             ],
             [
              0.6666666666666666,
              "#ed7953"
             ],
             [
              0.7777777777777778,
              "#fb9f3a"
             ],
             [
              0.8888888888888888,
              "#fdca26"
             ],
             [
              1,
              "#f0f921"
             ]
            ],
            "type": "histogram2d"
           }
          ],
          "histogram2dcontour": [
           {
            "colorbar": {
             "outlinewidth": 0,
             "ticks": ""
            },
            "colorscale": [
             [
              0,
              "#0d0887"
             ],
             [
              0.1111111111111111,
              "#46039f"
             ],
             [
              0.2222222222222222,
              "#7201a8"
             ],
             [
              0.3333333333333333,
              "#9c179e"
             ],
             [
              0.4444444444444444,
              "#bd3786"
             ],
             [
              0.5555555555555556,
              "#d8576b"
             ],
             [
              0.6666666666666666,
              "#ed7953"
             ],
             [
              0.7777777777777778,
              "#fb9f3a"
             ],
             [
              0.8888888888888888,
              "#fdca26"
             ],
             [
              1,
              "#f0f921"
             ]
            ],
            "type": "histogram2dcontour"
           }
          ],
          "mesh3d": [
           {
            "colorbar": {
             "outlinewidth": 0,
             "ticks": ""
            },
            "type": "mesh3d"
           }
          ],
          "parcoords": [
           {
            "line": {
             "colorbar": {
              "outlinewidth": 0,
              "ticks": ""
             }
            },
            "type": "parcoords"
           }
          ],
          "pie": [
           {
            "automargin": true,
            "type": "pie"
           }
          ],
          "scatter": [
           {
            "fillpattern": {
             "fillmode": "overlay",
             "size": 10,
             "solidity": 0.2
            },
            "type": "scatter"
           }
          ],
          "scatter3d": [
           {
            "line": {
             "colorbar": {
              "outlinewidth": 0,
              "ticks": ""
             }
            },
            "marker": {
             "colorbar": {
              "outlinewidth": 0,
              "ticks": ""
             }
            },
            "type": "scatter3d"
           }
          ],
          "scattercarpet": [
           {
            "marker": {
             "colorbar": {
              "outlinewidth": 0,
              "ticks": ""
             }
            },
            "type": "scattercarpet"
           }
          ],
          "scattergeo": [
           {
            "marker": {
             "colorbar": {
              "outlinewidth": 0,
              "ticks": ""
             }
            },
            "type": "scattergeo"
           }
          ],
          "scattergl": [
           {
            "marker": {
             "colorbar": {
              "outlinewidth": 0,
              "ticks": ""
             }
            },
            "type": "scattergl"
           }
          ],
          "scattermapbox": [
           {
            "marker": {
             "colorbar": {
              "outlinewidth": 0,
              "ticks": ""
             }
            },
            "type": "scattermapbox"
           }
          ],
          "scatterpolar": [
           {
            "marker": {
             "colorbar": {
              "outlinewidth": 0,
              "ticks": ""
             }
            },
            "type": "scatterpolar"
           }
          ],
          "scatterpolargl": [
           {
            "marker": {
             "colorbar": {
              "outlinewidth": 0,
              "ticks": ""
             }
            },
            "type": "scatterpolargl"
           }
          ],
          "scatterternary": [
           {
            "marker": {
             "colorbar": {
              "outlinewidth": 0,
              "ticks": ""
             }
            },
            "type": "scatterternary"
           }
          ],
          "surface": [
           {
            "colorbar": {
             "outlinewidth": 0,
             "ticks": ""
            },
            "colorscale": [
             [
              0,
              "#0d0887"
             ],
             [
              0.1111111111111111,
              "#46039f"
             ],
             [
              0.2222222222222222,
              "#7201a8"
             ],
             [
              0.3333333333333333,
              "#9c179e"
             ],
             [
              0.4444444444444444,
              "#bd3786"
             ],
             [
              0.5555555555555556,
              "#d8576b"
             ],
             [
              0.6666666666666666,
              "#ed7953"
             ],
             [
              0.7777777777777778,
              "#fb9f3a"
             ],
             [
              0.8888888888888888,
              "#fdca26"
             ],
             [
              1,
              "#f0f921"
             ]
            ],
            "type": "surface"
           }
          ],
          "table": [
           {
            "cells": {
             "fill": {
              "color": "#EBF0F8"
             },
             "line": {
              "color": "white"
             }
            },
            "header": {
             "fill": {
              "color": "#C8D4E3"
             },
             "line": {
              "color": "white"
             }
            },
            "type": "table"
           }
          ]
         },
         "layout": {
          "annotationdefaults": {
           "arrowcolor": "#2a3f5f",
           "arrowhead": 0,
           "arrowwidth": 1
          },
          "autotypenumbers": "strict",
          "coloraxis": {
           "colorbar": {
            "outlinewidth": 0,
            "ticks": ""
           }
          },
          "colorscale": {
           "diverging": [
            [
             0,
             "#8e0152"
            ],
            [
             0.1,
             "#c51b7d"
            ],
            [
             0.2,
             "#de77ae"
            ],
            [
             0.3,
             "#f1b6da"
            ],
            [
             0.4,
             "#fde0ef"
            ],
            [
             0.5,
             "#f7f7f7"
            ],
            [
             0.6,
             "#e6f5d0"
            ],
            [
             0.7,
             "#b8e186"
            ],
            [
             0.8,
             "#7fbc41"
            ],
            [
             0.9,
             "#4d9221"
            ],
            [
             1,
             "#276419"
            ]
           ],
           "sequential": [
            [
             0,
             "#0d0887"
            ],
            [
             0.1111111111111111,
             "#46039f"
            ],
            [
             0.2222222222222222,
             "#7201a8"
            ],
            [
             0.3333333333333333,
             "#9c179e"
            ],
            [
             0.4444444444444444,
             "#bd3786"
            ],
            [
             0.5555555555555556,
             "#d8576b"
            ],
            [
             0.6666666666666666,
             "#ed7953"
            ],
            [
             0.7777777777777778,
             "#fb9f3a"
            ],
            [
             0.8888888888888888,
             "#fdca26"
            ],
            [
             1,
             "#f0f921"
            ]
           ],
           "sequentialminus": [
            [
             0,
             "#0d0887"
            ],
            [
             0.1111111111111111,
             "#46039f"
            ],
            [
             0.2222222222222222,
             "#7201a8"
            ],
            [
             0.3333333333333333,
             "#9c179e"
            ],
            [
             0.4444444444444444,
             "#bd3786"
            ],
            [
             0.5555555555555556,
             "#d8576b"
            ],
            [
             0.6666666666666666,
             "#ed7953"
            ],
            [
             0.7777777777777778,
             "#fb9f3a"
            ],
            [
             0.8888888888888888,
             "#fdca26"
            ],
            [
             1,
             "#f0f921"
            ]
           ]
          },
          "colorway": [
           "#636efa",
           "#EF553B",
           "#00cc96",
           "#ab63fa",
           "#FFA15A",
           "#19d3f3",
           "#FF6692",
           "#B6E880",
           "#FF97FF",
           "#FECB52"
          ],
          "font": {
           "color": "#2a3f5f"
          },
          "geo": {
           "bgcolor": "white",
           "lakecolor": "white",
           "landcolor": "#E5ECF6",
           "showlakes": true,
           "showland": true,
           "subunitcolor": "white"
          },
          "hoverlabel": {
           "align": "left"
          },
          "hovermode": "closest",
          "mapbox": {
           "style": "light"
          },
          "paper_bgcolor": "white",
          "plot_bgcolor": "#E5ECF6",
          "polar": {
           "angularaxis": {
            "gridcolor": "white",
            "linecolor": "white",
            "ticks": ""
           },
           "bgcolor": "#E5ECF6",
           "radialaxis": {
            "gridcolor": "white",
            "linecolor": "white",
            "ticks": ""
           }
          },
          "scene": {
           "xaxis": {
            "backgroundcolor": "#E5ECF6",
            "gridcolor": "white",
            "gridwidth": 2,
            "linecolor": "white",
            "showbackground": true,
            "ticks": "",
            "zerolinecolor": "white"
           },
           "yaxis": {
            "backgroundcolor": "#E5ECF6",
            "gridcolor": "white",
            "gridwidth": 2,
            "linecolor": "white",
            "showbackground": true,
            "ticks": "",
            "zerolinecolor": "white"
           },
           "zaxis": {
            "backgroundcolor": "#E5ECF6",
            "gridcolor": "white",
            "gridwidth": 2,
            "linecolor": "white",
            "showbackground": true,
            "ticks": "",
            "zerolinecolor": "white"
           }
          },
          "shapedefaults": {
           "line": {
            "color": "#2a3f5f"
           }
          },
          "ternary": {
           "aaxis": {
            "gridcolor": "white",
            "linecolor": "white",
            "ticks": ""
           },
           "baxis": {
            "gridcolor": "white",
            "linecolor": "white",
            "ticks": ""
           },
           "bgcolor": "#E5ECF6",
           "caxis": {
            "gridcolor": "white",
            "linecolor": "white",
            "ticks": ""
           }
          },
          "title": {
           "x": 0.05
          },
          "xaxis": {
           "automargin": true,
           "gridcolor": "white",
           "linecolor": "white",
           "ticks": "",
           "title": {
            "standoff": 15
           },
           "zerolinecolor": "white",
           "zerolinewidth": 2
          },
          "yaxis": {
           "automargin": true,
           "gridcolor": "white",
           "linecolor": "white",
           "ticks": "",
           "title": {
            "standoff": 15
           },
           "zerolinecolor": "white",
           "zerolinewidth": 2
          }
         }
        },
        "title": {
         "text": "UMAP with K-means Clustering and Sample IDs"
        },
        "xaxis": {
         "anchor": "y",
         "domain": [
          0,
          1
         ],
         "title": {
          "text": "UMAP_1"
         }
        },
        "yaxis": {
         "anchor": "x",
         "domain": [
          0,
          1
         ],
         "title": {
          "text": "UMAP_2"
         }
        }
       }
      }
     },
     "metadata": {},
     "output_type": "display_data"
    }
   ],
   "source": [
    "import plotly.express as px\n",
    "from sklearn.cluster import KMeans\n",
    "\n",
    "# Assuming combined_df is your DataFrame with PCs and Sample_ID column\n",
    "umap_df = combined_df[['UMAP_1', 'UMAP_2']]\n",
    "\n",
    "# Perform K-means clustering\n",
    "kmeans = KMeans(n_clusters=10)  # Adjust the number of clusters as needed\n",
    "combined_df['Cluster_Labels'] = kmeans.fit_predict(umap_df)\n",
    "\n",
    "# Create an interactive scatter plot with color-coded clusters and sample IDs\n",
    "fig = px.scatter(combined_df, x='UMAP_1', y='UMAP_2', color='Cluster_Labels', hover_data=['embryo ID'])\n",
    "fig.update_layout(title='UMAP with K-means Clustering and Sample IDs')\n",
    "fig.show()\n"
   ]
  }
 ],
 "metadata": {
  "kernelspec": {
   "display_name": "Python 3.9.16 ('abbott')",
   "language": "python",
   "name": "python3"
  },
  "language_info": {
   "codemirror_mode": {
    "name": "ipython",
    "version": 3
   },
   "file_extension": ".py",
   "mimetype": "text/x-python",
   "name": "python",
   "nbconvert_exporter": "python",
   "pygments_lexer": "ipython3",
   "version": "3.10.10"
  },
  "orig_nbformat": 4,
  "vscode": {
   "interpreter": {
    "hash": "ed47f1b185943054d589f746d8e1bb9daa614829cb62b7a3c35675f71b892154"
   }
  }
 },
 "nbformat": 4,
 "nbformat_minor": 2
}
