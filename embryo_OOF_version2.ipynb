{
 "cells": [
  {
   "cell_type": "code",
   "execution_count": 2,
   "metadata": {},
   "outputs": [],
   "source": [
    "import h5py\n",
    "import napari\n",
    "import numpy as np\n",
    "import pandas as pd\n",
    "from abbott.h5_files import *\n",
    "from abbott.conversions import *\n",
    "from pathlib import Path\n",
    "import nest_asyncio\n",
    "nest_asyncio.apply()"
   ]
  },
  {
   "cell_type": "code",
   "execution_count": 3,
   "metadata": {},
   "outputs": [],
   "source": [
    "from skimage.measure import label, regionprops\n",
    "\n",
    "def select_largest_object(bw_img):\n",
    "    lbl_img = label(bw_img)\n",
    "    props = regionprops(lbl_img)\n",
    "    if not props:  # sometimes we don't have ANY mask for a timepoint which would throw an error in the next step if we don't check for it\n",
    "        return np.zeros(bw_img.shape, dtype=np.int32)  # Return an integer type array\n",
    "    lbl = [p.label for p in props][np.argmax([p.area for p in props])]\n",
    "    return (lbl_img == lbl).astype(np.int32)  # Convert the output to integer type\n"
   ]
  },
  {
   "cell_type": "code",
   "execution_count": 4,
   "metadata": {},
   "outputs": [],
   "source": [
    "from skimage.measure import label, regionprops\n",
    "import shutil\n",
    "\n",
    "\n",
    "#fld= \"Q:\\carspi\\Test\"\n",
    "#trash_fld= \"Q:\\carspi\\Test_trash\"\n",
    "\n",
    "def keep_in_frame(fld, trash_fld, tolerance):\n",
    "\n",
    "    files_to_move = []\n",
    "\n",
    "    for fn in fld.glob('*.h5'):\n",
    "        with h5py.File(fn) as f:\n",
    "            print('processing {}...'.format(fn.name))\n",
    "\n",
    "            mask_cleanup_corrected = f['mask_cleanup_corrected/1'][...]\n",
    "            timepoints = mask_cleanup_corrected.shape[0]\n",
    "            \n",
    "            mask = label(mask_cleanup_corrected)  \n",
    "            mask = select_largest_object(mask)\n",
    "            props = regionprops(mask)\n",
    "\n",
    "            area_tmin1 = props[0].area\n",
    "           \n",
    "            for t in range(timepoints):\n",
    "               \n",
    "                if not props: #check if there is a region so that it doesn't create problems later\n",
    "                    #if there is an area with no mask, it's OOF\n",
    "                    #save embryo to trash folder\n",
    "                    files_to_move.append(fn)\n",
    "                    break\n",
    "\n",
    "                area_t = props[0].area #measure area at timepoint t\n",
    "\n",
    "                tol = area_t * tolerance\n",
    "\n",
    "                print('processing timepoint', t, 'area', area_t)\n",
    "                \n",
    "                if area_t <= area_tmin1 - tol:\n",
    "\n",
    "                    files_to_move.append(fn)\n",
    "                    break\n",
    "\n",
    "                area_tmin1 = area_t #update area to that of t for next comparison\n",
    "    \n",
    "    for fn in files_to_move:\n",
    "        shutil.move(fn, trash_fld)\n",
    "                  "
   ]
  },
  {
   "cell_type": "code",
   "execution_count": null,
   "metadata": {},
   "outputs": [],
   "source": [
    "fld=Path(r\"Q:\\carspi\\Test\")\n",
    "trash_fld=Path(r\"Q:\\carspi\\Test_trash\")\n",
    "\n",
    "keep_in_frame(fld, trash_fld, tolerance=0.1)"
   ]
  }
 ],
 "metadata": {
  "kernelspec": {
   "display_name": "abbott",
   "language": "python",
   "name": "python3"
  },
  "language_info": {
   "codemirror_mode": {
    "name": "ipython",
    "version": 3
   },
   "file_extension": ".py",
   "mimetype": "text/x-python",
   "name": "python",
   "nbconvert_exporter": "python",
   "pygments_lexer": "ipython3",
   "version": "3.10.10"
  },
  "orig_nbformat": 4
 },
 "nbformat": 4,
 "nbformat_minor": 2
}
