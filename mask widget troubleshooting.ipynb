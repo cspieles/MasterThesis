{
 "cells": [
  {
   "cell_type": "code",
   "execution_count": 1,
   "metadata": {},
   "outputs": [
    {
     "ename": "EmitLoopError",
     "evalue": "calling <psygnal._weak_callback._StrongFunction object at 0x00000161DD58F140> with args=(False,) caused ValueError: Unable to create dataset (name already exists).",
     "output_type": "error",
     "traceback": [
      "\u001b[1;31m---------------------------------------------------------------------------\u001b[0m",
      "\u001b[1;31mValueError\u001b[0m                                Traceback (most recent call last)",
      "File \u001b[1;32msrc\\psygnal\\_signal.py:950\u001b[0m, in \u001b[0;36m_run_emit_loop\u001b[1;34m()\u001b[0m\n",
      "File \u001b[1;32msrc\\psygnal\\_weak_callback.py:262\u001b[0m, in \u001b[0;36mcb\u001b[1;34m()\u001b[0m\n",
      "File \u001b[1;32mc:\\Users\\carspi\\AppData\\Local\\miniconda3\\envs\\abbott\\lib\\site-packages\\magicgui\\widgets\\_function_gui.py:218\u001b[0m, in \u001b[0;36mFunctionGui.__init__.<locals>._disable_button_and_call\u001b[1;34m()\u001b[0m\n\u001b[0;32m    217\u001b[0m \u001b[39mtry\u001b[39;00m:\n\u001b[1;32m--> 218\u001b[0m     \u001b[39mself\u001b[39;49m\u001b[39m.\u001b[39;49m\u001b[39m__call__\u001b[39;49m()\n\u001b[0;32m    219\u001b[0m \u001b[39mfinally\u001b[39;00m:\n",
      "File \u001b[1;32mc:\\Users\\carspi\\AppData\\Local\\miniconda3\\envs\\abbott\\lib\\site-packages\\magicgui\\widgets\\_function_gui.py:331\u001b[0m, in \u001b[0;36mFunctionGui.__call__\u001b[1;34m(self, update_widget, *args, **kwargs)\u001b[0m\n\u001b[0;32m    330\u001b[0m \u001b[39mwith\u001b[39;00m _function_name_pointing_to_widget(\u001b[39mself\u001b[39m):\n\u001b[1;32m--> 331\u001b[0m     value \u001b[39m=\u001b[39m \u001b[39mself\u001b[39m\u001b[39m.\u001b[39m_function(\u001b[39m*\u001b[39mbound\u001b[39m.\u001b[39margs, \u001b[39m*\u001b[39m\u001b[39m*\u001b[39mbound\u001b[39m.\u001b[39mkwargs)\n\u001b[0;32m    333\u001b[0m \u001b[39mself\u001b[39m\u001b[39m.\u001b[39m_call_count \u001b[39m+\u001b[39m\u001b[39m=\u001b[39m \u001b[39m1\u001b[39m\n",
      "Cell \u001b[1;32mIn[1], line 24\u001b[0m, in \u001b[0;36msave_changes\u001b[1;34m(label)\u001b[0m\n\u001b[0;32m     22\u001b[0m \u001b[39mwith\u001b[39;00m h5py\u001b[39m.\u001b[39mFile(fn, \u001b[39m'\u001b[39m\u001b[39ma\u001b[39m\u001b[39m'\u001b[39m) \u001b[39mas\u001b[39;00m f_out:\n\u001b[0;32m     23\u001b[0m     \u001b[39m#to_copy = h5_select(f_out, {'level': 1, 'stain': 'embryo'})[0]\u001b[39;00m\n\u001b[1;32m---> 24\u001b[0m     dset \u001b[39m=\u001b[39m f_out\u001b[39m.\u001b[39;49mcreate_dataset(\u001b[39m'\u001b[39;49m\u001b[39mmask_cleanup_corrected/1\u001b[39;49m\u001b[39m'\u001b[39;49m, data \u001b[39m=\u001b[39;49m label\u001b[39m.\u001b[39;49mdata)\n\u001b[0;32m     25\u001b[0m     h5_write_attributes(dset, {\u001b[39m'\u001b[39m\u001b[39mlevel\u001b[39m\u001b[39m'\u001b[39m: \u001b[39m1\u001b[39m, \u001b[39m'\u001b[39m\u001b[39mstain\u001b[39m\u001b[39m'\u001b[39m: \u001b[39m'\u001b[39m\u001b[39membryo\u001b[39m\u001b[39m'\u001b[39m, \u001b[39m\"\u001b[39m\u001b[39mcycle\u001b[39m\u001b[39m\"\u001b[39m:\u001b[39m\"\u001b[39m\u001b[39m0\u001b[39m\u001b[39m\"\u001b[39m, \u001b[39m\"\u001b[39m\u001b[39mimg_type\u001b[39m\u001b[39m\"\u001b[39m:\u001b[39m\"\u001b[39m\u001b[39mlabel\u001b[39m\u001b[39m\"\u001b[39m,\u001b[39m\"\u001b[39m\u001b[39melement_size_um\u001b[39m\u001b[39m\"\u001b[39m: [\u001b[39m3.0\u001b[39m, \u001b[39m2.6\u001b[39m, \u001b[39m2.6\u001b[39m]})\n",
      "File \u001b[1;32mc:\\Users\\carspi\\AppData\\Local\\miniconda3\\envs\\abbott\\lib\\site-packages\\h5py\\_hl\\group.py:183\u001b[0m, in \u001b[0;36mGroup.create_dataset\u001b[1;34m(self, name, shape, dtype, data, **kwds)\u001b[0m\n\u001b[0;32m    181\u001b[0m         group \u001b[39m=\u001b[39m \u001b[39mself\u001b[39m\u001b[39m.\u001b[39mrequire_group(parent_path)\n\u001b[1;32m--> 183\u001b[0m dsid \u001b[39m=\u001b[39m dataset\u001b[39m.\u001b[39mmake_new_dset(group, shape, dtype, data, name, \u001b[39m*\u001b[39m\u001b[39m*\u001b[39mkwds)\n\u001b[0;32m    184\u001b[0m dset \u001b[39m=\u001b[39m dataset\u001b[39m.\u001b[39mDataset(dsid)\n",
      "File \u001b[1;32mc:\\Users\\carspi\\AppData\\Local\\miniconda3\\envs\\abbott\\lib\\site-packages\\h5py\\_hl\\dataset.py:165\u001b[0m, in \u001b[0;36mmake_new_dset\u001b[1;34m(parent, shape, dtype, data, name, chunks, compression, shuffle, fletcher32, maxshape, compression_opts, fillvalue, scaleoffset, track_times, external, track_order, dcpl, dapl, efile_prefix, virtual_prefix, allow_unknown_filter, rdcc_nslots, rdcc_nbytes, rdcc_w0)\u001b[0m\n\u001b[0;32m    163\u001b[0m     sid \u001b[39m=\u001b[39m h5s\u001b[39m.\u001b[39mcreate_simple(shape, maxshape)\n\u001b[1;32m--> 165\u001b[0m dset_id \u001b[39m=\u001b[39m h5d\u001b[39m.\u001b[39;49mcreate(parent\u001b[39m.\u001b[39;49mid, name, tid, sid, dcpl\u001b[39m=\u001b[39;49mdcpl, dapl\u001b[39m=\u001b[39;49mdapl)\n\u001b[0;32m    167\u001b[0m \u001b[39mif\u001b[39;00m (data \u001b[39mis\u001b[39;00m \u001b[39mnot\u001b[39;00m \u001b[39mNone\u001b[39;00m) \u001b[39mand\u001b[39;00m (\u001b[39mnot\u001b[39;00m \u001b[39misinstance\u001b[39m(data, Empty)):\n",
      "File \u001b[1;32mh5py\\_objects.pyx:54\u001b[0m, in \u001b[0;36mh5py._objects.with_phil.wrapper\u001b[1;34m()\u001b[0m\n",
      "File \u001b[1;32mh5py\\_objects.pyx:55\u001b[0m, in \u001b[0;36mh5py._objects.with_phil.wrapper\u001b[1;34m()\u001b[0m\n",
      "File \u001b[1;32mh5py\\h5d.pyx:135\u001b[0m, in \u001b[0;36mh5py.h5d.create\u001b[1;34m()\u001b[0m\n",
      "\u001b[1;31mValueError\u001b[0m: Unable to create dataset (name already exists)",
      "\nThe above exception was the direct cause of the following exception:\n",
      "\u001b[1;31mEmitLoopError\u001b[0m                             Traceback (most recent call last)",
      "File \u001b[1;32mc:\\Users\\carspi\\AppData\\Local\\miniconda3\\envs\\abbott\\lib\\site-packages\\magicgui\\widgets\\bases\\_value_widget.py:65\u001b[0m, in \u001b[0;36mValueWidget._on_value_change\u001b[1;34m(self, value)\u001b[0m\n\u001b[0;32m     63\u001b[0m \u001b[39mif\u001b[39;00m value \u001b[39mis\u001b[39;00m \u001b[39mself\u001b[39m\u001b[39m.\u001b[39mnull_value \u001b[39mand\u001b[39;00m \u001b[39mnot\u001b[39;00m \u001b[39mself\u001b[39m\u001b[39m.\u001b[39m_nullable:\n\u001b[0;32m     64\u001b[0m     \u001b[39mreturn\u001b[39;00m\n\u001b[1;32m---> 65\u001b[0m \u001b[39mself\u001b[39;49m\u001b[39m.\u001b[39;49mchanged\u001b[39m.\u001b[39;49memit(value)\n",
      "File \u001b[1;32msrc\\psygnal\\_signal.py:905\u001b[0m, in \u001b[0;36memit\u001b[1;34m()\u001b[0m\n",
      "File \u001b[1;32msrc\\psygnal\\_signal.py:952\u001b[0m, in \u001b[0;36m_run_emit_loop\u001b[1;34m()\u001b[0m\n",
      "\u001b[1;31mEmitLoopError\u001b[0m: calling <psygnal._weak_callback._StrongFunction object at 0x00000161DD58F140> with args=(False,) caused ValueError: Unable to create dataset (name already exists)."
     ]
    },
    {
     "ename": "EmitLoopError",
     "evalue": "calling <psygnal._weak_callback._StrongFunction object at 0x00000161DD58F140> with args=(False,) caused ValueError: Unable to create dataset (name already exists).",
     "output_type": "error",
     "traceback": [
      "\u001b[1;31m---------------------------------------------------------------------------\u001b[0m",
      "\u001b[1;31mValueError\u001b[0m                                Traceback (most recent call last)",
      "File \u001b[1;32msrc\\psygnal\\_signal.py:950\u001b[0m, in \u001b[0;36m_run_emit_loop\u001b[1;34m()\u001b[0m\n",
      "File \u001b[1;32msrc\\psygnal\\_weak_callback.py:262\u001b[0m, in \u001b[0;36mcb\u001b[1;34m()\u001b[0m\n",
      "File \u001b[1;32mc:\\Users\\carspi\\AppData\\Local\\miniconda3\\envs\\abbott\\lib\\site-packages\\magicgui\\widgets\\_function_gui.py:218\u001b[0m, in \u001b[0;36mFunctionGui.__init__.<locals>._disable_button_and_call\u001b[1;34m()\u001b[0m\n\u001b[0;32m    217\u001b[0m \u001b[39mtry\u001b[39;00m:\n\u001b[1;32m--> 218\u001b[0m     \u001b[39mself\u001b[39;49m\u001b[39m.\u001b[39;49m\u001b[39m__call__\u001b[39;49m()\n\u001b[0;32m    219\u001b[0m \u001b[39mfinally\u001b[39;00m:\n",
      "File \u001b[1;32mc:\\Users\\carspi\\AppData\\Local\\miniconda3\\envs\\abbott\\lib\\site-packages\\magicgui\\widgets\\_function_gui.py:331\u001b[0m, in \u001b[0;36mFunctionGui.__call__\u001b[1;34m(self, update_widget, *args, **kwargs)\u001b[0m\n\u001b[0;32m    330\u001b[0m \u001b[39mwith\u001b[39;00m _function_name_pointing_to_widget(\u001b[39mself\u001b[39m):\n\u001b[1;32m--> 331\u001b[0m     value \u001b[39m=\u001b[39m \u001b[39mself\u001b[39m\u001b[39m.\u001b[39m_function(\u001b[39m*\u001b[39mbound\u001b[39m.\u001b[39margs, \u001b[39m*\u001b[39m\u001b[39m*\u001b[39mbound\u001b[39m.\u001b[39mkwargs)\n\u001b[0;32m    333\u001b[0m \u001b[39mself\u001b[39m\u001b[39m.\u001b[39m_call_count \u001b[39m+\u001b[39m\u001b[39m=\u001b[39m \u001b[39m1\u001b[39m\n",
      "Cell \u001b[1;32mIn[1], line 24\u001b[0m, in \u001b[0;36msave_changes\u001b[1;34m(label)\u001b[0m\n\u001b[0;32m     22\u001b[0m \u001b[39mwith\u001b[39;00m h5py\u001b[39m.\u001b[39mFile(fn, \u001b[39m'\u001b[39m\u001b[39ma\u001b[39m\u001b[39m'\u001b[39m) \u001b[39mas\u001b[39;00m f_out:\n\u001b[0;32m     23\u001b[0m     \u001b[39m#to_copy = h5_select(f_out, {'level': 1, 'stain': 'embryo'})[0]\u001b[39;00m\n\u001b[1;32m---> 24\u001b[0m     dset \u001b[39m=\u001b[39m f_out\u001b[39m.\u001b[39;49mcreate_dataset(\u001b[39m'\u001b[39;49m\u001b[39mmask_cleanup_corrected/1\u001b[39;49m\u001b[39m'\u001b[39;49m, data \u001b[39m=\u001b[39;49m label\u001b[39m.\u001b[39;49mdata)\n\u001b[0;32m     25\u001b[0m     h5_write_attributes(dset, {\u001b[39m'\u001b[39m\u001b[39mlevel\u001b[39m\u001b[39m'\u001b[39m: \u001b[39m1\u001b[39m, \u001b[39m'\u001b[39m\u001b[39mstain\u001b[39m\u001b[39m'\u001b[39m: \u001b[39m'\u001b[39m\u001b[39membryo\u001b[39m\u001b[39m'\u001b[39m, \u001b[39m\"\u001b[39m\u001b[39mcycle\u001b[39m\u001b[39m\"\u001b[39m:\u001b[39m\"\u001b[39m\u001b[39m0\u001b[39m\u001b[39m\"\u001b[39m, \u001b[39m\"\u001b[39m\u001b[39mimg_type\u001b[39m\u001b[39m\"\u001b[39m:\u001b[39m\"\u001b[39m\u001b[39mlabel\u001b[39m\u001b[39m\"\u001b[39m,\u001b[39m\"\u001b[39m\u001b[39melement_size_um\u001b[39m\u001b[39m\"\u001b[39m: [\u001b[39m3.0\u001b[39m, \u001b[39m2.6\u001b[39m, \u001b[39m2.6\u001b[39m]})\n",
      "File \u001b[1;32mc:\\Users\\carspi\\AppData\\Local\\miniconda3\\envs\\abbott\\lib\\site-packages\\h5py\\_hl\\group.py:183\u001b[0m, in \u001b[0;36mGroup.create_dataset\u001b[1;34m(self, name, shape, dtype, data, **kwds)\u001b[0m\n\u001b[0;32m    181\u001b[0m         group \u001b[39m=\u001b[39m \u001b[39mself\u001b[39m\u001b[39m.\u001b[39mrequire_group(parent_path)\n\u001b[1;32m--> 183\u001b[0m dsid \u001b[39m=\u001b[39m dataset\u001b[39m.\u001b[39mmake_new_dset(group, shape, dtype, data, name, \u001b[39m*\u001b[39m\u001b[39m*\u001b[39mkwds)\n\u001b[0;32m    184\u001b[0m dset \u001b[39m=\u001b[39m dataset\u001b[39m.\u001b[39mDataset(dsid)\n",
      "File \u001b[1;32mc:\\Users\\carspi\\AppData\\Local\\miniconda3\\envs\\abbott\\lib\\site-packages\\h5py\\_hl\\dataset.py:165\u001b[0m, in \u001b[0;36mmake_new_dset\u001b[1;34m(parent, shape, dtype, data, name, chunks, compression, shuffle, fletcher32, maxshape, compression_opts, fillvalue, scaleoffset, track_times, external, track_order, dcpl, dapl, efile_prefix, virtual_prefix, allow_unknown_filter, rdcc_nslots, rdcc_nbytes, rdcc_w0)\u001b[0m\n\u001b[0;32m    163\u001b[0m     sid \u001b[39m=\u001b[39m h5s\u001b[39m.\u001b[39mcreate_simple(shape, maxshape)\n\u001b[1;32m--> 165\u001b[0m dset_id \u001b[39m=\u001b[39m h5d\u001b[39m.\u001b[39;49mcreate(parent\u001b[39m.\u001b[39;49mid, name, tid, sid, dcpl\u001b[39m=\u001b[39;49mdcpl, dapl\u001b[39m=\u001b[39;49mdapl)\n\u001b[0;32m    167\u001b[0m \u001b[39mif\u001b[39;00m (data \u001b[39mis\u001b[39;00m \u001b[39mnot\u001b[39;00m \u001b[39mNone\u001b[39;00m) \u001b[39mand\u001b[39;00m (\u001b[39mnot\u001b[39;00m \u001b[39misinstance\u001b[39m(data, Empty)):\n",
      "File \u001b[1;32mh5py\\_objects.pyx:54\u001b[0m, in \u001b[0;36mh5py._objects.with_phil.wrapper\u001b[1;34m()\u001b[0m\n",
      "File \u001b[1;32mh5py\\_objects.pyx:55\u001b[0m, in \u001b[0;36mh5py._objects.with_phil.wrapper\u001b[1;34m()\u001b[0m\n",
      "File \u001b[1;32mh5py\\h5d.pyx:135\u001b[0m, in \u001b[0;36mh5py.h5d.create\u001b[1;34m()\u001b[0m\n",
      "\u001b[1;31mValueError\u001b[0m: Unable to create dataset (name already exists)",
      "\nThe above exception was the direct cause of the following exception:\n",
      "\u001b[1;31mEmitLoopError\u001b[0m                             Traceback (most recent call last)",
      "File \u001b[1;32mc:\\Users\\carspi\\AppData\\Local\\miniconda3\\envs\\abbott\\lib\\site-packages\\magicgui\\widgets\\bases\\_value_widget.py:65\u001b[0m, in \u001b[0;36mValueWidget._on_value_change\u001b[1;34m(self, value)\u001b[0m\n\u001b[0;32m     63\u001b[0m \u001b[39mif\u001b[39;00m value \u001b[39mis\u001b[39;00m \u001b[39mself\u001b[39m\u001b[39m.\u001b[39mnull_value \u001b[39mand\u001b[39;00m \u001b[39mnot\u001b[39;00m \u001b[39mself\u001b[39m\u001b[39m.\u001b[39m_nullable:\n\u001b[0;32m     64\u001b[0m     \u001b[39mreturn\u001b[39;00m\n\u001b[1;32m---> 65\u001b[0m \u001b[39mself\u001b[39;49m\u001b[39m.\u001b[39;49mchanged\u001b[39m.\u001b[39;49memit(value)\n",
      "File \u001b[1;32msrc\\psygnal\\_signal.py:905\u001b[0m, in \u001b[0;36memit\u001b[1;34m()\u001b[0m\n",
      "File \u001b[1;32msrc\\psygnal\\_signal.py:952\u001b[0m, in \u001b[0;36m_run_emit_loop\u001b[1;34m()\u001b[0m\n",
      "\u001b[1;31mEmitLoopError\u001b[0m: calling <psygnal._weak_callback._StrongFunction object at 0x00000161DD58F140> with args=(False,) caused ValueError: Unable to create dataset (name already exists)."
     ]
    },
    {
     "ename": "EmitLoopError",
     "evalue": "calling <psygnal._weak_callback._StrongFunction object at 0x00000161DD58F140> with args=(False,) caused ValueError: Unable to create dataset (name already exists).",
     "output_type": "error",
     "traceback": [
      "\u001b[1;31m---------------------------------------------------------------------------\u001b[0m",
      "\u001b[1;31mValueError\u001b[0m                                Traceback (most recent call last)",
      "File \u001b[1;32msrc\\psygnal\\_signal.py:950\u001b[0m, in \u001b[0;36m_run_emit_loop\u001b[1;34m()\u001b[0m\n",
      "File \u001b[1;32msrc\\psygnal\\_weak_callback.py:262\u001b[0m, in \u001b[0;36mcb\u001b[1;34m()\u001b[0m\n",
      "File \u001b[1;32mc:\\Users\\carspi\\AppData\\Local\\miniconda3\\envs\\abbott\\lib\\site-packages\\magicgui\\widgets\\_function_gui.py:218\u001b[0m, in \u001b[0;36mFunctionGui.__init__.<locals>._disable_button_and_call\u001b[1;34m()\u001b[0m\n\u001b[0;32m    217\u001b[0m \u001b[39mtry\u001b[39;00m:\n\u001b[1;32m--> 218\u001b[0m     \u001b[39mself\u001b[39;49m\u001b[39m.\u001b[39;49m\u001b[39m__call__\u001b[39;49m()\n\u001b[0;32m    219\u001b[0m \u001b[39mfinally\u001b[39;00m:\n",
      "File \u001b[1;32mc:\\Users\\carspi\\AppData\\Local\\miniconda3\\envs\\abbott\\lib\\site-packages\\magicgui\\widgets\\_function_gui.py:331\u001b[0m, in \u001b[0;36mFunctionGui.__call__\u001b[1;34m(self, update_widget, *args, **kwargs)\u001b[0m\n\u001b[0;32m    330\u001b[0m \u001b[39mwith\u001b[39;00m _function_name_pointing_to_widget(\u001b[39mself\u001b[39m):\n\u001b[1;32m--> 331\u001b[0m     value \u001b[39m=\u001b[39m \u001b[39mself\u001b[39m\u001b[39m.\u001b[39m_function(\u001b[39m*\u001b[39mbound\u001b[39m.\u001b[39margs, \u001b[39m*\u001b[39m\u001b[39m*\u001b[39mbound\u001b[39m.\u001b[39mkwargs)\n\u001b[0;32m    333\u001b[0m \u001b[39mself\u001b[39m\u001b[39m.\u001b[39m_call_count \u001b[39m+\u001b[39m\u001b[39m=\u001b[39m \u001b[39m1\u001b[39m\n",
      "Cell \u001b[1;32mIn[1], line 24\u001b[0m, in \u001b[0;36msave_changes\u001b[1;34m(label)\u001b[0m\n\u001b[0;32m     22\u001b[0m \u001b[39mwith\u001b[39;00m h5py\u001b[39m.\u001b[39mFile(fn, \u001b[39m'\u001b[39m\u001b[39ma\u001b[39m\u001b[39m'\u001b[39m) \u001b[39mas\u001b[39;00m f_out:\n\u001b[0;32m     23\u001b[0m     \u001b[39m#to_copy = h5_select(f_out, {'level': 1, 'stain': 'embryo'})[0]\u001b[39;00m\n\u001b[1;32m---> 24\u001b[0m     dset \u001b[39m=\u001b[39m f_out\u001b[39m.\u001b[39;49mcreate_dataset(\u001b[39m'\u001b[39;49m\u001b[39mmask_cleanup_corrected/1\u001b[39;49m\u001b[39m'\u001b[39;49m, data \u001b[39m=\u001b[39;49m label\u001b[39m.\u001b[39;49mdata)\n\u001b[0;32m     25\u001b[0m     h5_write_attributes(dset, {\u001b[39m'\u001b[39m\u001b[39mlevel\u001b[39m\u001b[39m'\u001b[39m: \u001b[39m1\u001b[39m, \u001b[39m'\u001b[39m\u001b[39mstain\u001b[39m\u001b[39m'\u001b[39m: \u001b[39m'\u001b[39m\u001b[39membryo\u001b[39m\u001b[39m'\u001b[39m, \u001b[39m\"\u001b[39m\u001b[39mcycle\u001b[39m\u001b[39m\"\u001b[39m:\u001b[39m\"\u001b[39m\u001b[39m0\u001b[39m\u001b[39m\"\u001b[39m, \u001b[39m\"\u001b[39m\u001b[39mimg_type\u001b[39m\u001b[39m\"\u001b[39m:\u001b[39m\"\u001b[39m\u001b[39mlabel\u001b[39m\u001b[39m\"\u001b[39m,\u001b[39m\"\u001b[39m\u001b[39melement_size_um\u001b[39m\u001b[39m\"\u001b[39m: [\u001b[39m3.0\u001b[39m, \u001b[39m2.6\u001b[39m, \u001b[39m2.6\u001b[39m]})\n",
      "File \u001b[1;32mc:\\Users\\carspi\\AppData\\Local\\miniconda3\\envs\\abbott\\lib\\site-packages\\h5py\\_hl\\group.py:183\u001b[0m, in \u001b[0;36mGroup.create_dataset\u001b[1;34m(self, name, shape, dtype, data, **kwds)\u001b[0m\n\u001b[0;32m    181\u001b[0m         group \u001b[39m=\u001b[39m \u001b[39mself\u001b[39m\u001b[39m.\u001b[39mrequire_group(parent_path)\n\u001b[1;32m--> 183\u001b[0m dsid \u001b[39m=\u001b[39m dataset\u001b[39m.\u001b[39mmake_new_dset(group, shape, dtype, data, name, \u001b[39m*\u001b[39m\u001b[39m*\u001b[39mkwds)\n\u001b[0;32m    184\u001b[0m dset \u001b[39m=\u001b[39m dataset\u001b[39m.\u001b[39mDataset(dsid)\n",
      "File \u001b[1;32mc:\\Users\\carspi\\AppData\\Local\\miniconda3\\envs\\abbott\\lib\\site-packages\\h5py\\_hl\\dataset.py:165\u001b[0m, in \u001b[0;36mmake_new_dset\u001b[1;34m(parent, shape, dtype, data, name, chunks, compression, shuffle, fletcher32, maxshape, compression_opts, fillvalue, scaleoffset, track_times, external, track_order, dcpl, dapl, efile_prefix, virtual_prefix, allow_unknown_filter, rdcc_nslots, rdcc_nbytes, rdcc_w0)\u001b[0m\n\u001b[0;32m    163\u001b[0m     sid \u001b[39m=\u001b[39m h5s\u001b[39m.\u001b[39mcreate_simple(shape, maxshape)\n\u001b[1;32m--> 165\u001b[0m dset_id \u001b[39m=\u001b[39m h5d\u001b[39m.\u001b[39;49mcreate(parent\u001b[39m.\u001b[39;49mid, name, tid, sid, dcpl\u001b[39m=\u001b[39;49mdcpl, dapl\u001b[39m=\u001b[39;49mdapl)\n\u001b[0;32m    167\u001b[0m \u001b[39mif\u001b[39;00m (data \u001b[39mis\u001b[39;00m \u001b[39mnot\u001b[39;00m \u001b[39mNone\u001b[39;00m) \u001b[39mand\u001b[39;00m (\u001b[39mnot\u001b[39;00m \u001b[39misinstance\u001b[39m(data, Empty)):\n",
      "File \u001b[1;32mh5py\\_objects.pyx:54\u001b[0m, in \u001b[0;36mh5py._objects.with_phil.wrapper\u001b[1;34m()\u001b[0m\n",
      "File \u001b[1;32mh5py\\_objects.pyx:55\u001b[0m, in \u001b[0;36mh5py._objects.with_phil.wrapper\u001b[1;34m()\u001b[0m\n",
      "File \u001b[1;32mh5py\\h5d.pyx:135\u001b[0m, in \u001b[0;36mh5py.h5d.create\u001b[1;34m()\u001b[0m\n",
      "\u001b[1;31mValueError\u001b[0m: Unable to create dataset (name already exists)",
      "\nThe above exception was the direct cause of the following exception:\n",
      "\u001b[1;31mEmitLoopError\u001b[0m                             Traceback (most recent call last)",
      "File \u001b[1;32mc:\\Users\\carspi\\AppData\\Local\\miniconda3\\envs\\abbott\\lib\\site-packages\\magicgui\\widgets\\bases\\_value_widget.py:65\u001b[0m, in \u001b[0;36mValueWidget._on_value_change\u001b[1;34m(self, value)\u001b[0m\n\u001b[0;32m     63\u001b[0m \u001b[39mif\u001b[39;00m value \u001b[39mis\u001b[39;00m \u001b[39mself\u001b[39m\u001b[39m.\u001b[39mnull_value \u001b[39mand\u001b[39;00m \u001b[39mnot\u001b[39;00m \u001b[39mself\u001b[39m\u001b[39m.\u001b[39m_nullable:\n\u001b[0;32m     64\u001b[0m     \u001b[39mreturn\u001b[39;00m\n\u001b[1;32m---> 65\u001b[0m \u001b[39mself\u001b[39;49m\u001b[39m.\u001b[39;49mchanged\u001b[39m.\u001b[39;49memit(value)\n",
      "File \u001b[1;32msrc\\psygnal\\_signal.py:905\u001b[0m, in \u001b[0;36memit\u001b[1;34m()\u001b[0m\n",
      "File \u001b[1;32msrc\\psygnal\\_signal.py:952\u001b[0m, in \u001b[0;36m_run_emit_loop\u001b[1;34m()\u001b[0m\n",
      "\u001b[1;31mEmitLoopError\u001b[0m: calling <psygnal._weak_callback._StrongFunction object at 0x00000161DD58F140> with args=(False,) caused ValueError: Unable to create dataset (name already exists)."
     ]
    },
    {
     "ename": "EmitLoopError",
     "evalue": "calling <psygnal._weak_callback._StrongFunction object at 0x00000161DD58F140> with args=(False,) caused ValueError: Unable to create dataset (name already exists).",
     "output_type": "error",
     "traceback": [
      "\u001b[1;31m---------------------------------------------------------------------------\u001b[0m",
      "\u001b[1;31mValueError\u001b[0m                                Traceback (most recent call last)",
      "File \u001b[1;32msrc\\psygnal\\_signal.py:950\u001b[0m, in \u001b[0;36m_run_emit_loop\u001b[1;34m()\u001b[0m\n",
      "File \u001b[1;32msrc\\psygnal\\_weak_callback.py:262\u001b[0m, in \u001b[0;36mcb\u001b[1;34m()\u001b[0m\n",
      "File \u001b[1;32mc:\\Users\\carspi\\AppData\\Local\\miniconda3\\envs\\abbott\\lib\\site-packages\\magicgui\\widgets\\_function_gui.py:218\u001b[0m, in \u001b[0;36mFunctionGui.__init__.<locals>._disable_button_and_call\u001b[1;34m()\u001b[0m\n\u001b[0;32m    217\u001b[0m \u001b[39mtry\u001b[39;00m:\n\u001b[1;32m--> 218\u001b[0m     \u001b[39mself\u001b[39;49m\u001b[39m.\u001b[39;49m\u001b[39m__call__\u001b[39;49m()\n\u001b[0;32m    219\u001b[0m \u001b[39mfinally\u001b[39;00m:\n",
      "File \u001b[1;32mc:\\Users\\carspi\\AppData\\Local\\miniconda3\\envs\\abbott\\lib\\site-packages\\magicgui\\widgets\\_function_gui.py:331\u001b[0m, in \u001b[0;36mFunctionGui.__call__\u001b[1;34m(self, update_widget, *args, **kwargs)\u001b[0m\n\u001b[0;32m    330\u001b[0m \u001b[39mwith\u001b[39;00m _function_name_pointing_to_widget(\u001b[39mself\u001b[39m):\n\u001b[1;32m--> 331\u001b[0m     value \u001b[39m=\u001b[39m \u001b[39mself\u001b[39m\u001b[39m.\u001b[39m_function(\u001b[39m*\u001b[39mbound\u001b[39m.\u001b[39margs, \u001b[39m*\u001b[39m\u001b[39m*\u001b[39mbound\u001b[39m.\u001b[39mkwargs)\n\u001b[0;32m    333\u001b[0m \u001b[39mself\u001b[39m\u001b[39m.\u001b[39m_call_count \u001b[39m+\u001b[39m\u001b[39m=\u001b[39m \u001b[39m1\u001b[39m\n",
      "Cell \u001b[1;32mIn[1], line 24\u001b[0m, in \u001b[0;36msave_changes\u001b[1;34m(label)\u001b[0m\n\u001b[0;32m     22\u001b[0m \u001b[39mwith\u001b[39;00m h5py\u001b[39m.\u001b[39mFile(fn, \u001b[39m'\u001b[39m\u001b[39ma\u001b[39m\u001b[39m'\u001b[39m) \u001b[39mas\u001b[39;00m f_out:\n\u001b[0;32m     23\u001b[0m     \u001b[39m#to_copy = h5_select(f_out, {'level': 1, 'stain': 'embryo'})[0]\u001b[39;00m\n\u001b[1;32m---> 24\u001b[0m     dset \u001b[39m=\u001b[39m f_out\u001b[39m.\u001b[39;49mcreate_dataset(\u001b[39m'\u001b[39;49m\u001b[39mmask_cleanup_corrected/1\u001b[39;49m\u001b[39m'\u001b[39;49m, data \u001b[39m=\u001b[39;49m label\u001b[39m.\u001b[39;49mdata)\n\u001b[0;32m     25\u001b[0m     h5_write_attributes(dset, {\u001b[39m'\u001b[39m\u001b[39mlevel\u001b[39m\u001b[39m'\u001b[39m: \u001b[39m1\u001b[39m, \u001b[39m'\u001b[39m\u001b[39mstain\u001b[39m\u001b[39m'\u001b[39m: \u001b[39m'\u001b[39m\u001b[39membryo\u001b[39m\u001b[39m'\u001b[39m, \u001b[39m\"\u001b[39m\u001b[39mcycle\u001b[39m\u001b[39m\"\u001b[39m:\u001b[39m\"\u001b[39m\u001b[39m0\u001b[39m\u001b[39m\"\u001b[39m, \u001b[39m\"\u001b[39m\u001b[39mimg_type\u001b[39m\u001b[39m\"\u001b[39m:\u001b[39m\"\u001b[39m\u001b[39mlabel\u001b[39m\u001b[39m\"\u001b[39m,\u001b[39m\"\u001b[39m\u001b[39melement_size_um\u001b[39m\u001b[39m\"\u001b[39m: [\u001b[39m3.0\u001b[39m, \u001b[39m2.6\u001b[39m, \u001b[39m2.6\u001b[39m]})\n",
      "File \u001b[1;32mc:\\Users\\carspi\\AppData\\Local\\miniconda3\\envs\\abbott\\lib\\site-packages\\h5py\\_hl\\group.py:183\u001b[0m, in \u001b[0;36mGroup.create_dataset\u001b[1;34m(self, name, shape, dtype, data, **kwds)\u001b[0m\n\u001b[0;32m    181\u001b[0m         group \u001b[39m=\u001b[39m \u001b[39mself\u001b[39m\u001b[39m.\u001b[39mrequire_group(parent_path)\n\u001b[1;32m--> 183\u001b[0m dsid \u001b[39m=\u001b[39m dataset\u001b[39m.\u001b[39mmake_new_dset(group, shape, dtype, data, name, \u001b[39m*\u001b[39m\u001b[39m*\u001b[39mkwds)\n\u001b[0;32m    184\u001b[0m dset \u001b[39m=\u001b[39m dataset\u001b[39m.\u001b[39mDataset(dsid)\n",
      "File \u001b[1;32mc:\\Users\\carspi\\AppData\\Local\\miniconda3\\envs\\abbott\\lib\\site-packages\\h5py\\_hl\\dataset.py:165\u001b[0m, in \u001b[0;36mmake_new_dset\u001b[1;34m(parent, shape, dtype, data, name, chunks, compression, shuffle, fletcher32, maxshape, compression_opts, fillvalue, scaleoffset, track_times, external, track_order, dcpl, dapl, efile_prefix, virtual_prefix, allow_unknown_filter, rdcc_nslots, rdcc_nbytes, rdcc_w0)\u001b[0m\n\u001b[0;32m    163\u001b[0m     sid \u001b[39m=\u001b[39m h5s\u001b[39m.\u001b[39mcreate_simple(shape, maxshape)\n\u001b[1;32m--> 165\u001b[0m dset_id \u001b[39m=\u001b[39m h5d\u001b[39m.\u001b[39;49mcreate(parent\u001b[39m.\u001b[39;49mid, name, tid, sid, dcpl\u001b[39m=\u001b[39;49mdcpl, dapl\u001b[39m=\u001b[39;49mdapl)\n\u001b[0;32m    167\u001b[0m \u001b[39mif\u001b[39;00m (data \u001b[39mis\u001b[39;00m \u001b[39mnot\u001b[39;00m \u001b[39mNone\u001b[39;00m) \u001b[39mand\u001b[39;00m (\u001b[39mnot\u001b[39;00m \u001b[39misinstance\u001b[39m(data, Empty)):\n",
      "File \u001b[1;32mh5py\\_objects.pyx:54\u001b[0m, in \u001b[0;36mh5py._objects.with_phil.wrapper\u001b[1;34m()\u001b[0m\n",
      "File \u001b[1;32mh5py\\_objects.pyx:55\u001b[0m, in \u001b[0;36mh5py._objects.with_phil.wrapper\u001b[1;34m()\u001b[0m\n",
      "File \u001b[1;32mh5py\\h5d.pyx:135\u001b[0m, in \u001b[0;36mh5py.h5d.create\u001b[1;34m()\u001b[0m\n",
      "\u001b[1;31mValueError\u001b[0m: Unable to create dataset (name already exists)",
      "\nThe above exception was the direct cause of the following exception:\n",
      "\u001b[1;31mEmitLoopError\u001b[0m                             Traceback (most recent call last)",
      "File \u001b[1;32mc:\\Users\\carspi\\AppData\\Local\\miniconda3\\envs\\abbott\\lib\\site-packages\\magicgui\\widgets\\bases\\_value_widget.py:65\u001b[0m, in \u001b[0;36mValueWidget._on_value_change\u001b[1;34m(self, value)\u001b[0m\n\u001b[0;32m     63\u001b[0m \u001b[39mif\u001b[39;00m value \u001b[39mis\u001b[39;00m \u001b[39mself\u001b[39m\u001b[39m.\u001b[39mnull_value \u001b[39mand\u001b[39;00m \u001b[39mnot\u001b[39;00m \u001b[39mself\u001b[39m\u001b[39m.\u001b[39m_nullable:\n\u001b[0;32m     64\u001b[0m     \u001b[39mreturn\u001b[39;00m\n\u001b[1;32m---> 65\u001b[0m \u001b[39mself\u001b[39;49m\u001b[39m.\u001b[39;49mchanged\u001b[39m.\u001b[39;49memit(value)\n",
      "File \u001b[1;32msrc\\psygnal\\_signal.py:905\u001b[0m, in \u001b[0;36memit\u001b[1;34m()\u001b[0m\n",
      "File \u001b[1;32msrc\\psygnal\\_signal.py:952\u001b[0m, in \u001b[0;36m_run_emit_loop\u001b[1;34m()\u001b[0m\n",
      "\u001b[1;31mEmitLoopError\u001b[0m: calling <psygnal._weak_callback._StrongFunction object at 0x00000161DD58F140> with args=(False,) caused ValueError: Unable to create dataset (name already exists)."
     ]
    }
   ],
   "source": [
    "import napari\n",
    "import h5py\n",
    "from pathlib import Path\n",
    "from napari.layers import Labels\n",
    "from abbott.h5_files import h5_select, h5_copy_attributes, h5_write_attributes\n",
    "from magicgui import magicgui\n",
    "\n",
    "#fn = Path(\"/Volumes/active-1/carspi/test/ETiX-Cer1-SBR1_s5.h5\") \n",
    "\n",
    "#fld = fn.parent\n",
    "fld = Path(r\"Q:\\carspi\\Test\")\n",
    "\n",
    "\n",
    "for fn in fld.glob('*.h5'):\n",
    "    with h5py.File(fn) as f:\n",
    "        bf = h5_select(f, {'level': 1, 'stain': 'brightfield'})[0][...]\n",
    "        mask = f['mask_cleanup_corrected/1'][...]\n",
    "        #mask = h5_select(f, {'level': 1, 'stain': 'cleanup'})[0][...]\n",
    "\n",
    "    @magicgui(call_button= \"Save Changes\")\n",
    "    def save_changes(label: Labels):\n",
    "        with h5py.File(fn, 'a') as f_out:\n",
    "            #to_copy = h5_select(f_out, {'level': 1, 'stain': 'embryo'})[0]\n",
    "            dset = f_out.create_dataset('mask_cleanup_corrected/1', data = label.data)\n",
    "            h5_write_attributes(dset, {'level': 1, 'stain': 'embryo', \"cycle\":\"0\", \"img_type\":\"label\",\"element_size_um\": [3.0, 2.6, 2.6]})\n",
    "\n",
    "    viewer = napari.Viewer()\n",
    "    brightfield = viewer.add_image(bf)\n",
    "    mask = viewer.add_labels(mask)\n",
    "\n",
    "    viewer.window.add_dock_widget(save_changes)\n",
    "    viewer.show(block = True)"
   ]
  },
  {
   "cell_type": "code",
   "execution_count": null,
   "metadata": {},
   "outputs": [],
   "source": [
    "from abbott.h5_files import h5_summary\n",
    "\n",
    "\n",
    "print(h5_summary(\"Q:\\carspi\\Test\\ETiX-SBR_Cer11_s295.h5\"))"
   ]
  }
 ],
 "metadata": {
  "kernelspec": {
   "display_name": "abbott",
   "language": "python",
   "name": "python3"
  },
  "language_info": {
   "codemirror_mode": {
    "name": "ipython",
    "version": 3
   },
   "file_extension": ".py",
   "mimetype": "text/x-python",
   "name": "python",
   "nbconvert_exporter": "python",
   "pygments_lexer": "ipython3",
   "version": "3.10.10"
  },
  "orig_nbformat": 4
 },
 "nbformat": 4,
 "nbformat_minor": 2
}
